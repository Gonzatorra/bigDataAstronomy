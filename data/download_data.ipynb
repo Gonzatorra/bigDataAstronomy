{
 "cells": [
  {
   "cell_type": "markdown",
   "id": "8f44176f",
   "metadata": {},
   "source": [
    "# Downloading data"
   ]
  },
  {
   "attachments": {},
   "cell_type": "markdown",
   "id": "602d40e8",
   "metadata": {},
   "source": [
    "In this Jupiter Notebook you will know how to download the data to use it in the code."
   ]
  },
  {
   "attachments": {},
   "cell_type": "markdown",
   "id": "30caddee",
   "metadata": {},
   "source": [
    "## CSV"
   ]
  },
  {
   "cell_type": "markdown",
   "id": "74c16ffd",
   "metadata": {},
   "source": [
    "1. To take the data you have to enter the following link:\n",
    "https://skyserver.sdss.org/CasJobs/"
   ]
  },
  {
   "cell_type": "markdown",
   "id": "855f1d6e",
   "metadata": {},
   "source": [
    "2. Once you have signed up/login in, you will reach ths window:\n",
    "![](images/DownloadData1.png)"
   ]
  },
  {
   "cell_type": "markdown",
   "id": "becb62dc",
   "metadata": {},
   "source": [
    "3. There you have to put the next query:"
   ]
  },
  {
   "cell_type": "code",
   "execution_count": null,
   "id": "5f34a17c",
   "metadata": {
    "vscode": {
     "languageId": "plaintext"
    }
   },
   "outputs": [],
   "source": [
    "SELECT objID, ra, dec, type,  \n",
    "       petroRad_u, petroRad_g, petroRad_r, petroRad_i, petroRad_z,  \n",
    "       modelMag_u, modelMag_g, modelMag_r, modelMag_i, modelMag_z,  \n",
    "       psfMag_u, psfMag_g, psfMag_r, psfMag_i, psfMag_z,  \n",
    "       (modelMag_u - modelMag_g) AS u_g,  \n",
    "       (modelMag_g - modelMag_r) AS g_r,  \n",
    "       (modelMag_r - modelMag_i) AS r_i,  \n",
    "       (modelMag_i - modelMag_z) AS i_z,  \n",
    "       fracDeV_u, fracDeV_g, fracDeV_r, fracDeV_i, fracDeV_z,  \n",
    "       flags, clean  \n",
    "INTO mydb.primaryObjs  \n",
    "FROM dr16.PhotoPrimary  \n",
    "WHERE type IN (3, 6, 1)  \n",
    "AND clean = 1  \n",
    "AND modelMag_r BETWEEN 14 AND 22  \n",
    "AND petroRad_r > 0"
   ]
  },
  {
   "cell_type": "markdown",
   "id": "5f0b549b",
   "metadata": {},
   "source": [
    "4. To check the sintax you can either press Ctrl + S or press the sintax button (top right).\n",
    "5. Once the sintax is OK, you have to press the Submit button (top right).\n",
    "\n",
    "![](images/DownloadData2.png)"
   ]
  },
  {
   "cell_type": "markdown",
   "id": "be79989b",
   "metadata": {},
   "source": [
    "6. You will reach the following window, which means that the query is beign processed by the web page.\n",
    "\n",
    "![](images/DownloadData3.png)"
   ]
  },
  {
   "cell_type": "markdown",
   "id": "42be1216",
   "metadata": {},
   "source": [
    "7. The status will be \"Failed\" because you will reach the maximum memory of your user, because in the query you do not especify a limit of rows.\n",
    "\n",
    "![](images/DownloadData4.png)"
   ]
  },
  {
   "cell_type": "markdown",
   "id": "0df041a7",
   "metadata": {},
   "source": [
    "8. Now, you have to click \"MyDB\" on the top and you will reach the following window:\n",
    "![](images/DownloadData5.png)"
   ]
  },
  {
   "cell_type": "markdown",
   "id": "a0503542",
   "metadata": {},
   "source": [
    "On the left, you have the CSVs that you have processed. You have to select the one you want, clicking in the name. In this case, clicking in \"primaryObjs\"."
   ]
  },
  {
   "cell_type": "markdown",
   "id": "eecbf3fe",
   "metadata": {},
   "source": [
    "9. You will see that a table appears. On the top of it you have to click download and then, click go.\n",
    "![](images/DownloadData6.png)"
   ]
  },
  {
   "cell_type": "markdown",
   "id": "41cc1f72",
   "metadata": {},
   "source": [
    "10. To finish you will reach the following window:\n",
    "\n",
    "![](images/DownloadData7.png)"
   ]
  },
  {
   "cell_type": "markdown",
   "id": "0f70f6ab",
   "metadata": {},
   "source": [
    "11. The CSV will be downloaded."
   ]
  },
  {
   "attachments": {},
   "cell_type": "markdown",
   "id": "2ffc3037",
   "metadata": {},
   "source": [
    "## Images"
   ]
  },
  {
   "attachments": {},
   "cell_type": "markdown",
   "id": "00e06fba",
   "metadata": {},
   "source": [
    "The principal Jupiter Notebook has a cell to download the data in the correct folder, format,...\n",
    "\n",
    "**IMPORTANT**: If you have a big CSV (3.5 million rows in my case), the download of the images will take much time. My recommendation is to get a big set of images and then get the proportions manually, without waiting to download the 3.5 million images. In other words, keep the distribution of classes in the three sets (train, test and validation) the same. For example:\n",
    "\n",
    "![](images/distribution.png)\n",
    "\n",
    "To see if you have done it correclty, there is a plot to verify it(the one seen in the image)."
   ]
  }
 ],
 "metadata": {
  "language_info": {
   "name": "python"
  }
 },
 "nbformat": 4,
 "nbformat_minor": 5
}
