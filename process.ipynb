{
 "cells": [
  {
   "attachments": {},
   "cell_type": "markdown",
   "metadata": {},
   "source": [
    "# Objective of the project 🚀"
   ]
  },
  {
   "attachments": {},
   "cell_type": "markdown",
   "metadata": {},
   "source": [
    "My objective is to create a machine learning model for object classification and then, try and compare it with a convolutional neural network (CNN) for images. For that, I will use Spark MLlib to train and evaluate the model. Secondly, create the CNN and compare both 🪐\n",
    "\n",
    "\n"
   ]
  },
  {
   "attachments": {},
   "cell_type": "markdown",
   "metadata": {},
   "source": [
    "# First Steps"
   ]
  },
  {
   "attachments": {},
   "cell_type": "markdown",
   "metadata": {},
   "source": [
    "## Download the data"
   ]
  },
  {
   "attachments": {},
   "cell_type": "markdown",
   "metadata": {},
   "source": [
    "The source of the data is: https://skyserver.sdss.org/CasJobs/\n",
    "It is necessary to register and login a user to download the data you want. Then, you have to make a query specifying:\n",
    "- Amount of rows\n",
    "- Columns\n",
    "- Where to keep the csv\n",
    "- The database\n",
    "\n",
    "As I want to get as much as possible data, I will not a maximum of rows.\n",
    "\n",
    "I also add a \"where\" so I can get only data from planets, galaxies and stars:\n",
    "- type = 3: Galaxies\n",
    "- type = 6: Stars\n",
    "\n",
    "and I downloaded the dataset to start working with it."
   ]
  },
  {
   "attachments": {},
   "cell_type": "markdown",
   "metadata": {},
   "source": [
    "<img src=\"/home/haizeagonzalez/myproject/bigDataAstronomy/notebookImages/img1.png\">"
   ]
  },
  {
   "cell_type": "markdown",
   "metadata": {},
   "source": [
    "## Understanding the data"
   ]
  },
  {
   "cell_type": "markdown",
   "metadata": {},
   "source": [
    "The columns we have are:\n",
    "- objID: Unique identifier of the object → TYPE bigInt\n",
    "- ra: Right ascension → TYPE float\n",
    "- dec: Declination → TYPE float\n",
    "- petroRad: Petrosian radius, used to know the size of galaxies in astronomical pictures. It is the amount of light that a galaxy emits in a sepecific radius. Very used because it is independent of the distance and brightness. We use different photometric filters:\n",
    "    - petroRad_u: Near-ultraviolet\n",
    "    - petroRad_g: Blue-Green\n",
    "    - petroRad_r: Red\n",
    "    - petroRad_i: Near-infrared\n",
    "    - petroRad_z: Deeper infrared\n",
    " → TYPE: Real\n",
    "\n",
    "- modelMag: Brightness measure adjusted to a galaxy model. Usual for galaxies. Also for all filters (u, g, r, i and z) → TYPE Real\n",
    "- psfMag: Brightness measure based on the point source light profile. Usual for stars. Also for all filters (u, g, r, i and z) → TYPE Real\n",
    "- u_g: (modelMag_u - modelMag_g)\n",
    "- g_r: (modelMag_g - modelMag_r)\n",
    "- r_i: (modelMag_r - modelMag_i)\n",
    "- i_z: (modelMag_i - modelMag_z)\n",
    "- fracDeV: The amount of brightness that the object has in the De Vaucouleurs profile. Also for all filters (u, g, r, i and z) → TYPE Real\n",
    "- flags: Bit comination that explains different characteristics of the object. If we convert it to binary and check SDSS documentarion, we get a meaning for each bit → TYPE bigInt\n",
    "- clean: Indicator that tell us if the object was cleaned → TYPE int\n",
    "\n"
   ]
  },
  {
   "cell_type": "markdown",
   "metadata": {},
   "source": [
    "### What for?"
   ]
  },
  {
   "cell_type": "markdown",
   "metadata": {},
   "source": [
    "PetroRad:\n",
    "- Stars: Small and constant in all filters.\n",
    "- Galaxies: Bigger and variates depending on the wavelengths.\n",
    "\n",
    "ModelMag and psfMag:\n",
    "- In the red filter:\n",
    "    - Stars: modelMag_r ≈ psfMag_r\n",
    "    - Galaxies: modelMag_r > psfMag_r\n",
    "- In other filers:\n",
    "    - Galaxies are usuarlly more red  (modelMag_g - modelMag_r is big).\n",
    "    - Stars has different colors depending on their type.\n",
    "\n",
    "fracDeV:\n",
    "- Stars: fracDeV ≈ 0.\n",
    "- Galaxies: fracDeV ≈ 1 (eliptic) or fracDeV < 1 (espiral).\n",
    "\n"
   ]
  },
  {
   "attachments": {},
   "cell_type": "markdown",
   "metadata": {},
   "source": [
    "# Spark"
   ]
  },
  {
   "cell_type": "markdown",
   "metadata": {},
   "source": [
    "## Spark configuration"
   ]
  },
  {
   "cell_type": "markdown",
   "metadata": {},
   "source": [
    "First, we need to create a spark sesion in case there is no one or get if there exists: \"getOrCreate\". I also decided to create a log in case there is any error during the process."
   ]
  },
  {
   "cell_type": "code",
   "execution_count": 1,
   "metadata": {},
   "outputs": [
    {
     "name": "stderr",
     "output_type": "stream",
     "text": [
      "your 131072x1 screen size is bogus. expect trouble\n",
      "25/03/24 17:13:48 WARN Utils: Your hostname, SSMRS3-04899600 resolves to a loopback address: 127.0.1.1; using 10.255.255.254 instead (on interface lo)\n",
      "25/03/24 17:13:48 WARN Utils: Set SPARK_LOCAL_IP if you need to bind to another address\n",
      "Setting default log level to \"WARN\".\n",
      "To adjust logging level use sc.setLogLevel(newLevel). For SparkR, use setLogLevel(newLevel).\n",
      "25/03/24 17:13:49 WARN NativeCodeLoader: Unable to load native-hadoop library for your platform... using builtin-java classes where applicable\n"
     ]
    }
   ],
   "source": [
    "from pyspark.sql import SparkSession\n",
    "\n",
    "spark = SparkSession.builder \\\n",
    "    .appName(\"bigDataAstronomyProject\") \\\n",
    "    .config(\"spark.executor.memory\", \"8g\") \\\n",
    "    .config(\"spark.driver.memory\", \"4g\") \\\n",
    "    .config(\"spark.executor.cores\", \"4\") \\\n",
    "    .config(\"spark.executor.instances\", \"1\") \\\n",
    "    .getOrCreate()\n",
    "\n",
    "spark.sparkContext.setLogLevel(\"ERROR\")"
   ]
  },
  {
   "cell_type": "markdown",
   "metadata": {},
   "source": [
    "Then, we need to read de csv data."
   ]
  },
  {
   "cell_type": "code",
   "execution_count": 2,
   "metadata": {},
   "outputs": [
    {
     "name": "stdout",
     "output_type": "stream",
     "text": [
      "3500000\n",
      "3399000\n",
      "6899000\n"
     ]
    }
   ],
   "source": [
    "path = \"/home/haizeagonzalez/bigDataProject/primaryObjs.csv\"\n",
    "path2 = \"/home/haizeagonzalez/myproject/primaryObjs.csv\"\n",
    "path3 = \"/home/haizeagonzalez/myproject/primaryObjs2.csv\"\n",
    "\n",
    "df = spark.read.csv(path2, header=True)\n",
    "print(df.count())\n",
    "df2 = spark.read.csv(path3, header=True)\n",
    "print(df2.count())\n",
    "\n",
    "df = df.union(df2)\n",
    "print(df.count())"
   ]
  },
  {
   "cell_type": "markdown",
   "metadata": {},
   "source": [
    "Now, we are going to check if the data is correctly loaded."
   ]
  },
  {
   "cell_type": "code",
   "execution_count": 3,
   "metadata": {},
   "outputs": [
    {
     "name": "stdout",
     "output_type": "stream",
     "text": [
      "+-------------------+----------------+------------------+----+----------+----------+----------+----------+----------+----------+----------+----------+----------+----------+--------+--------+--------+--------+--------+---------+---------+-------------+----------+---------+---------+---------+---------+----------+---------------+-----+\n",
      "|              objID|              ra|               dec|type|petroRad_u|petroRad_g|petroRad_r|petroRad_i|petroRad_z|modelMag_u|modelMag_g|modelMag_r|modelMag_i|modelMag_z|psfMag_u|psfMag_g|psfMag_r|psfMag_i|psfMag_z|      u_g|      g_r|          r_i|       i_z|fracDeV_u|fracDeV_g|fracDeV_r|fracDeV_i| fracDeV_z|          flags|clean|\n",
      "+-------------------+----------------+------------------+----+----------+----------+----------+----------+----------+----------+----------+----------+----------+----------+--------+--------+--------+--------+--------+---------+---------+-------------+----------+---------+---------+---------+---------+----------+---------------+-----+\n",
      "|1237648704596673591|228.133205738866| 0.189419197306071|   3|  2.969285|  2.969369|  2.220518|  1.249783|   1.62232|  23.71841|  23.55119|  21.70663|  21.07082|  20.94918|23.71531|24.25853|22.41145|21.53375|21.45539|0.1672249| 1.844557|    0.6358051| 0.1216412|        1|        0|        1|        1|         1|316730484195600|    1|\n",
      "|1237648704596673595|228.132667119533| 0.155016320524743|   3|  2.969285|  1.167545|    1.7132|  4.193829|  1.581682|  26.23039|  23.06768|  21.60064|  21.04392|  20.49498|25.81252|23.30065|22.16619|21.59607|20.93345|  3.16271| 1.467041|    0.5567226|  0.548933|        0|        1|0.5398329|        1|         0|    68987912448|    1|\n",
      "|1237648704596673596|228.133591481833|0.0626739181110149|   6|  7.357505|  1.317162|  1.048602|  0.980907| 0.9447467|   23.2214|  21.66433|  20.29408|  19.12956|  18.53254|23.29687|21.69403|20.32223|19.14626|18.55519| 1.557074| 1.370243|     1.164522| 0.5970211|        1|        1|        1|        0|         0|    69055021384|    1|\n",
      "|1237648704596673597|228.134526612738| 0.184396878919884|   3|  4.583073|  1.801946|  1.712365|  1.611359|  1.693891|  24.13848|   22.0195|  21.33374|  21.02932|  21.22839|24.35229| 22.5369|21.95571|21.76257|21.68405| 2.118977|0.6857586|    0.3044224|-0.1990643|0.2213039|        0|        0|        0|         0|    68987912448|    1|\n",
      "|1237648704596673600|228.134746034796|0.0513303225187829|   3|  7.357505|  1.275892|  1.897987|  2.219621|  2.806328|  25.94563|  22.67289|  20.76974|  20.01449|   19.5253|25.25427|23.28042|21.51431|20.77017|20.30231| 3.272739| 1.903149|    0.7552528|  0.489193|        1|        0|0.8176387|        1|0.05972257|    68987912448|    1|\n",
      "|1237648704596673601|228.135436960298|0.0465206752009805|   3|  1.529451|  1.516517|  1.452753|  3.800702|  2.970232|  22.62748|  22.42105|  21.79902|  21.57086|  22.21361|22.84985|22.74921|22.23782|21.97033|22.15221|0.2064247|0.6220398|    0.2281551|-0.6427536|        1|        1|        0|        1|         1|    68987912448|    1|\n",
      "|1237648704596673602|228.135810120824|0.0383140532919898|   3|  1.823351|  2.052975|  1.442957|  1.195688|  1.241435|  23.31253|  22.18809|  21.72752|    21.728|  21.49295|23.47264|22.53271|22.08589|    22.1|21.72621| 1.124439|0.4605713|-0.0004806519| 0.2350483|        1|0.7402861| 0.160501|0.3372153| 0.7511653|    68987912192|    1|\n",
      "|1237648704596673603|228.135706969247| 0.135016964266971|   6| 0.7134073|  1.140595|  1.132749| 0.9277821|  0.931531|  24.37991|  22.96101|  21.76162|  20.41283|  19.70002|24.20988|22.96505|21.82184|20.45126|19.70096| 1.418892| 1.199396|     1.348785| 0.7128162|        0|        1|        0|        1|         0|    68987912192|    1|\n",
      "|1237648704596673605|228.137119120399| 0.138930706793513|   3|  2.969285|  2.969369|  2.519946|  2.969986|  7.359852|  23.42524|  22.22177|  21.80001|  22.03525|  23.73267|24.56458|23.02275|22.87213|23.26385|23.09968| 1.203466|0.4217625|    -0.235239| -1.697422|        0|        0|        0|        0|         1|281543964623104|    1|\n",
      "|1237648704596673613|228.138360776843|0.0731866066746134|   3|  1.046744|   1.88157|  1.307295| 0.9633411|  1.562622|  23.02948|  22.25664|  21.87386|  21.54906|  21.34355|22.90016|22.49634|22.23204|21.75176|21.65852|0.7728405|0.3827801|    0.3247986| 0.2055111|        1|        1|        0|        1|         0|105555532185616|    1|\n",
      "|1237648704596673615|228.138386598436| 0.187229164179413|   6|  1.083686|  1.201956| 0.9640225| 0.9422169|  1.116567|  23.75787|  22.49124|   21.1148|  20.39421|  19.97207|23.75588|22.50238|21.15819|20.42044| 20.0078| 1.266636| 1.376434|    0.7205887|  0.422142|        1|        1|0.9983205|        0|         0|    68987912192|    1|\n",
      "|1237648704596673616|228.138678791242|0.0125585461003744|   3|  2.905516|   2.37311|   2.34492|  2.162898|  2.206184|  22.42896|  21.56379|  20.59733|  19.86494|  19.63614|23.12312|22.40815|21.56322| 20.8563|20.60041|0.8651695|0.9664516|    0.7323971| 0.2287998|        1|        0|        0|        0|         0|  2450547277824|    1|\n",
      "|1237648704596673618|228.139331703426| 0.212781082931336|   6|  2.969285|   1.09076|   1.08924| 0.9051506|  1.057727|  25.92635|  23.35114|  21.78671|  20.63976|  19.91965|25.89036|23.30975|21.77252|20.63534|19.91474| 2.575216| 1.564421|     1.146955| 0.7201118|        0|        1|        0|        0|         0|    68987912448|    1|\n",
      "|1237648704596673620| 228.14091295114|0.0641572455788585|   6|  2.969285|  1.131206|  1.105575|  1.009262|  1.011155|  25.28518|  21.63824|  20.31469|  19.49671|  19.01631|25.20087|21.63558|20.32779|19.49734|19.02662| 3.646946| 1.323544|    0.8179798|  0.480402|        1|        0| 0.511569|        0|         1| 35253360001296|    1|\n",
      "|1237648704596673626| 228.14182144385|0.0425139072777563|   3| 0.9543655|  2.969369|  2.042264|  1.426649|  1.640048|  23.36676|  22.47925|  21.09399|  20.61784|  20.24213|23.61166|23.02375|21.73804|21.21591|20.80515|0.8875103| 1.385258|    0.4761486| 0.3757133|        1|        1|        1|0.6541844| 0.4127298| 17661174087936|    1|\n",
      "|1237648704596673630|228.142630123835|0.0980218578449677|   6|   27.9153|  1.133189|  2.300974|   2.93181|  1.672956|  25.39514|   23.0061|  21.70307|  20.86877|  20.44747|25.06125|22.99777|21.73359|20.86797|20.44591|  2.38904| 1.303038|    0.8342972| 0.4212971|        0|        0|        0|        1|         1| 35253360136976|    1|\n",
      "|1237648704596673633|228.142664146071| 0.197280424562705|   3|  2.969285|  2.969369|  1.437083|  1.543922| 0.8909767|  23.27159|  22.77104|  21.70474|  21.28639|  20.96748| 23.3143|23.06283|22.08174|21.67632|21.29585|0.5005493| 1.066303|    0.4183445| 0.3189125|        1|        1|        0| 0.286461|         1|105622104178960|    1|\n",
      "|1237648704596673636|228.143752563171|0.0624049229984539|   3|  0.691259|  2.969369|  1.262619|  1.890306|  2.575164|  23.24219|  22.31861|  21.90146|  21.72495|  21.07799|23.17297|22.68129|22.31081| 22.2052|21.41852|0.9235802|0.4171486|    0.1765156| 0.6469593|        1|        0|        0|        0|         0|  2416187540224|    1|\n",
      "|1237648704596673637|228.144495675809| 0.111100316350891|   6| 0.8216941| 0.9715834| 0.9761356| 0.9204842| 0.9451327|  24.14613|   22.8366|   21.5246|  20.31857|  19.64246|24.20292|22.84755|21.48754|20.30396|19.65173| 1.309528| 1.312006|     1.206022| 0.6761169|        0|        1|        0|        1|         1|    68987912192|    1|\n",
      "|1237648704596673639|228.144350348705|0.0484642813853641|   3|  1.962816|  1.365865|  1.481539|  1.819084|  1.651328|  22.93299|   22.2439|  21.15378|  20.66732|   20.4084|23.29018|22.57443| 21.5526|21.11196|21.01716|0.6890869| 1.090128|    0.4864521| 0.2589226|        0|        0|        0|0.3870666|         0| 35253360001040|    1|\n",
      "+-------------------+----------------+------------------+----+----------+----------+----------+----------+----------+----------+----------+----------+----------+----------+--------+--------+--------+--------+--------+---------+---------+-------------+----------+---------+---------+---------+---------+----------+---------------+-----+\n",
      "only showing top 20 rows\n",
      "\n"
     ]
    }
   ],
   "source": [
    "df.show()"
   ]
  },
  {
   "cell_type": "markdown",
   "metadata": {},
   "source": [
    "The schema and the chacacteristics of the data."
   ]
  },
  {
   "cell_type": "code",
   "execution_count": 4,
   "metadata": {},
   "outputs": [
    {
     "name": "stdout",
     "output_type": "stream",
     "text": [
      "root\n",
      " |-- objID: string (nullable = true)\n",
      " |-- ra: string (nullable = true)\n",
      " |-- dec: string (nullable = true)\n",
      " |-- type: string (nullable = true)\n",
      " |-- petroRad_u: string (nullable = true)\n",
      " |-- petroRad_g: string (nullable = true)\n",
      " |-- petroRad_r: string (nullable = true)\n",
      " |-- petroRad_i: string (nullable = true)\n",
      " |-- petroRad_z: string (nullable = true)\n",
      " |-- modelMag_u: string (nullable = true)\n",
      " |-- modelMag_g: string (nullable = true)\n",
      " |-- modelMag_r: string (nullable = true)\n",
      " |-- modelMag_i: string (nullable = true)\n",
      " |-- modelMag_z: string (nullable = true)\n",
      " |-- psfMag_u: string (nullable = true)\n",
      " |-- psfMag_g: string (nullable = true)\n",
      " |-- psfMag_r: string (nullable = true)\n",
      " |-- psfMag_i: string (nullable = true)\n",
      " |-- psfMag_z: string (nullable = true)\n",
      " |-- u_g: string (nullable = true)\n",
      " |-- g_r: string (nullable = true)\n",
      " |-- r_i: string (nullable = true)\n",
      " |-- i_z: string (nullable = true)\n",
      " |-- fracDeV_u: string (nullable = true)\n",
      " |-- fracDeV_g: string (nullable = true)\n",
      " |-- fracDeV_r: string (nullable = true)\n",
      " |-- fracDeV_i: string (nullable = true)\n",
      " |-- fracDeV_z: string (nullable = true)\n",
      " |-- flags: string (nullable = true)\n",
      " |-- clean: string (nullable = true)\n",
      "\n"
     ]
    }
   ],
   "source": [
    "df.printSchema()"
   ]
  },
  {
   "cell_type": "markdown",
   "metadata": {},
   "source": [
    "As all columns are string, we need to convert them into their type. For that:"
   ]
  },
  {
   "cell_type": "code",
   "execution_count": 5,
   "metadata": {},
   "outputs": [
    {
     "name": "stdout",
     "output_type": "stream",
     "text": [
      "root\n",
      " |-- objID: long (nullable = true)\n",
      " |-- ra: float (nullable = true)\n",
      " |-- dec: float (nullable = true)\n",
      " |-- type: string (nullable = true)\n",
      " |-- petroRad_u: float (nullable = true)\n",
      " |-- petroRad_g: float (nullable = true)\n",
      " |-- petroRad_r: float (nullable = true)\n",
      " |-- petroRad_i: float (nullable = true)\n",
      " |-- petroRad_z: float (nullable = true)\n",
      " |-- modelMag_u: float (nullable = true)\n",
      " |-- modelMag_g: float (nullable = true)\n",
      " |-- modelMag_r: float (nullable = true)\n",
      " |-- modelMag_i: float (nullable = true)\n",
      " |-- modelMag_z: float (nullable = true)\n",
      " |-- psfMag_u: float (nullable = true)\n",
      " |-- psfMag_g: float (nullable = true)\n",
      " |-- psfMag_r: float (nullable = true)\n",
      " |-- psfMag_i: float (nullable = true)\n",
      " |-- psfMag_z: float (nullable = true)\n",
      " |-- u_g: float (nullable = true)\n",
      " |-- g_r: float (nullable = true)\n",
      " |-- r_i: float (nullable = true)\n",
      " |-- i_z: float (nullable = true)\n",
      " |-- fracDeV_u: float (nullable = true)\n",
      " |-- fracDeV_g: float (nullable = true)\n",
      " |-- fracDeV_r: float (nullable = true)\n",
      " |-- fracDeV_i: float (nullable = true)\n",
      " |-- fracDeV_z: float (nullable = true)\n",
      " |-- flags: long (nullable = true)\n",
      " |-- clean: integer (nullable = true)\n",
      "\n"
     ]
    }
   ],
   "source": [
    "from pyspark.sql.functions import col\n",
    "\n",
    "df = df.withColumn(\"objID\", col(\"objID\").cast(\"long\")) \\\n",
    "       .withColumn(\"ra\", col(\"ra\").cast(\"float\")) \\\n",
    "       .withColumn(\"dec\", col(\"dec\").cast(\"float\")) \\\n",
    "       .withColumn(\"petroRad_u\", col(\"petroRad_u\").cast(\"float\")) \\\n",
    "       .withColumn(\"petroRad_g\", col(\"petroRad_g\").cast(\"float\")) \\\n",
    "       .withColumn(\"petroRad_r\", col(\"petroRad_r\").cast(\"float\")) \\\n",
    "       .withColumn(\"petroRad_i\", col(\"petroRad_i\").cast(\"float\")) \\\n",
    "       .withColumn(\"petroRad_z\", col(\"petroRad_z\").cast(\"float\")) \\\n",
    "       .withColumn(\"modelMag_u\", col(\"modelMag_u\").cast(\"float\")) \\\n",
    "       .withColumn(\"modelMag_g\", col(\"modelMag_g\").cast(\"float\")) \\\n",
    "       .withColumn(\"modelMag_r\", col(\"modelMag_r\").cast(\"float\")) \\\n",
    "       .withColumn(\"modelMag_i\", col(\"modelMag_i\").cast(\"float\")) \\\n",
    "       .withColumn(\"modelMag_z\", col(\"modelMag_z\").cast(\"float\")) \\\n",
    "       .withColumn(\"psfMag_u\", col(\"psfMag_u\").cast(\"float\")) \\\n",
    "       .withColumn(\"psfMag_g\", col(\"psfMag_g\").cast(\"float\")) \\\n",
    "       .withColumn(\"psfMag_r\", col(\"psfMag_r\").cast(\"float\")) \\\n",
    "       .withColumn(\"psfMag_i\", col(\"psfMag_i\").cast(\"float\")) \\\n",
    "       .withColumn(\"psfMag_z\", col(\"psfMag_z\").cast(\"float\")) \\\n",
    "       .withColumn(\"u_g\", col(\"u_g\").cast(\"float\")) \\\n",
    "       .withColumn(\"g_r\", col(\"g_r\").cast(\"float\")) \\\n",
    "       .withColumn(\"r_i\", col(\"r_i\").cast(\"float\")) \\\n",
    "       .withColumn(\"i_z\", col(\"i_z\").cast(\"float\")) \\\n",
    "       .withColumn(\"fracDeV_u\", col(\"fracDeV_u\").cast(\"float\")) \\\n",
    "       .withColumn(\"fracDeV_g\", col(\"fracDeV_g\").cast(\"float\")) \\\n",
    "       .withColumn(\"fracDeV_r\", col(\"fracDeV_r\").cast(\"float\")) \\\n",
    "       .withColumn(\"fracDeV_i\", col(\"fracDeV_i\").cast(\"float\")) \\\n",
    "       .withColumn(\"fracDeV_z\", col(\"fracDeV_z\").cast(\"float\")) \\\n",
    "       .withColumn(\"flags\", col(\"flags\").cast(\"long\")) \\\n",
    "       .withColumn(\"clean\", col(\"clean\").cast(\"int\"))\n",
    "\n",
    "df.printSchema()"
   ]
  },
  {
   "cell_type": "markdown",
   "metadata": {},
   "source": [
    "Now that we have all the structure, we are going to explore and clean the data."
   ]
  },
  {
   "attachments": {},
   "cell_type": "markdown",
   "metadata": {},
   "source": [
    "## Data cleaning and understanding"
   ]
  },
  {
   "attachments": {},
   "cell_type": "markdown",
   "metadata": {},
   "source": [
    "In principle, the data is cleaned because we get it from CasJobs and we apply clear filter to get good data. \n",
    "However, we are going to check whether there is any null value and the amount of galaxies and stars.  "
   ]
  },
  {
   "cell_type": "code",
   "execution_count": 6,
   "metadata": {},
   "outputs": [
    {
     "name": "stderr",
     "output_type": "stream",
     "text": [
      "[Stage 12:===============================>                       (32 + 24) / 56]\r"
     ]
    },
    {
     "name": "stdout",
     "output_type": "stream",
     "text": [
      "+-----+---+---+----+----------+----------+----------+----------+----------+----------+----------+----------+----------+----------+--------+--------+--------+--------+--------+---+---+---+---+---------+---------+---------+---------+---------+-----+-----+\n",
      "|objID| ra|dec|type|petroRad_u|petroRad_g|petroRad_r|petroRad_i|petroRad_z|modelMag_u|modelMag_g|modelMag_r|modelMag_i|modelMag_z|psfMag_u|psfMag_g|psfMag_r|psfMag_i|psfMag_z|u_g|g_r|r_i|i_z|fracDeV_u|fracDeV_g|fracDeV_r|fracDeV_i|fracDeV_z|flags|clean|\n",
      "+-----+---+---+----+----------+----------+----------+----------+----------+----------+----------+----------+----------+----------+--------+--------+--------+--------+--------+---+---+---+---+---------+---------+---------+---------+---------+-----+-----+\n",
      "|    0|  0|  0|   0|         0|         0|         0|         0|         0|         0|         0|         0|         0|         0|       0|       0|       0|       0|       0|  0|  0|  0|  0|        0|        0|        0|        0|        0|    0|    0|\n",
      "+-----+---+---+----+----------+----------+----------+----------+----------+----------+----------+----------+----------+----------+--------+--------+--------+--------+--------+---+---+---+---+---------+---------+---------+---------+---------+-----+-----+\n",
      "\n"
     ]
    },
    {
     "name": "stderr",
     "output_type": "stream",
     "text": [
      "                                                                                \r"
     ]
    }
   ],
   "source": [
    "from pyspark.sql.functions import col, when, count\n",
    "\n",
    "df.select([count(when(col(c).isNull(), c)).alias(c) for c in df.columns]).show()"
   ]
  },
  {
   "cell_type": "code",
   "execution_count": 7,
   "metadata": {},
   "outputs": [
    {
     "name": "stderr",
     "output_type": "stream",
     "text": [
      "                                                                                \r"
     ]
    },
    {
     "data": {
      "image/png": "[encoded data removed]",
      "text/plain": [
       "<Figure size 800x600 with 1 Axes>"
      ]
     },
     "metadata": {},
     "output_type": "display_data"
    }
   ],
   "source": [
    "import matplotlib.pyplot as plt\n",
    "import pandas as pd\n",
    "\n",
    "number_stars = df.filter(df.type == 6).count()\n",
    "number_galaxies = df.filter(df.type == 3).count()\n",
    "\n",
    "#Convert the data into a dataframe to make the plot\n",
    "data = pd.DataFrame({\n",
    "    \"type\": [\"Stars\", \"Galaxies\"],\n",
    "    \"count\": [number_stars, number_galaxies]\n",
    "})\n",
    "\n",
    "\n",
    "plt.figure(figsize=(8, 6))\n",
    "plt.bar(data[\"type\"], data[\"count\"], color=[\"#ff9300\", \"#42c9c9\"])\n",
    "plt.xlabel(\"Object type\")\n",
    "plt.ylabel(\"Count\")\n",
    "plt.title(\"Total of Stars and Galaxies\")\n",
    "\n",
    "\n",
    "plt.show()"
   ]
  },
  {
   "attachments": {},
   "cell_type": "markdown",
   "metadata": {},
   "source": [
    "As we can see, there is no null values and the amount of galaxies are less than the amount of stars, which make sense."
   ]
  },
  {
   "attachments": {},
   "cell_type": "markdown",
   "metadata": {},
   "source": [
    "The next step is to change \"type\" label. As it is a binary classification, we will update stars to 0 and galaxies to 1."
   ]
  },
  {
   "cell_type": "code",
   "execution_count": 8,
   "metadata": {},
   "outputs": [],
   "source": [
    "df = df.withColumn(\"type\", when(col(\"type\") == 3,1).otherwise(0))"
   ]
  },
  {
   "cell_type": "code",
   "execution_count": 9,
   "metadata": {},
   "outputs": [
    {
     "name": "stdout",
     "output_type": "stream",
     "text": [
      "+-------------------+---------+----------+----+----------+----------+----------+----------+----------+----------+----------+----------+----------+----------+--------+--------+--------+--------+--------+--------+--------+---------+---------+---------+---------+---------+---------+---------+--------------+-----+\n",
      "|              objID|       ra|       dec|type|petroRad_u|petroRad_g|petroRad_r|petroRad_i|petroRad_z|modelMag_u|modelMag_g|modelMag_r|modelMag_i|modelMag_z|psfMag_u|psfMag_g|psfMag_r|psfMag_i|psfMag_z|     u_g|     g_r|      r_i|      i_z|fracDeV_u|fracDeV_g|fracDeV_r|fracDeV_i|fracDeV_z|         flags|clean|\n",
      "+-------------------+---------+----------+----+----------+----------+----------+----------+----------+----------+----------+----------+----------+----------+--------+--------+--------+--------+--------+--------+--------+---------+---------+---------+---------+---------+---------+---------+--------------+-----+\n",
      "|1237648704596673596|228.13359|0.06267392|   0|  7.357505|  1.317162|  1.048602|  0.980907| 0.9447467|   23.2214|  21.66433|  20.29408|  19.12956|  18.53254|23.29687|21.69403|20.32223|19.14626|18.55519|1.557074|1.370243| 1.164522|0.5970211|      1.0|      1.0|      1.0|      0.0|      0.0|   69055021384|    1|\n",
      "|1237648704596673603|228.13571|0.13501696|   0| 0.7134073|  1.140595|  1.132749| 0.9277821|  0.931531|  24.37991|  22.96101|  21.76162|  20.41283|  19.70002|24.20988|22.96505|21.82184|20.45126|19.70096|1.418892|1.199396| 1.348785|0.7128162|      0.0|      1.0|      0.0|      1.0|      0.0|   68987912192|    1|\n",
      "|1237648704596673615|228.13838|0.18722917|   0|  1.083686|  1.201956| 0.9640225| 0.9422169|  1.116567|  23.75787|  22.49124|   21.1148|  20.39421|  19.97207|23.75588|22.50238|21.15819|20.42044| 20.0078|1.266636|1.376434|0.7205887| 0.422142|      1.0|      1.0|0.9983205|      0.0|      0.0|   68987912192|    1|\n",
      "|1237648704596673618|228.13933|0.21278109|   0|  2.969285|   1.09076|   1.08924| 0.9051506|  1.057727|  25.92635|  23.35114|  21.78671|  20.63976|  19.91965|25.89036|23.30975|21.77252|20.63534|19.91474|2.575216|1.564421| 1.146955|0.7201118|      0.0|      1.0|      0.0|      0.0|      0.0|   68987912448|    1|\n",
      "|1237648704596673620|228.14091|0.06415725|   0|  2.969285|  1.131206|  1.105575|  1.009262|  1.011155|  25.28518|  21.63824|  20.31469|  19.49671|  19.01631|25.20087|21.63558|20.32779|19.49734|19.02662|3.646946|1.323544|0.8179798| 0.480402|      1.0|      0.0| 0.511569|      0.0|      1.0|35253360001296|    1|\n",
      "+-------------------+---------+----------+----+----------+----------+----------+----------+----------+----------+----------+----------+----------+----------+--------+--------+--------+--------+--------+--------+--------+---------+---------+---------+---------+---------+---------+---------+--------------+-----+\n",
      "only showing top 5 rows\n",
      "\n",
      "+-------------------+---------+-----------+----+----------+----------+----------+----------+----------+----------+----------+----------+----------+----------+--------+--------+--------+--------+--------+---------+---------+---------+----------+---------+---------+---------+---------+----------+---------------+-----+\n",
      "|              objID|       ra|        dec|type|petroRad_u|petroRad_g|petroRad_r|petroRad_i|petroRad_z|modelMag_u|modelMag_g|modelMag_r|modelMag_i|modelMag_z|psfMag_u|psfMag_g|psfMag_r|psfMag_i|psfMag_z|      u_g|      g_r|      r_i|       i_z|fracDeV_u|fracDeV_g|fracDeV_r|fracDeV_i| fracDeV_z|          flags|clean|\n",
      "+-------------------+---------+-----------+----+----------+----------+----------+----------+----------+----------+----------+----------+----------+----------+--------+--------+--------+--------+--------+---------+---------+---------+----------+---------+---------+---------+---------+----------+---------------+-----+\n",
      "|1237648704596673591|228.13321|  0.1894192|   1|  2.969285|  2.969369|  2.220518|  1.249783|   1.62232|  23.71841|  23.55119|  21.70663|  21.07082|  20.94918|23.71531|24.25853|22.41145|21.53375|21.45539|0.1672249| 1.844557|0.6358051| 0.1216412|      1.0|      0.0|      1.0|      1.0|       1.0|316730484195600|    1|\n",
      "|1237648704596673595|228.13266| 0.15501632|   1|  2.969285|  1.167545|    1.7132|  4.193829|  1.581682|  26.23039|  23.06768|  21.60064|  21.04392|  20.49498|25.81252|23.30065|22.16619|21.59607|20.93345|  3.16271| 1.467041|0.5567226|  0.548933|      0.0|      1.0|0.5398329|      1.0|       0.0|    68987912448|    1|\n",
      "|1237648704596673597|228.13452| 0.18439688|   1|  4.583073|  1.801946|  1.712365|  1.611359|  1.693891|  24.13848|   22.0195|  21.33374|  21.02932|  21.22839|24.35229| 22.5369|21.95571|21.76257|21.68405| 2.118977|0.6857586|0.3044224|-0.1990643|0.2213039|      0.0|      0.0|      0.0|       0.0|    68987912448|    1|\n",
      "|1237648704596673600|228.13475|0.051330324|   1|  7.357505|  1.275892|  1.897987|  2.219621|  2.806328|  25.94563|  22.67289|  20.76974|  20.01449|   19.5253|25.25427|23.28042|21.51431|20.77017|20.30231| 3.272739| 1.903149|0.7552528|  0.489193|      1.0|      0.0|0.8176387|      1.0|0.05972257|    68987912448|    1|\n",
      "|1237648704596673601|228.13544|0.046520676|   1|  1.529451|  1.516517|  1.452753|  3.800702|  2.970232|  22.62748|  22.42105|  21.79902|  21.57086|  22.21361|22.84985|22.74921|22.23782|21.97033|22.15221|0.2064247|0.6220398|0.2281551|-0.6427536|      1.0|      1.0|      0.0|      1.0|       1.0|    68987912448|    1|\n",
      "+-------------------+---------+-----------+----+----------+----------+----------+----------+----------+----------+----------+----------+----------+----------+--------+--------+--------+--------+--------+---------+---------+---------+----------+---------+---------+---------+---------+----------+---------------+-----+\n",
      "only showing top 5 rows\n",
      "\n"
     ]
    }
   ],
   "source": [
    "df_stars = df.filter(df[\"type\"] == 0)\n",
    "df_galaxies = df.filter(df[\"type\"] == 1)\n",
    "\n",
    "#Print to know the conversion is correctly done\n",
    "df_stars.show(5)\n",
    "df_galaxies.show(5)"
   ]
  },
  {
   "cell_type": "markdown",
   "metadata": {},
   "source": [
    "As for the supervised machine model we won't use objID, ra, dec, flags and clean columns, we are going to remove them. "
   ]
  },
  {
   "cell_type": "code",
   "execution_count": 10,
   "metadata": {},
   "outputs": [
    {
     "name": "stdout",
     "output_type": "stream",
     "text": [
      "root\n",
      " |-- type: integer (nullable = false)\n",
      " |-- petroRad_u: float (nullable = true)\n",
      " |-- petroRad_g: float (nullable = true)\n",
      " |-- petroRad_r: float (nullable = true)\n",
      " |-- petroRad_i: float (nullable = true)\n",
      " |-- petroRad_z: float (nullable = true)\n",
      " |-- modelMag_u: float (nullable = true)\n",
      " |-- modelMag_g: float (nullable = true)\n",
      " |-- modelMag_r: float (nullable = true)\n",
      " |-- modelMag_i: float (nullable = true)\n",
      " |-- modelMag_z: float (nullable = true)\n",
      " |-- psfMag_u: float (nullable = true)\n",
      " |-- psfMag_g: float (nullable = true)\n",
      " |-- psfMag_r: float (nullable = true)\n",
      " |-- psfMag_i: float (nullable = true)\n",
      " |-- psfMag_z: float (nullable = true)\n",
      " |-- u_g: float (nullable = true)\n",
      " |-- g_r: float (nullable = true)\n",
      " |-- r_i: float (nullable = true)\n",
      " |-- i_z: float (nullable = true)\n",
      " |-- fracDeV_u: float (nullable = true)\n",
      " |-- fracDeV_g: float (nullable = true)\n",
      " |-- fracDeV_r: float (nullable = true)\n",
      " |-- fracDeV_i: float (nullable = true)\n",
      " |-- fracDeV_z: float (nullable = true)\n",
      "\n"
     ]
    }
   ],
   "source": [
    "df_ml_model = df.select(\"type\", \"petroRad_u\", \"petroRad_g\", \"petroRad_r\", \"petroRad_i\", \"petroRad_z\",\n",
    "                        \"modelMag_u\", \"modelMag_g\", \"modelMag_r\", \"modelMag_i\", \"modelMag_z\",\n",
    "                        \"psfMag_u\", \"psfMag_g\", \"psfMag_r\", \"psfMag_i\", \"psfMag_z\",\n",
    "                        \"u_g\", \"g_r\", \"r_i\", \"i_z\",\n",
    "                        \"fracDeV_u\", \"fracDeV_g\", \"fracDeV_r\", \"fracDeV_i\", \"fracDeV_z\")\n",
    "\n",
    "df_ml_model.printSchema()"
   ]
  },
  {
   "cell_type": "markdown",
   "metadata": {},
   "source": [
    "## Spark ML"
   ]
  },
  {
   "cell_type": "markdown",
   "metadata": {},
   "source": [
    "As our objective is to create a machine learning model, we need to convert the data in a correct format: Vectors."
   ]
  },
  {
   "cell_type": "code",
   "execution_count": 11,
   "metadata": {},
   "outputs": [
    {
     "data": {
      "text/plain": [
       "[Row(features=DenseVector([2.9693, 2.9694, 2.2205, 1.2498, 1.6223, 23.7184, 23.5512, 21.7066, 21.0708, 20.9492, 23.7153, 24.2585, 22.4114, 21.5338, 21.4554, 0.1672, 1.8446, 0.6358, 0.1216, 1.0, 0.0, 1.0, 1.0, 1.0]), type=1),\n",
       " Row(features=DenseVector([2.9693, 1.1675, 1.7132, 4.1938, 1.5817, 26.2304, 23.0677, 21.6006, 21.0439, 20.495, 25.8125, 23.3006, 22.1662, 21.5961, 20.9335, 3.1627, 1.467, 0.5567, 0.5489, 0.0, 1.0, 0.5398, 1.0, 0.0]), type=1),\n",
       " Row(features=DenseVector([7.3575, 1.3172, 1.0486, 0.9809, 0.9447, 23.2214, 21.6643, 20.2941, 19.1296, 18.5325, 23.2969, 21.694, 20.3222, 19.1463, 18.5552, 1.5571, 1.3702, 1.1645, 0.597, 1.0, 1.0, 1.0, 0.0, 0.0]), type=0),\n",
       " Row(features=DenseVector([4.5831, 1.8019, 1.7124, 1.6114, 1.6939, 24.1385, 22.0195, 21.3337, 21.0293, 21.2284, 24.3523, 22.5369, 21.9557, 21.7626, 21.684, 2.119, 0.6858, 0.3044, -0.1991, 0.2213, 0.0, 0.0, 0.0, 0.0]), type=1),\n",
       " Row(features=DenseVector([7.3575, 1.2759, 1.898, 2.2196, 2.8063, 25.9456, 22.6729, 20.7697, 20.0145, 19.5253, 25.2543, 23.2804, 21.5143, 20.7702, 20.3023, 3.2727, 1.9031, 0.7553, 0.4892, 1.0, 0.0, 0.8176, 1.0, 0.0597]), type=1)]"
      ]
     },
     "execution_count": 11,
     "metadata": {},
     "output_type": "execute_result"
    }
   ],
   "source": [
    "from pyspark.ml.feature import VectorAssembler\n",
    "\n",
    "features = df_ml_model.columns[1:] #We don't get the type beacuse is the result we want to get.\n",
    "assembler = VectorAssembler(inputCols = features, outputCol = \"features\") #Convert features list as a vector\n",
    "df_ml_model = assembler.transform(df_ml_model) #Apply transformation\n",
    "df_ml_model = df_ml_model.select(\"features\", \"type\")\n",
    "\n",
    "df_ml_model.head(5)"
   ]
  },
  {
   "cell_type": "markdown",
   "metadata": {},
   "source": [
    "Now, we are going to divide the dataset into train and test, so we can get the accuracy of the model."
   ]
  },
  {
   "cell_type": "code",
   "execution_count": 12,
   "metadata": {},
   "outputs": [],
   "source": [
    "train_data, test_data = df_ml_model.randomSplit([0.8, 0.2], seed = 132)"
   ]
  },
  {
   "cell_type": "markdown",
   "metadata": {},
   "source": [
    "We are going to try different models to check which is the best for our case."
   ]
  },
  {
   "cell_type": "code",
   "execution_count": 13,
   "metadata": {},
   "outputs": [],
   "source": [
    "from pyspark.ml.classification import LogisticRegression, DecisionTreeClassifier, RandomForestClassifier, GBTClassifier, LinearSVC\n",
    "\n",
    "#Define different models\n",
    "models = {\n",
    "    \"Logistic Regression\": LogisticRegression(labelCol=\"type\", featuresCol=\"features\"),\n",
    "    \"Decision Tree\": DecisionTreeClassifier(labelCol=\"type\", featuresCol=\"features\"),\n",
    "    \"Random Forest\": RandomForestClassifier(labelCol=\"type\", featuresCol=\"features\", numTrees=5),\n",
    "    \"Gradient Boosted Trees\": GBTClassifier(labelCol=\"type\", featuresCol=\"features\"),\n",
    "    \"Linear SVM\": LinearSVC(labelCol=\"type\", featuresCol=\"features\")\n",
    "}"
   ]
  },
  {
   "attachments": {},
   "cell_type": "markdown",
   "metadata": {},
   "source": [
    "Now, we are going to calculate the **AUC evaluator** for model and look how well they are doing. I decided to use AUC because it is a good technique to use for binary classification, especially when classes are unbalanced.\n",
    "\n",
    "Remember that the ROC curve gives a visual representation between the true prositive rate and false positive rate at different thresholds. So, it tell us how well the model can detect true positive and avoid false positives. Moreover, AUC is one scalar value from 0 to  that tell how the model performs globally. AUC represents the area beneath the curve.\n",
    "- AUC = 0.5 ⭢ Random Predictions\n",
    "- AUC > 0.5 ⭢ Increasingly good predictions\n",
    "- AUC = 1 ⭢ Perfect predictions\n",
    "\n",
    "\n",
    "\n",
    "<img src=\"/home/haizeagonzalez/myproject/bigDataAstronomy/notebookImages/img2.png\">"
   ]
  },
  {
   "cell_type": "code",
   "execution_count": 14,
   "metadata": {},
   "outputs": [
    {
     "name": "stderr",
     "output_type": "stream",
     "text": [
      "                                                                                \r"
     ]
    },
    {
     "name": "stdout",
     "output_type": "stream",
     "text": [
      "Logistic Regression: AUC = 0.9923\n"
     ]
    },
    {
     "name": "stderr",
     "output_type": "stream",
     "text": [
      "                                                                                \r"
     ]
    },
    {
     "name": "stdout",
     "output_type": "stream",
     "text": [
      "Decision Tree: AUC = 0.8094\n"
     ]
    },
    {
     "name": "stderr",
     "output_type": "stream",
     "text": [
      "                                                                                \r"
     ]
    },
    {
     "name": "stdout",
     "output_type": "stream",
     "text": [
      "Random Forest: AUC = 0.9741\n"
     ]
    },
    {
     "name": "stderr",
     "output_type": "stream",
     "text": [
      "                                                                                \r"
     ]
    },
    {
     "name": "stdout",
     "output_type": "stream",
     "text": [
      "Gradient Boosted Trees: AUC = 0.9878\n"
     ]
    },
    {
     "name": "stderr",
     "output_type": "stream",
     "text": [
      "                                                                                \r"
     ]
    },
    {
     "name": "stdout",
     "output_type": "stream",
     "text": [
      "Linear SVM: AUC = 0.9922\n"
     ]
    }
   ],
   "source": [
    "from pyspark.ml.evaluation import BinaryClassificationEvaluator\n",
    "from sklearn.metrics import auc\n",
    "\n",
    "evaluator = BinaryClassificationEvaluator(labelCol=\"type\", metricName=\"areaUnderROC\")\n",
    "\n",
    "for name, model in models.items():\n",
    "    model_trained = model.fit(train_data)\n",
    "    predictions = model_trained.transform(test_data)\n",
    "    auc = evaluator.evaluate(predictions)\n",
    "    print(f\"{name}: AUC = {auc:.4f}\")"
   ]
  },
  {
   "cell_type": "code",
   "execution_count": 15,
   "metadata": {},
   "outputs": [
    {
     "name": "stderr",
     "output_type": "stream",
     "text": [
      "                                                                                \r"
     ]
    },
    {
     "name": "stdout",
     "output_type": "stream",
     "text": [
      "The model Linear SVM does not have 'probability' column so it will not be in the graphic.\n"
     ]
    },
    {
     "data": {
      "image/png": "[encoded data removed]",
      "text/plain": [
       "<Figure size 1000x800 with 1 Axes>"
      ]
     },
     "metadata": {},
     "output_type": "display_data"
    }
   ],
   "source": [
    "from sklearn.metrics import roc_curve, auc\n",
    "\n",
    "#Create the figure\n",
    "plt.figure(figsize=(10, 8))\n",
    "\n",
    "#Different colors for the different models\n",
    "colors = ['b', 'g', 'r', 'c', 'm', 'y', 'k']\n",
    "\n",
    "#For each model compute the AUC\n",
    "for idx, (name, model) in enumerate(models.items()):\n",
    "    model_trained = model.fit(train_data)\n",
    "    predictions = model_trained.transform(test_data) #Predicted class (0 or 1)\n",
    "\n",
    "    #Check if the model has \"probability\" column because some of them (SVG for example) do not\n",
    "    if \"probability\" in predictions.columns:\n",
    "        #Get the whole probability vector, convert it into rdd and select the probability for the positive (real) prediction\n",
    "        prob_positives = predictions.select(\"probability\").rdd.map(lambda row: row[0][1]).collect()\n",
    "        #Get the label for each prediction\n",
    "        true_labels = predictions.select(\"type\").rdd.map(lambda row: row[0]).collect()\n",
    "\n",
    "        #Calculate ROC curve\n",
    "        fpr, tpr, _ = roc_curve(true_labels, prob_positives)\n",
    "        roc_auc = auc(fpr, tpr)\n",
    "\n",
    "        #Plot it\n",
    "        plt.plot(fpr, tpr, color=colors[idx % len(colors)], lw=2, label=f'{name} (AUC = {roc_auc:.4f})')\n",
    "    else:\n",
    "        print(f\"The model {name} does not have 'probability' column so it will not be in the graphic.\")\n",
    "\n",
    "#Different parameters to personalize the plot\n",
    "plt.plot([0, 1], [0, 1], color='gray', linestyle='--')  #Diagonal line of \"random\"\n",
    "plt.xlim([0.0, 1.0])\n",
    "plt.ylim([0.0, 1.05])\n",
    "plt.xlabel(\"False Positive Rate\")\n",
    "plt.ylabel(\"True Positive Rate\")\n",
    "plt.title(\"ROC Curve\")\n",
    "plt.legend(loc=\"lower right\")\n",
    "plt.grid()\n",
    "\n",
    "plt.show()"
   ]
  },
  {
   "attachments": {},
   "cell_type": "markdown",
   "metadata": {},
   "source": [
    "As we can see, the best AUC is the one for logistic regression so we will use that model in order to make our predictions. \n",
    "\n",
    "Then, as our model has a very high AUC, we need to ensure that it is not overfitted. A high AUC does not necessarily mean good generalization; it could indicate that the model memorized the training data.\n",
    "\n",
    "To ensure about this, we will compute the confusion matrix for training and test sets. Comparing both we will know if the model is performing well or not with unseen data. We will use plots to visualize the matrices in order to make an easier and more interpetable comparison."
   ]
  },
  {
   "cell_type": "code",
   "execution_count": 16,
   "metadata": {},
   "outputs": [
    {
     "name": "stderr",
     "output_type": "stream",
     "text": [
      "                                                                                \r"
     ]
    },
    {
     "name": "stdout",
     "output_type": "stream",
     "text": [
      "Logistic Regression (Train): AUC = 0.9922\n",
      "\n",
      "Logistic Regression (Test): AUC = 0.9923\n"
     ]
    }
   ],
   "source": [
    "lr = LogisticRegression(labelCol=\"type\", featuresCol=\"features\")\n",
    "lr_model = lr.fit(train_data)\n",
    "\n",
    "predictions_log_train = lr_model.transform(train_data)\n",
    "predictions_log_test = lr_model.transform(test_data)\n",
    "\n",
    "auc_train = evaluator.evaluate(predictions_log_train)\n",
    "auc_test = evaluator.evaluate(predictions_log_test)\n",
    "\n",
    "print(f\"Logistic Regression (Train): AUC = {auc_train:.4f}\\n\")\n",
    "print(f\"Logistic Regression (Test): AUC = {auc_test:.4f}\")"
   ]
  },
  {
   "attachments": {},
   "cell_type": "markdown",
   "metadata": {},
   "source": [
    "As we can see, the difference is almost non-existent which is good because this suggests that the model is generalizing correctly, data for train and test set are representative of the data. However, as it is a very high AUC, we can verify the confusion matrix in order to know if the model is correctly classifying. To make this, we will use the plot of the confusion matrix to visualize to get a conclusion in a easier and more interpetable way."
   ]
  },
  {
   "cell_type": "code",
   "execution_count": 17,
   "metadata": {},
   "outputs": [
    {
     "name": "stderr",
     "output_type": "stream",
     "text": [
      "                                                                                \r"
     ]
    },
    {
     "data": {
      "image/png": "[encoded data removed]",
      "text/plain": [
       "<Figure size 1200x500 with 4 Axes>"
      ]
     },
     "metadata": {},
     "output_type": "display_data"
    }
   ],
   "source": [
    "from pyspark.sql import functions as F\n",
    "import seaborn as sns\n",
    "import numpy as np\n",
    "\n",
    "#Divide true positives, true negatives, false positives and false negatives\n",
    "##Train\n",
    "true_galaxies_train = predictions_log_train.filter((F.col(\"type\") == 1) & (F.col(\"prediction\") == 1)).count()\n",
    "true_stars_train = predictions_log_train.filter((F.col(\"type\") == 0) & (F.col(\"prediction\") == 0)).count()\n",
    "false_stars_train = predictions_log_train.filter((F.col(\"type\") == 0) & (F.col(\"prediction\") == 1)).count()\n",
    "false_galaxies_train = predictions_log_train.filter((F.col(\"type\") == 1) & (F.col(\"prediction\") == 0)).count()\n",
    "\n",
    "#Creating the confusion matrix\n",
    "conf_matrix_values_train = [[true_stars_train, false_stars_train], [false_galaxies_train, true_galaxies_train]]\n",
    "\n",
    "\n",
    "##Test\n",
    "true_galaxies_test = predictions_log_test.filter((F.col(\"type\") == 1) & (F.col(\"prediction\") == 1)).count()\n",
    "true_stars_test = predictions_log_test.filter((F.col(\"type\") == 0) & (F.col(\"prediction\") == 0)).count()\n",
    "false_stars_test = predictions_log_test.filter((F.col(\"type\") == 0) & (F.col(\"prediction\") == 1)).count()\n",
    "false_galaxies_test = predictions_log_test.filter((F.col(\"type\") == 1) & (F.col(\"prediction\") == 0)).count()\n",
    "\n",
    "#Creating the confusion matrix\n",
    "conf_matrix_values_test = [[true_stars_test, false_stars_test], [false_galaxies_test, true_galaxies_test]]\n",
    "\n",
    "\n",
    "#Plots\n",
    "fig, axes = plt.subplots(1, 2, figsize=(12, 5))  #Create two plots in 1 line\n",
    "\n",
    "#Train confusion matrix\n",
    "ax1 = sns.heatmap(np.array(conf_matrix_values_train), annot=True, fmt=\"d\", cmap=\"Blues\",\n",
    "                   xticklabels=[\"Stars prediction\", \"Galaxies prediction\"],\n",
    "                   yticklabels=[\"Real stars\", \"Real galaxies\"], ax=axes[0]) #Put in the axe 0, the left one\n",
    "ax1.set_xlabel(\"Prediction\")\n",
    "ax1.set_ylabel(\"Real value\")\n",
    "ax1.set_title(\"Confusion Matrix - Train\")\n",
    "\n",
    "#Test confusion matrix\n",
    "ax2 = sns.heatmap(np.array(conf_matrix_values_test), annot=True, fmt=\"d\", cmap=\"Blues\",\n",
    "                   xticklabels=[\"Stars prediction\", \"Galaxies prediction\"],\n",
    "                   yticklabels=[\"Real stars\", \"Real galaxies\"], ax=axes[1]) #Put in the axe 0, the right one\n",
    "ax2.set_xlabel(\"Prediction\")\n",
    "ax2.set_ylabel(\"Real value\")\n",
    "ax2.set_title(\"Confusion Matrix - Test\")\n",
    "\n",
    "\n",
    "plt.tight_layout()\n",
    "plt.show()\n"
   ]
  },
  {
   "attachments": {},
   "cell_type": "markdown",
   "metadata": {},
   "source": [
    "To detect if there is or not overfitting, we need to compare the error rate in train and test set. "
   ]
  },
  {
   "cell_type": "code",
   "execution_count": 18,
   "metadata": {},
   "outputs": [
    {
     "data": {
      "image/png": "[encoded data removed]",
      "text/plain": [
       "<Figure size 1200x500 with 2 Axes>"
      ]
     },
     "metadata": {},
     "output_type": "display_data"
    }
   ],
   "source": [
    "##Train\n",
    "false_stars_train = conf_matrix_values_train[1][0]\n",
    "true_galaxies_train = conf_matrix_values_train[1][1]\n",
    "\n",
    "false_stars_train_rate = ((false_stars_train)/(false_stars_train + true_galaxies_train))*100\n",
    "false_stars_train_rate = round(false_stars_train_rate,2)\n",
    "\n",
    "\n",
    "##Test\n",
    "false_stars_test = conf_matrix_values_test[1][0]\n",
    "true_galaxies_test = conf_matrix_values_test[1][1]\n",
    "\n",
    "false_stars_test_rate = ((false_stars_test)/(false_stars_test + true_galaxies_test))*100\n",
    "false_stars_test_rate = round(false_stars_test_rate,2)\n",
    "\n",
    "\n",
    "#PLOTS\n",
    "fig, axes = plt.subplots(1, 2, figsize=(12, 5))  #Create two plots in 1 line\n",
    "\n",
    "labels_train = [\"Correct Predictions\", \"False Stars\"]\n",
    "sizes_train = [100 - false_stars_train_rate, false_stars_train_rate]\n",
    "colors_train = [\"#ff9300\", \"#9b9c9c\"]\n",
    "axes[0].pie(sizes_train, labels=labels_train, colors=colors_train, autopct='%1.1f%%', startangle=140)\n",
    "axes[0].set_title(f\"Train - False Stars Rate: {false_stars_train_rate}%\")\n",
    "\n",
    "# Pie Chart para Test\n",
    "labels_test = [\"Correct Predictions\", \"False Stars\"]\n",
    "sizes_test = [100 - false_stars_test_rate, false_stars_test_rate]\n",
    "colors_test = [\"#ff9300\", \"#9b9c9c\"]\n",
    "axes[1].pie(sizes_test, labels=labels_test, colors=colors_test, autopct='%1.1f%%', startangle=140)\n",
    "axes[1].set_title(f\"Test - False Stars Rate: {false_stars_test_rate}%\")\n",
    "\n",
    "plt.tight_layout()\n",
    "plt.show()\n"
   ]
  },
  {
   "cell_type": "code",
   "execution_count": 19,
   "metadata": {},
   "outputs": [
    {
     "data": {
      "image/png": "[encoded data removed]",
      "text/plain": [
       "<Figure size 1200x500 with 2 Axes>"
      ]
     },
     "metadata": {},
     "output_type": "display_data"
    }
   ],
   "source": [
    "##Train\n",
    "false_galaxies_train = conf_matrix_values_train[0][1]\n",
    "true_stars_train = conf_matrix_values_train[0][0]\n",
    "\n",
    "false_galaxies_train_rate = ((false_galaxies_train)/(false_galaxies_train + true_stars_train))*100\n",
    "false_galaxies_train_rate = round(false_galaxies_train_rate,2)\n",
    "\n",
    "##Test\n",
    "false_galaxies_test = conf_matrix_values_test[0][1]\n",
    "true_stars_test = conf_matrix_values_test[0][0]\n",
    "\n",
    "false_galaxies_test_rate = ((false_galaxies_test)/(false_galaxies_test + true_stars_test))*100\n",
    "false_galaxies_test_rate = round(false_galaxies_test_rate,2)\n",
    "\n",
    "\n",
    "#PLOTS\n",
    "fig, axes = plt.subplots(1, 2, figsize=(12, 5))  #Create two plots in 1 line\n",
    "\n",
    "labels_train = [\"Correct Predictions\", \"False Stars\"]\n",
    "sizes_train = [100 - false_galaxies_train_rate, false_galaxies_train_rate]\n",
    "colors_train = [\"#42c9c9\", \"#9b9c9c\"]\n",
    "axes[0].pie(sizes_train, labels=labels_train, colors=colors_train, autopct='%1.1f%%', startangle=140)\n",
    "axes[0].set_title(f\"Train - False Galaxies Rate: {false_galaxies_train_rate}%\")\n",
    "\n",
    "# Pie Chart para Test\n",
    "labels_test = [\"Correct Predictions\", \"False Stars\"]\n",
    "sizes_test = [100 - false_galaxies_test_rate, false_galaxies_test_rate]\n",
    "colors_test = [\"#42c9c9\", \"#9b9c9c\"]\n",
    "axes[1].pie(sizes_test, labels=labels_test, colors=colors_test, autopct='%1.1f%%', startangle=140)\n",
    "axes[1].set_title(f\"Test - False Galaxies Rate: {false_galaxies_test_rate}%\")\n",
    "\n",
    "plt.tight_layout()\n",
    "plt.show()\n"
   ]
  },
  {
   "attachments": {},
   "cell_type": "markdown",
   "metadata": {},
   "source": [
    "As both rates (train and test) are very similar, the model is not overfitting so it is generalizing correctly the data. However, As the AUC value is very big, we can use **regularization** technique to make a more robust model. Regularization is intended to prevent overfitting by penalizing large coefficients and forcing the model to learn simpler, more generalizable patterns. There are different types of regularization (L1, L2 (same that L1 but squared), L1+L2, dropout,...). In this case, we will use L2 regularization because it is the most estable one and because all the selected variables are relevant. For that, it is necessary to add *regParam* to the Logistic Regression. The selected value 0.1 is because it is a simple model, it has not many variables (just 24)."
   ]
  },
  {
   "cell_type": "code",
   "execution_count": 20,
   "metadata": {},
   "outputs": [
    {
     "name": "stderr",
     "output_type": "stream",
     "text": [
      "                                                                                \r"
     ]
    },
    {
     "name": "stdout",
     "output_type": "stream",
     "text": [
      "Logistic Regression (Regularization): AUC = 0.9079\n"
     ]
    }
   ],
   "source": [
    "lr_with_reg = LogisticRegression(labelCol=\"type\", featuresCol=\"features\", regParam=0.1)\n",
    "model_with_reg = lr_with_reg.fit(train_data)\n",
    "\n",
    "#Evaluate the model with regularization\n",
    "predictions_with_reg = model_with_reg.transform(test_data)\n",
    "auc_with_reg = evaluator.evaluate(predictions_with_reg)\n",
    "print(f\"Logistic Regression (Regularization): AUC = {auc_with_reg:.4f}\")"
   ]
  },
  {
   "attachments": {},
   "cell_type": "markdown",
   "metadata": {},
   "source": [
    "As we can see, the AUC has decreased from 0.9919 to 0.9066 (in test). This will be good for the model to learn more generalizable patterns and not to overfit."
   ]
  },
  {
   "cell_type": "markdown",
   "metadata": {},
   "source": [
    "# Images"
   ]
  },
  {
   "attachments": {},
   "cell_type": "markdown",
   "metadata": {},
   "source": [
    "As I need also de images, I have downloaded from https://skyserver.sdss.org/dr18, specifying with a request:\n",
    "- the location of the object (with right ascension (RA) and declination (dec))\n",
    "- the zoom of the picture (scale)\n",
    "- the dimmensions of the photo (with and height)\n",
    "\n",
    "These images will be saved into a \"images\" folder splitted into train and test and each one splitted as galaxies or stars. In a visual way would be:\n",
    "|\n",
    "|\n",
    "images\n",
    "   |\n",
    "   |_ train\n",
    "       |\n",
    "       |_ stars\n",
    "       |_ galaxies\n",
    "    |\n",
    "    |_ test\n",
    "       |\n",
    "       |_ stars\n",
    "       |_ galaxies\n",
    "   \n",
    "\n",
    "   "
   ]
  },
  {
   "cell_type": "code",
   "execution_count": 14,
   "metadata": {},
   "outputs": [
    {
     "name": "stderr",
     "output_type": "stream",
     "text": [
      "                                                                                \r"
     ]
    },
    {
     "name": "stdout",
     "output_type": "stream",
     "text": [
      "Image 1237648704596673591 downloaded.\n",
      "Image 1237648704596673595 downloaded.\n",
      "Image 1237648704596673596 downloaded.\n",
      "Image 1237648704596673597 downloaded.\n",
      "Image 1237648704596673600 downloaded.\n",
      "Image 1237648704596673601 downloaded.\n",
      "Image 1237648704596673602 downloaded.\n",
      "Image 1237648704596673603 downloaded.\n",
      "Image 1237648704596673605 downloaded.\n",
      "Image 1237648704596673613 downloaded.\n",
      "Image 1237648704596673615 downloaded.\n",
      "Image 1237648704596673616 downloaded.\n",
      "Image 1237648704596673618 downloaded.\n",
      "Image 1237648704596673620 downloaded.\n",
      "Image 1237648704596673626 downloaded.\n",
      "Image 1237648704596673630 downloaded.\n",
      "Image 1237648704596673633 downloaded.\n",
      "Image 1237648704596673636 downloaded.\n",
      "Image 1237648704596673637 downloaded.\n",
      "Image 1237648704596673639 downloaded.\n",
      "Image 1237648704596673641 downloaded.\n",
      "Image 1237648704596673642 downloaded.\n",
      "Image 1237648704596673643 downloaded.\n",
      "Image 1237648704596673645 downloaded.\n",
      "Image 1237648704596673646 downloaded.\n",
      "Image 1237648704596673648 downloaded.\n",
      "Image 1237648704596673650 downloaded.\n",
      "Image 1237648704596673652 downloaded.\n",
      "Image 1237648704596673653 downloaded.\n",
      "Image 1237648704596673654 downloaded.\n",
      "Image 1237648704596542636 downloaded.\n",
      "Image 1237648704596542637 downloaded.\n",
      "Image 1237648704596542639 downloaded.\n",
      "Image 1237648704596542640 downloaded.\n",
      "Image 1237648704596542642 downloaded.\n",
      "Image 1237648704596542645 downloaded.\n",
      "Image 1237648704596542646 downloaded.\n",
      "Image 1237648704596542647 downloaded.\n",
      "Image 1237648704596542651 downloaded.\n",
      "Image 1237648704596542653 downloaded.\n",
      "Image 1237648704596542655 downloaded.\n",
      "Image 1237648704596542658 downloaded.\n",
      "Image 1237648704596542660 downloaded.\n",
      "Image 1237648704596542662 downloaded.\n",
      "Image 1237648704596542664 downloaded.\n",
      "Image 1237648704596542665 downloaded.\n",
      "Image 1237648704596542666 downloaded.\n",
      "Image 1237648704596542670 downloaded.\n",
      "Image 1237648704596542673 downloaded.\n",
      "Image 1237648704596542676 downloaded.\n",
      "Image 1237648704596542678 downloaded.\n",
      "Image 1237648704596542679 downloaded.\n",
      "Image 1237648704596542680 downloaded.\n",
      "Image 1237648704596542682 downloaded.\n",
      "Image 1237648704596542684 downloaded.\n",
      "Image 1237648704596542686 downloaded.\n",
      "Image 1237648704596542689 downloaded.\n",
      "Image 1237648704596542691 downloaded.\n",
      "Image 1237648704596542693 downloaded.\n",
      "Image 1237648704596542694 downloaded.\n",
      "Image 1237648703531778209 downloaded.\n",
      "Image 1237648703531778216 downloaded.\n",
      "Image 1237648703531778229 downloaded.\n",
      "Image 1237648703531778231 downloaded.\n",
      "Image 1237648703531778234 downloaded.\n",
      "Image 1237648703531778235 downloaded.\n",
      "Image 1237648703531778240 downloaded.\n",
      "Image 1237648703531778241 downloaded.\n",
      "Image 1237648703531778244 downloaded.\n",
      "Image 1237648703531778251 downloaded.\n",
      "Image 1237648703531778252 downloaded.\n",
      "Image 1237648703531778253 downloaded.\n",
      "Image 1237648703531778254 downloaded.\n",
      "Image 1237648703531778255 downloaded.\n",
      "Image 1237648703531778256 downloaded.\n",
      "Image 1237648703531778261 downloaded.\n",
      "Image 1237648703531778265 downloaded.\n",
      "Image 1237648703531778270 downloaded.\n",
      "Image 1237648703531778271 downloaded.\n",
      "Image 1237648703531778272 downloaded.\n",
      "Image 1237648703531778279 downloaded.\n",
      "Image 1237648703531778288 downloaded.\n",
      "Image 1237648703531778289 downloaded.\n",
      "Image 1237648703531778294 downloaded.\n",
      "Image 1237648703531778295 downloaded.\n",
      "Image 1237648703531778297 downloaded.\n",
      "Image 1237648703531778310 downloaded.\n",
      "Image 1237648703531778320 downloaded.\n",
      "Image 1237648703531778322 downloaded.\n",
      "Image 1237648703531778324 downloaded.\n",
      "Image 1237648704597917872 downloaded.\n",
      "Image 1237648704597917881 downloaded.\n",
      "Image 1237648704597917882 downloaded.\n",
      "Image 1237648704597917891 downloaded.\n",
      "Image 1237648704597917915 downloaded.\n",
      "Image 1237648704597917916 downloaded.\n",
      "Image 1237648704597917922 downloaded.\n",
      "Image 1237648704597917929 downloaded.\n",
      "Image 1237648704597917930 downloaded.\n",
      "Image 1237648704597917938 downloaded.\n",
      "Image 1237648704597917940 downloaded.\n",
      "Image 1237648704597917943 downloaded.\n",
      "Image 1237648704597917946 downloaded.\n",
      "Image 1237648704597917948 downloaded.\n",
      "Image 1237648704597917971 downloaded.\n",
      "Image 1237648704597917973 downloaded.\n",
      "Image 1237648704597917975 downloaded.\n",
      "Image 1237648704597917978 downloaded.\n",
      "Image 1237648704597917983 downloaded.\n",
      "Image 1237648704597917986 downloaded.\n",
      "Image 1237648704597917987 downloaded.\n",
      "Image 1237648704597917990 downloaded.\n",
      "Image 1237648704597917991 downloaded.\n",
      "Image 1237648704597917994 downloaded.\n",
      "Image 1237648704597917996 downloaded.\n",
      "Image 1237648704597917998 downloaded.\n",
      "Image 1237648704597918001 downloaded.\n",
      "Image 1237648704597918002 downloaded.\n",
      "Image 1237648704597918004 downloaded.\n",
      "Image 1237648704597918006 downloaded.\n",
      "Image 1237648704597590173 downloaded.\n",
      "Image 1237648704597590177 downloaded.\n",
      "Image 1237648704597590178 downloaded.\n",
      "Image 1237648704597590179 downloaded.\n",
      "Image 1237648704597590182 downloaded.\n",
      "Image 1237648704597590185 downloaded.\n",
      "Image 1237648704597590189 downloaded.\n",
      "Image 1237648704597590205 downloaded.\n",
      "Image 1237648704597590207 downloaded.\n",
      "Image 1237648704597590209 downloaded.\n",
      "Image 1237648704597590211 downloaded.\n",
      "Image 1237648704597590213 downloaded.\n",
      "Image 1237648704597590215 downloaded.\n",
      "Image 1237648704597590217 downloaded.\n",
      "Image 1237648704597590218 downloaded.\n",
      "Image 1237648704597590220 downloaded.\n",
      "Image 1237648704597590223 downloaded.\n",
      "Image 1237648704597590224 downloaded.\n",
      "Image 1237648704597590228 downloaded.\n",
      "Image 1237648704597590231 downloaded.\n",
      "Image 1237648704597590232 downloaded.\n",
      "Image 1237648704597590235 downloaded.\n",
      "Image 1237648704597590236 downloaded.\n",
      "Image 1237648704597590242 downloaded.\n",
      "Image 1237648704597590243 downloaded.\n",
      "Image 1237648704597590246 downloaded.\n",
      "Image 1237648704597590247 downloaded.\n",
      "Image 1237648704597590248 downloaded.\n",
      "Image 1237648704597590249 downloaded.\n",
      "Image 1237648704597590252 downloaded.\n",
      "Image 1237648704596608110 downloaded.\n",
      "Image 1237648704596608111 downloaded.\n",
      "Image 1237648704596608112 downloaded.\n",
      "Image 1237648704596608113 downloaded.\n",
      "Image 1237648704596608114 downloaded.\n",
      "Image 1237648704596608120 downloaded.\n",
      "Image 1237648704596608125 downloaded.\n",
      "Image 1237648704596608127 downloaded.\n",
      "Image 1237648704596608128 downloaded.\n",
      "Image 1237648704596608129 downloaded.\n",
      "Image 1237648704596608132 downloaded.\n",
      "Image 1237648704596608133 downloaded.\n",
      "Image 1237648704596608137 downloaded.\n",
      "Image 1237648704596608139 downloaded.\n",
      "Image 1237648704596608140 downloaded.\n",
      "Image 1237648704596608142 downloaded.\n",
      "Image 1237648704596608143 downloaded.\n",
      "Image 1237648704596608144 downloaded.\n",
      "Image 1237648704596608145 downloaded.\n",
      "Image 1237648704596608147 downloaded.\n",
      "Image 1237648704596608153 downloaded.\n",
      "Image 1237648704596608154 downloaded.\n",
      "Image 1237648704596608155 downloaded.\n",
      "Image 1237648704596608156 downloaded.\n",
      "Image 1237648704596608159 downloaded.\n",
      "Image 1237648704596608160 downloaded.\n",
      "Image 1237648704596608161 downloaded.\n",
      "Image 1237648704596608163 downloaded.\n",
      "Image 1237648704596608165 downloaded.\n",
      "Image 1237648704596608166 downloaded.\n",
      "Image 1237648704597327924 downloaded.\n",
      "Image 1237648704597327925 downloaded.\n",
      "Image 1237648704597327929 downloaded.\n",
      "Image 1237648704597327930 downloaded.\n",
      "Image 1237648704597327932 downloaded.\n",
      "Image 1237648704597327935 downloaded.\n",
      "Image 1237648704597327940 downloaded.\n",
      "Image 1237648704597327944 downloaded.\n",
      "Image 1237648704597327948 downloaded.\n",
      "Image 1237648704597327949 downloaded.\n",
      "Image 1237648704597327961 downloaded.\n",
      "Image 1237648704597327963 downloaded.\n",
      "Image 1237648704597327967 downloaded.\n",
      "Image 1237648704597327971 downloaded.\n",
      "Image 1237648704597327972 downloaded.\n",
      "Image 1237648704597327973 downloaded.\n",
      "Image 1237648704597327999 downloaded.\n",
      "Image 1237648704597328004 downloaded.\n",
      "Image 1237648704597328005 downloaded.\n",
      "Image 1237648704597328014 downloaded.\n",
      "Image 1237648704597328022 downloaded.\n",
      "Image 1237648704597328025 downloaded.\n",
      "Image 1237648704597328026 downloaded.\n",
      "Image 1237648704597328088 downloaded.\n",
      "Image 1237648704597328090 downloaded.\n",
      "Image 1237648704597328100 downloaded.\n",
      "Image 1237648704597328102 downloaded.\n",
      "Image 1237648704597328111 downloaded.\n",
      "Image 1237648704597328115 downloaded.\n",
      "Image 1237648704597328116 downloaded.\n",
      "Image 1237648704597328118 downloaded.\n",
      "Image 1237648704597328120 downloaded.\n",
      "Image 1237648704597328122 downloaded.\n",
      "Image 1237648704597328125 downloaded.\n",
      "Image 1237648704597328129 downloaded.\n",
      "Image 1237648704597328130 downloaded.\n",
      "Image 1237648704597328132 downloaded.\n",
      "Image 1237648704597328134 downloaded.\n",
      "Image 1237648704597328163 downloaded.\n",
      "Image 1237648704597328166 downloaded.\n",
      "Image 1237648704597328173 downloaded.\n",
      "Image 1237648704597328175 downloaded.\n",
      "Image 1237648704597328177 downloaded.\n",
      "Image 1237648704597328180 downloaded.\n",
      "Image 1237648704597328181 downloaded.\n",
      "Image 1237648704597328183 downloaded.\n",
      "Image 1237648704597328185 downloaded.\n",
      "Image 1237648704597328188 downloaded.\n",
      "Image 1237648704597328189 downloaded.\n",
      "Image 1237648704597328194 downloaded.\n",
      "Image 1237648704597328199 downloaded.\n",
      "Image 1237648704597328201 downloaded.\n",
      "Image 1237648704597328204 downloaded.\n",
      "Image 1237648704597328205 downloaded.\n",
      "Image 1237648704597328208 downloaded.\n",
      "Image 1237648704597328209 downloaded.\n",
      "Image 1237648704597328212 downloaded.\n",
      "Image 1237648704597328218 downloaded.\n",
      "Image 1237648704597328219 downloaded.\n",
      "Image 1237648704597328227 downloaded.\n",
      "Image 1237648704597328229 downloaded.\n",
      "Image 1237648704597328231 downloaded.\n",
      "Image 1237648704597328233 downloaded.\n",
      "Image 1237648704597328235 downloaded.\n",
      "Image 1237648704597328237 downloaded.\n",
      "Image 1237648704597328239 downloaded.\n",
      "Image 1237648704597328242 downloaded.\n",
      "Image 1237648704597328243 downloaded.\n",
      "Image 1237648704597328249 downloaded.\n",
      "Image 1237648704597328261 downloaded.\n",
      "Image 1237648704597328264 downloaded.\n",
      "Image 1237648704597328269 downloaded.\n",
      "Image 1237648704597328272 downloaded.\n",
      "Image 1237648704597328274 downloaded.\n",
      "Image 1237648704597328276 downloaded.\n",
      "Image 1237648704597328279 downloaded.\n",
      "Image 1237648704597328280 downloaded.\n",
      "Image 1237648704597328281 downloaded.\n",
      "Image 1237648704597328282 downloaded.\n",
      "Image 1237648704597328283 downloaded.\n",
      "Image 1237648704597328288 downloaded.\n",
      "Image 1237648704597328293 downloaded.\n",
      "Image 1237648704597328295 downloaded.\n",
      "Image 1237648704597328297 downloaded.\n",
      "Image 1237648704597328300 downloaded.\n",
      "Image 1237648704597328301 downloaded.\n",
      "Image 1237648704597328303 downloaded.\n",
      "Image 1237648704597328306 downloaded.\n",
      "Image 1237648704597328311 downloaded.\n",
      "Image 1237648704597328313 downloaded.\n",
      "Image 1237648704597328315 downloaded.\n",
      "Image 1237648704597328317 downloaded.\n",
      "Image 1237648704597328319 downloaded.\n",
      "Image 1237648704597328321 downloaded.\n",
      "Image 1237648704597328327 downloaded.\n",
      "Image 1237648704597328330 downloaded.\n",
      "Image 1237648704597328331 downloaded.\n",
      "Image 1237648704597328335 downloaded.\n",
      "Image 1237648704597328338 downloaded.\n",
      "Image 1237648704597328341 downloaded.\n",
      "Image 1237648704597328344 downloaded.\n",
      "Image 1237648704597328347 downloaded.\n",
      "Image 1237648704597328349 downloaded.\n",
      "Image 1237648704597328350 downloaded.\n",
      "Image 1237648704597328353 downloaded.\n",
      "Image 1237648704597328356 downloaded.\n",
      "Image 1237648704597328361 downloaded.\n",
      "Image 1237648704597328362 downloaded.\n",
      "Image 1237648704597328364 downloaded.\n",
      "Image 1237648704597328366 downloaded.\n",
      "Image 1237648704597328369 downloaded.\n",
      "Image 1237648704597328370 downloaded.\n",
      "Image 1237648704597328375 downloaded.\n",
      "Image 1237648704597328376 downloaded.\n",
      "Image 1237648704597328380 downloaded.\n",
      "Image 1237648704597328384 downloaded.\n",
      "Image 1237648704597328385 downloaded.\n",
      "Image 1237648704597328397 downloaded.\n",
      "Image 1237648704597328398 downloaded.\n",
      "Image 1237648704597328401 downloaded.\n",
      "Image 1237648704597328404 downloaded.\n",
      "Image 1237648704597328407 downloaded.\n",
      "Image 1237648704597328410 downloaded.\n",
      "Image 1237648704597328413 downloaded.\n",
      "Image 1237648704597328414 downloaded.\n",
      "Image 1237648704597328416 downloaded.\n",
      "Image 1237648704597328430 downloaded.\n",
      "Image 1237648704597328433 downloaded.\n",
      "Image 1237648704597328437 downloaded.\n",
      "Image 1237648704597328439 downloaded.\n",
      "Image 1237648704597328441 downloaded.\n",
      "Image 1237648704597328444 downloaded.\n",
      "Image 1237648704597328447 downloaded.\n",
      "Image 1237648704597328448 downloaded.\n",
      "Image 1237648704597328451 downloaded.\n",
      "Image 1237648704597328454 downloaded.\n",
      "Image 1237648704597328455 downloaded.\n",
      "Image 1237648704597328458 downloaded.\n",
      "Image 1237648704597328459 downloaded.\n",
      "Image 1237648704597328464 downloaded.\n",
      "Image 1237648704597328466 downloaded.\n",
      "Image 1237648704597328468 downloaded.\n",
      "Image 1237648704597328470 downloaded.\n",
      "Image 1237648704597328471 downloaded.\n",
      "Image 1237648704597328475 downloaded.\n",
      "Image 1237648704597328476 downloaded.\n",
      "Image 1237648704597328479 downloaded.\n",
      "Image 1237648704597328480 downloaded.\n",
      "Image 1237648704597328486 downloaded.\n",
      "Image 1237648704597328502 downloaded.\n",
      "Image 1237648704597131657 downloaded.\n",
      "Image 1237648704597131660 downloaded.\n",
      "Image 1237648704597131661 downloaded.\n",
      "Image 1237648704597131663 downloaded.\n",
      "Image 1237648704597131665 downloaded.\n",
      "Image 1237648704597131667 downloaded.\n",
      "Image 1237648704597131670 downloaded.\n",
      "Image 1237648704597131671 downloaded.\n",
      "Image 1237648704597131672 downloaded.\n",
      "Image 1237648704597131677 downloaded.\n",
      "Image 1237648704597131681 downloaded.\n",
      "Image 1237648704597131682 downloaded.\n",
      "Image 1237648704597131684 downloaded.\n",
      "Image 1237648704597131686 downloaded.\n",
      "Image 1237648704597131689 downloaded.\n",
      "Image 1237648704597131690 downloaded.\n",
      "Image 1237648704597131693 downloaded.\n",
      "Image 1237648704597131696 downloaded.\n",
      "Image 1237648704597131697 downloaded.\n",
      "Image 1237648704597131702 downloaded.\n",
      "Image 1237648704597131703 downloaded.\n",
      "Image 1237648704597131707 downloaded.\n",
      "Image 1237648704597131711 downloaded.\n",
      "Image 1237648704597131712 downloaded.\n",
      "Image 1237648704597131713 downloaded.\n",
      "Image 1237648704597131717 downloaded.\n",
      "Image 1237648704597131723 downloaded.\n",
      "Image 1237648704597131726 downloaded.\n",
      "Image 1237648704597131727 downloaded.\n",
      "Image 1237648704597131729 downloaded.\n",
      "Image 1237648704597983856 downloaded.\n",
      "Image 1237648704597983858 downloaded.\n",
      "Image 1237648704597983859 downloaded.\n",
      "Image 1237648704597983860 downloaded.\n",
      "Image 1237648704597983862 downloaded.\n",
      "Image 1237648704597983864 downloaded.\n",
      "Image 1237648704597983865 downloaded.\n",
      "Image 1237648704597983867 downloaded.\n",
      "Image 1237648704597983868 downloaded.\n",
      "Image 1237648704597983870 downloaded.\n",
      "Image 1237648704597983871 downloaded.\n",
      "Image 1237648704597983872 downloaded.\n",
      "Image 1237648704597983873 downloaded.\n",
      "Image 1237648704597983875 downloaded.\n",
      "Image 1237648704597983879 downloaded.\n",
      "Image 1237648704597983881 downloaded.\n",
      "Image 1237648704597983883 downloaded.\n",
      "Image 1237648704597983885 downloaded.\n",
      "Image 1237648704597983886 downloaded.\n",
      "Image 1237648704597983887 downloaded.\n",
      "Image 1237648704597983889 downloaded.\n",
      "Image 1237648704597983891 downloaded.\n",
      "Image 1237648704597983892 downloaded.\n",
      "Image 1237648704597983893 downloaded.\n",
      "Image 1237648704597983894 downloaded.\n",
      "Image 1237648704597983895 downloaded.\n",
      "Image 1237648704597983896 downloaded.\n",
      "Image 1237648704597983897 downloaded.\n",
      "Image 1237648704597983899 downloaded.\n",
      "Image 1237648704597983941 downloaded.\n",
      "Image 1237648704596870120 downloaded.\n",
      "Image 1237648704596870122 downloaded.\n",
      "Image 1237648704596870123 downloaded.\n",
      "Image 1237648704596870125 downloaded.\n",
      "Image 1237648704596870129 downloaded.\n",
      "Image 1237648704596870131 downloaded.\n",
      "Image 1237648704596870135 downloaded.\n",
      "Image 1237648704596870136 downloaded.\n",
      "Image 1237648704596870140 downloaded.\n",
      "Image 1237648704596870148 downloaded.\n",
      "Image 1237648704596870150 downloaded.\n",
      "Image 1237648704596870151 downloaded.\n",
      "Image 1237648704596870154 downloaded.\n",
      "Image 1237648704596870157 downloaded.\n",
      "Image 1237648704596870159 downloaded.\n",
      "Image 1237648704596870160 downloaded.\n",
      "Image 1237648704596870162 downloaded.\n",
      "Image 1237648704596870163 downloaded.\n",
      "Image 1237648704596870164 downloaded.\n",
      "Image 1237648704596870166 downloaded.\n",
      "Image 1237648704596870168 downloaded.\n",
      "Image 1237648704596870170 downloaded.\n",
      "Image 1237648704596870171 downloaded.\n",
      "Image 1237648704596870173 downloaded.\n",
      "Image 1237648704596870174 downloaded.\n",
      "Image 1237648704596870178 downloaded.\n",
      "Image 1237648704596870181 downloaded.\n",
      "Image 1237648704596870182 downloaded.\n",
      "Image 1237648704596870183 downloaded.\n",
      "Image 1237648704596870184 downloaded.\n",
      "Image 1237648704596608167 downloaded.\n",
      "Image 1237648704596608169 downloaded.\n",
      "Image 1237648704596608170 downloaded.\n",
      "Image 1237648704596608172 downloaded.\n",
      "Image 1237648704596608175 downloaded.\n",
      "Image 1237648704596608176 downloaded.\n",
      "Image 1237648704596608178 downloaded.\n",
      "Image 1237648704596608180 downloaded.\n",
      "Image 1237648704596608183 downloaded.\n",
      "Image 1237648704596608185 downloaded.\n",
      "Image 1237648704596608189 downloaded.\n",
      "Image 1237648704596608190 downloaded.\n",
      "Image 1237648704596608194 downloaded.\n",
      "Image 1237648704596608198 downloaded.\n",
      "Image 1237648704596608199 downloaded.\n",
      "Image 1237648704596608200 downloaded.\n",
      "Image 1237648704596608201 downloaded.\n",
      "Image 1237648704596608202 downloaded.\n",
      "Image 1237648704596608204 downloaded.\n",
      "Image 1237648704596608208 downloaded.\n",
      "Image 1237648704596608210 downloaded.\n",
      "Image 1237648704596608214 downloaded.\n",
      "Image 1237648704596608216 downloaded.\n",
      "Image 1237648704596608219 downloaded.\n",
      "Image 1237648704596608221 downloaded.\n",
      "Image 1237648704596608223 downloaded.\n",
      "Image 1237648704596608228 downloaded.\n",
      "Image 1237648704596608231 downloaded.\n",
      "Image 1237648704596608233 downloaded.\n",
      "Image 1237648704596608238 downloaded.\n",
      "Image 1237648704596149247 downloaded.\n",
      "Image 1237648704596149250 downloaded.\n",
      "Image 1237648704596149252 downloaded.\n",
      "Image 1237648704596149253 downloaded.\n",
      "Image 1237648704596149254 downloaded.\n",
      "Image 1237648704596149259 downloaded.\n",
      "Image 1237648704596149261 downloaded.\n",
      "Image 1237648704596149265 downloaded.\n",
      "Image 1237648704596149266 downloaded.\n",
      "Image 1237648704596149268 downloaded.\n",
      "Image 1237648704596149269 downloaded.\n",
      "Image 1237648704596149274 downloaded.\n",
      "Image 1237648704596149276 downloaded.\n",
      "Image 1237648704596149280 downloaded.\n",
      "Image 1237648704596149283 downloaded.\n",
      "Image 1237648704596149287 downloaded.\n",
      "Image 1237648704596149290 downloaded.\n",
      "Image 1237648704596149292 downloaded.\n",
      "Image 1237648704596149293 downloaded.\n",
      "Image 1237648704596149296 downloaded.\n",
      "Image 1237648704596149298 downloaded.\n",
      "Image 1237648704596149299 downloaded.\n",
      "Image 1237648704596149301 downloaded.\n",
      "Image 1237648704596149302 downloaded.\n",
      "Image 1237648704596149305 downloaded.\n",
      "Image 1237648704596149306 downloaded.\n",
      "Image 1237648704596149307 downloaded.\n",
      "Image 1237648704596149309 downloaded.\n",
      "Image 1237648704596149314 downloaded.\n",
      "Image 1237648704596149320 downloaded.\n",
      "Image 1237648704596149321 downloaded.\n",
      "Image 1237648704596149322 downloaded.\n",
      "Image 1237648704596149323 downloaded.\n",
      "Image 1237648704596149325 downloaded.\n",
      "Image 1237648704596149326 downloaded.\n",
      "Image 1237648704596149327 downloaded.\n",
      "Image 1237648704596149328 downloaded.\n",
      "Image 1237648704596149330 downloaded.\n",
      "Image 1237648704596149332 downloaded.\n",
      "Image 1237648704596149335 downloaded.\n",
      "Image 1237648704596149337 downloaded.\n",
      "Image 1237648704596149339 downloaded.\n",
      "Image 1237648704596149340 downloaded.\n",
      "Image 1237648704596149349 downloaded.\n",
      "Image 1237648704596149353 downloaded.\n",
      "Image 1237648704596149355 downloaded.\n",
      "Image 1237648704596149357 downloaded.\n",
      "Image 1237648704596149360 downloaded.\n",
      "Image 1237648704596149361 downloaded.\n",
      "Image 1237648704596149363 downloaded.\n",
      "Image 1237648704596149364 downloaded.\n",
      "Image 1237648704596149365 downloaded.\n",
      "Image 1237648704596149368 downloaded.\n",
      "Image 1237648704596149372 downloaded.\n",
      "Image 1237648704596149373 downloaded.\n",
      "Image 1237648704596149375 downloaded.\n",
      "Image 1237648704596149377 downloaded.\n",
      "Image 1237648704596149382 downloaded.\n",
      "Image 1237648704596149384 downloaded.\n",
      "Image 1237648704596149387 downloaded.\n",
      "Image 1237648704595887192 downloaded.\n",
      "Image 1237648704595887193 downloaded.\n",
      "Image 1237648704595887195 downloaded.\n",
      "Image 1237648704595887198 downloaded.\n",
      "Image 1237648704595887199 downloaded.\n",
      "Image 1237648704595887200 downloaded.\n",
      "Image 1237648704595887205 downloaded.\n",
      "Image 1237648704595887207 downloaded.\n",
      "Image 1237648704595887210 downloaded.\n",
      "Image 1237648704595887211 downloaded.\n",
      "Image 1237648704595887213 downloaded.\n",
      "Image 1237648704595887223 downloaded.\n",
      "Image 1237648704595887225 downloaded.\n",
      "Image 1237648704595887227 downloaded.\n",
      "Image 1237648704595887228 downloaded.\n",
      "Image 1237648704595887230 downloaded.\n",
      "Image 1237648704595887233 downloaded.\n",
      "Image 1237648704595887234 downloaded.\n",
      "Image 1237648704595887238 downloaded.\n",
      "Image 1237648704595887240 downloaded.\n",
      "Image 1237648704595887244 downloaded.\n",
      "Image 1237648704595887245 downloaded.\n",
      "Image 1237648704595887246 downloaded.\n",
      "Image 1237648704595887247 downloaded.\n",
      "Image 1237648704595887250 downloaded.\n",
      "Image 1237648704595887252 downloaded.\n",
      "Image 1237648704595887257 downloaded.\n",
      "Image 1237648704595887261 downloaded.\n",
      "Image 1237648704595887265 downloaded.\n",
      "Image 1237648704595887266 downloaded.\n",
      "Image 1237648704597131731 downloaded.\n",
      "Image 1237648704597131735 downloaded.\n",
      "Image 1237648704597131736 downloaded.\n",
      "Image 1237648704597131737 downloaded.\n",
      "Image 1237648704597131738 downloaded.\n",
      "Image 1237648704597131741 downloaded.\n",
      "Image 1237648704597131742 downloaded.\n"
     ]
    }
   ],
   "source": [
    "import requests\n",
    "import os\n",
    "import pandas as pd\n",
    "import random\n",
    "\n",
    "# Cargar el CSV\n",
    "csv_path = \"/home/haizeagonzalez/myproject/primaryObjs.csv\"  # Reemplaza con el nombre correcto\n",
    "df = pd.read_csv(csv_path, dtype={\"objID\": str})  # Cargar el CSV sin filtros\n",
    "df = df[['objID', 'ra', 'dec', 'type']]\n",
    "\n",
    "df['objID'] = df['objID'].astype(str)  # Convertir 'objID' a string\n",
    "df['ra'] = df['ra'].astype(str)  # Convertir 'ra' a float\n",
    "df['dec'] = df['dec'].astype(str)  # Convertir 'dec' a float\n",
    "df['type'] = df['type'].astype(int)  # Convertir 'dec' a float\n",
    "\n",
    "# Dividir en 80% entrenamiento y 20% prueba\n",
    "train_df = df.sample(frac=0.8, random_state=132)\n",
    "test_df = df.drop(train_df.index) \n",
    "print(f\"Tamaño Total: {len(df)}\")\n",
    "\n",
    "if not os.path.exists(\"/home/haizeagonzalez/myproject/images\"):\n",
    "    os.makedirs(\"images\")\n",
    "\n",
    "# Crear carpetas si no existen\n",
    "for folder in [\"train\", \"test\"]:\n",
    "    for obj_type in [\"galaxy\", \"star\"]:\n",
    "        path = f\"images/{folder}/{obj_type}\"\n",
    "        os.makedirs(path, exist_ok=True)\n",
    "\n",
    "# Función mejorada para descargar imágenes\n",
    "def download_sdss_image(ra, dec, objID, obj_type, folder):    \n",
    "    url = f\"https://skyserver.sdss.org/dr16/SkyServerWS/ImgCutout/getjpeg?ra={ra}&dec={dec}&scale=0.2&width=64&height=64\"\n",
    "    save_path = f\"images/{folder}/{obj_type}/{objID}.jpg\"\n",
    "\n",
    "    print(f\"Downloading {objID}\")  # Debugging print\n",
    "    \n",
    "    try:\n",
    "        response = requests.get(url, timeout=10)\n",
    "        if response.status_code == 200:\n",
    "            with open(save_path, \"wb\") as handler:\n",
    "                handler.write(response.content)\n",
    "            print(f\"Image {objID} ({obj_type}, {folder}) downloaded.\")\n",
    "            return True\n",
    "        else:\n",
    "            print(f\"Failed to download {objID}. HTTP Status: {response.status_code}\")\n",
    "            return False\n",
    "    except requests.RequestException as e:\n",
    "        print(f\"Error downloading {objID}: {e}\")\n",
    "        return False\n",
    "\n",
    "\n",
    "\n",
    "# Descargar imágenes para entrenamiento\n",
    "success_count = 0\n",
    "failure_count = 0\n",
    "\n",
    "for _, row in train_df.iterrows():\n",
    "    obj_type = \"galaxy\" if row[\"type\"] == 3 else \"star\"\n",
    "    if download_sdss_image(row[\"ra\"], row[\"dec\"], row[\"objID\"], obj_type, \"train\"):\n",
    "        success_count += 1\n",
    "    else:\n",
    "        failure_count += 1\n",
    "\n",
    "print(f\"Total downloaded: {success_count}\")\n",
    "print(f\"Failed downloads: {failure_count}\")\n",
    "\n",
    "# Descargar imágenes para prueba\n",
    "for _, row in test_df.iterrows():\n",
    "    obj_type = \"galaxy\" if row[\"type\"] == 3 else \"star\"\n",
    "    download_sdss_image(row[\"ra\"], row[\"dec\"], row[\"objID\"], obj_type, \"test\")\n",
    "\n",
    "print(\"All images downloaded.\")"
   ]
  }
 ],
 "metadata": {
  "kernelspec": {
   "display_name": "bigdataenv",
   "language": "python",
   "name": "python3"
  },
  "language_info": {
   "codemirror_mode": {
    "name": "ipython",
    "version": 3
   },
   "file_extension": ".py",
   "mimetype": "text/x-python",
   "name": "python",
   "nbconvert_exporter": "python",
   "pygments_lexer": "ipython3",
   "version": "3.12.3"
  },
  "orig_nbformat": 4
 },
 "nbformat": 4,
 "nbformat_minor": 2
}
