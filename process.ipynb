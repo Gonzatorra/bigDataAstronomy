{
 "cells": [
  {
   "attachments": {},
   "cell_type": "markdown",
   "metadata": {},
   "source": [
    "# Objective of the project 🚀"
   ]
  },
  {
   "attachments": {},
   "cell_type": "markdown",
   "metadata": {},
   "source": [
    "My objective is to create a machine learning model for object classification and then, try and compare it with a convolutional neural network (CNN) for images. For that, I will use Spark MLlib to train and evaluate the model. Secondly, create the CNN and compare both 🪐\n",
    "\n",
    "\n"
   ]
  },
  {
   "attachments": {},
   "cell_type": "markdown",
   "metadata": {},
   "source": [
    "# First Steps"
   ]
  },
  {
   "attachments": {},
   "cell_type": "markdown",
   "metadata": {},
   "source": [
    "## Download the data"
   ]
  },
  {
   "attachments": {},
   "cell_type": "markdown",
   "metadata": {},
   "source": [
    "The source of the data is: https://skyserver.sdss.org/CasJobs/\n",
    "It is necessary to register and login a user to download the data you want. Then, you have to make a query specifying:\n",
    "- Amount of rows\n",
    "- Columns\n",
    "- Where to keep the csv\n",
    "- The database\n",
    "\n",
    "As I want to get as much as possible data, I will not a maximum of rows.\n",
    "\n",
    "I also add a \"where\" so I can get only data from planets, galaxies and stars:\n",
    "- type = 3: Galaxies\n",
    "- type = 6: Stars\n",
    "\n",
    "and I downloaded the dataset to start working with it."
   ]
  },
  {
   "attachments": {},
   "cell_type": "markdown",
   "metadata": {},
   "source": [
    "<img src=\"/home/haizeagonzalez/myproject/bigDataAstronomy/notebookImages/img1.png\">"
   ]
  },
  {
   "cell_type": "code",
   "execution_count": null,
   "metadata": {},
   "outputs": [],
   "source": []
  },
  {
   "cell_type": "markdown",
   "metadata": {},
   "source": [
    "## Understanding the data"
   ]
  },
  {
   "cell_type": "markdown",
   "metadata": {},
   "source": [
    "The columns we have are:\n",
    "- objID: Unique identifier of the object → TYPE bigInt\n",
    "- ra: Right ascension → TYPE float\n",
    "- dec: Declination → TYPE float\n",
    "- petroRad: Petrosian radius, used to know the size of galaxies in astronomical pictures. It is the amount of light that a galaxy emits in a sepecific radius. Very used because it is independent of the distance and brightness. We use different photometric filters:\n",
    "    - petroRad_u: Near-ultraviolet\n",
    "    - petroRad_g: Blue-Green\n",
    "    - petroRad_r: Red\n",
    "    - petroRad_i: Near-infrared\n",
    "    - petroRad_z: Deeper infrared\n",
    " → TYPE: Real\n",
    "\n",
    "- modelMag: Brightness measure adjusted to a galaxy model. Usual for galaxies. Also for all filters (u, g, r, i and z) → TYPE Real\n",
    "- psfMag: Brightness measure based on the point source light profile. Usual for stars. Also for all filters (u, g, r, i and z) → TYPE Real\n",
    "- u_g: (modelMag_u - modelMag_g)\n",
    "- g_r: (modelMag_g - modelMag_r)\n",
    "- r_i: (modelMag_r - modelMag_i)\n",
    "- i_z: (modelMag_i - modelMag_z)\n",
    "- fracDeV: The amount of brightness that the object has in the De Vaucouleurs profile. Also for all filters (u, g, r, i and z) → TYPE Real\n",
    "- flags: Bit comination that explains different characteristics of the object. If we convert it to binary and check SDSS documentarion, we get a meaning for each bit → TYPE bigInt\n",
    "- clean: Indicator that tell us if the object was cleaned → TYPE int\n",
    "\n"
   ]
  },
  {
   "cell_type": "markdown",
   "metadata": {},
   "source": [
    "### What for?"
   ]
  },
  {
   "cell_type": "markdown",
   "metadata": {},
   "source": [
    "PetroRad:\n",
    "- Stars: Small and constant in all filters.\n",
    "- Galaxies: Bigger and variates depending on the wavelengths.\n",
    "\n",
    "ModelMag and psfMag:\n",
    "- In the red filter:\n",
    "    - Stars: modelMag_r ≈ psfMag_r\n",
    "    - Galaxies: modelMag_r > psfMag_r\n",
    "- In other filers:\n",
    "    - Galaxies are usuarlly more red  (modelMag_g - modelMag_r is big).\n",
    "    - Stars has different colors depending on their type.\n",
    "\n",
    "fracDeV:\n",
    "- Stars: fracDeV ≈ 0.\n",
    "- Galaxies: fracDeV ≈ 1 (eliptic) or fracDeV < 1 (espiral).\n",
    "\n"
   ]
  },
  {
   "attachments": {},
   "cell_type": "markdown",
   "metadata": {},
   "source": [
    "# Spark"
   ]
  },
  {
   "cell_type": "markdown",
   "metadata": {},
   "source": [
    "## Spark configuration"
   ]
  },
  {
   "cell_type": "markdown",
   "metadata": {},
   "source": [
    "First, we need to create a spark sesion in case there is no one or get if there exists: \"getOrCreate\". I also decided to create a log in case there is any error during the process."
   ]
  },
  {
   "cell_type": "code",
   "execution_count": 1,
   "metadata": {},
   "outputs": [
    {
     "name": "stderr",
     "output_type": "stream",
     "text": [
      "your 131072x1 screen size is bogus. expect trouble\n",
      "25/03/13 17:05:35 WARN Utils: Your hostname, SS22-3006967600 resolves to a loopback address: 127.0.1.1; using 172.20.232.160 instead (on interface eth0)\n",
      "25/03/13 17:05:35 WARN Utils: Set SPARK_LOCAL_IP if you need to bind to another address\n",
      "Setting default log level to \"WARN\".\n",
      "To adjust logging level use sc.setLogLevel(newLevel). For SparkR, use setLogLevel(newLevel).\n",
      "25/03/13 17:05:36 WARN NativeCodeLoader: Unable to load native-hadoop library for your platform... using builtin-java classes where applicable\n"
     ]
    }
   ],
   "source": [
    "from pyspark.sql import SparkSession\n",
    "\n",
    "spark = SparkSession.builder.appName(\"bigDataAstronomyProject\").getOrCreate()\n",
    "spark.sparkContext.setLogLevel(\"ERROR\")\n",
    "\n"
   ]
  },
  {
   "cell_type": "markdown",
   "metadata": {},
   "source": [
    "Then, we need to read de csv data."
   ]
  },
  {
   "cell_type": "code",
   "execution_count": 4,
   "metadata": {},
   "outputs": [],
   "source": [
    "path = \"/home/haizeagonzalez/bigDataProject/primaryObjs.csv\"\n",
    "\n",
    "df = spark.read.csv(path, header=True)"
   ]
  },
  {
   "cell_type": "markdown",
   "metadata": {},
   "source": [
    "Now, we are going to check if the data is correctly loaded."
   ]
  },
  {
   "cell_type": "code",
   "execution_count": 5,
   "metadata": {},
   "outputs": [
    {
     "name": "stdout",
     "output_type": "stream",
     "text": [
      "+-------------------+----------------+------------------+----+----------+----------+----------+----------+----------+----------+----------+----------+----------+----------+--------+--------+--------+--------+--------+---------+---------+-------------+----------+---------+---------+---------+---------+----------+---------------+-----+\n",
      "|              objID|              ra|               dec|type|petroRad_u|petroRad_g|petroRad_r|petroRad_i|petroRad_z|modelMag_u|modelMag_g|modelMag_r|modelMag_i|modelMag_z|psfMag_u|psfMag_g|psfMag_r|psfMag_i|psfMag_z|      u_g|      g_r|          r_i|       i_z|fracDeV_u|fracDeV_g|fracDeV_r|fracDeV_i| fracDeV_z|          flags|clean|\n",
      "+-------------------+----------------+------------------+----+----------+----------+----------+----------+----------+----------+----------+----------+----------+----------+--------+--------+--------+--------+--------+---------+---------+-------------+----------+---------+---------+---------+---------+----------+---------------+-----+\n",
      "|1237648704596673591|228.133205738866| 0.189419197306071|   3|  2.969285|  2.969369|  2.220518|  1.249783|   1.62232|  23.71841|  23.55119|  21.70663|  21.07082|  20.94918|23.71531|24.25853|22.41145|21.53375|21.45539|0.1672249| 1.844557|    0.6358051| 0.1216412|        1|        0|        1|        1|         1|316730484195600|    1|\n",
      "|1237648704596673595|228.132667119533| 0.155016320524743|   3|  2.969285|  1.167545|    1.7132|  4.193829|  1.581682|  26.23039|  23.06768|  21.60064|  21.04392|  20.49498|25.81252|23.30065|22.16619|21.59607|20.93345|  3.16271| 1.467041|    0.5567226|  0.548933|        0|        1|0.5398329|        1|         0|    68987912448|    1|\n",
      "|1237648704596673596|228.133591481833|0.0626739181110149|   6|  7.357505|  1.317162|  1.048602|  0.980907| 0.9447467|   23.2214|  21.66433|  20.29408|  19.12956|  18.53254|23.29687|21.69403|20.32223|19.14626|18.55519| 1.557074| 1.370243|     1.164522| 0.5970211|        1|        1|        1|        0|         0|    69055021384|    1|\n",
      "|1237648704596673597|228.134526612738| 0.184396878919884|   3|  4.583073|  1.801946|  1.712365|  1.611359|  1.693891|  24.13848|   22.0195|  21.33374|  21.02932|  21.22839|24.35229| 22.5369|21.95571|21.76257|21.68405| 2.118977|0.6857586|    0.3044224|-0.1990643|0.2213039|        0|        0|        0|         0|    68987912448|    1|\n",
      "|1237648704596673600|228.134746034796|0.0513303225187829|   3|  7.357505|  1.275892|  1.897987|  2.219621|  2.806328|  25.94563|  22.67289|  20.76974|  20.01449|   19.5253|25.25427|23.28042|21.51431|20.77017|20.30231| 3.272739| 1.903149|    0.7552528|  0.489193|        1|        0|0.8176387|        1|0.05972257|    68987912448|    1|\n",
      "|1237648704596673601|228.135436960298|0.0465206752009805|   3|  1.529451|  1.516517|  1.452753|  3.800702|  2.970232|  22.62748|  22.42105|  21.79902|  21.57086|  22.21361|22.84985|22.74921|22.23782|21.97033|22.15221|0.2064247|0.6220398|    0.2281551|-0.6427536|        1|        1|        0|        1|         1|    68987912448|    1|\n",
      "|1237648704596673602|228.135810120824|0.0383140532919898|   3|  1.823351|  2.052975|  1.442957|  1.195688|  1.241435|  23.31253|  22.18809|  21.72752|    21.728|  21.49295|23.47264|22.53271|22.08589|    22.1|21.72621| 1.124439|0.4605713|-0.0004806519| 0.2350483|        1|0.7402861| 0.160501|0.3372153| 0.7511653|    68987912192|    1|\n",
      "|1237648704596673603|228.135706969247| 0.135016964266971|   6| 0.7134073|  1.140595|  1.132749| 0.9277821|  0.931531|  24.37991|  22.96101|  21.76162|  20.41283|  19.70002|24.20988|22.96505|21.82184|20.45126|19.70096| 1.418892| 1.199396|     1.348785| 0.7128162|        0|        1|        0|        1|         0|    68987912192|    1|\n",
      "|1237648704596673605|228.137119120399| 0.138930706793513|   3|  2.969285|  2.969369|  2.519946|  2.969986|  7.359852|  23.42524|  22.22177|  21.80001|  22.03525|  23.73267|24.56458|23.02275|22.87213|23.26385|23.09968| 1.203466|0.4217625|    -0.235239| -1.697422|        0|        0|        0|        0|         1|281543964623104|    1|\n",
      "|1237648704596673613|228.138360776843|0.0731866066746134|   3|  1.046744|   1.88157|  1.307295| 0.9633411|  1.562622|  23.02948|  22.25664|  21.87386|  21.54906|  21.34355|22.90016|22.49634|22.23204|21.75176|21.65852|0.7728405|0.3827801|    0.3247986| 0.2055111|        1|        1|        0|        1|         0|105555532185616|    1|\n",
      "|1237648704596673615|228.138386598436| 0.187229164179413|   6|  1.083686|  1.201956| 0.9640225| 0.9422169|  1.116567|  23.75787|  22.49124|   21.1148|  20.39421|  19.97207|23.75588|22.50238|21.15819|20.42044| 20.0078| 1.266636| 1.376434|    0.7205887|  0.422142|        1|        1|0.9983205|        0|         0|    68987912192|    1|\n",
      "|1237648704596673616|228.138678791242|0.0125585461003744|   3|  2.905516|   2.37311|   2.34492|  2.162898|  2.206184|  22.42896|  21.56379|  20.59733|  19.86494|  19.63614|23.12312|22.40815|21.56322| 20.8563|20.60041|0.8651695|0.9664516|    0.7323971| 0.2287998|        1|        0|        0|        0|         0|  2450547277824|    1|\n",
      "|1237648704596673618|228.139331703426| 0.212781082931336|   6|  2.969285|   1.09076|   1.08924| 0.9051506|  1.057727|  25.92635|  23.35114|  21.78671|  20.63976|  19.91965|25.89036|23.30975|21.77252|20.63534|19.91474| 2.575216| 1.564421|     1.146955| 0.7201118|        0|        1|        0|        0|         0|    68987912448|    1|\n",
      "|1237648704596673620| 228.14091295114|0.0641572455788585|   6|  2.969285|  1.131206|  1.105575|  1.009262|  1.011155|  25.28518|  21.63824|  20.31469|  19.49671|  19.01631|25.20087|21.63558|20.32779|19.49734|19.02662| 3.646946| 1.323544|    0.8179798|  0.480402|        1|        0| 0.511569|        0|         1| 35253360001296|    1|\n",
      "|1237648704596673626| 228.14182144385|0.0425139072777563|   3| 0.9543655|  2.969369|  2.042264|  1.426649|  1.640048|  23.36676|  22.47925|  21.09399|  20.61784|  20.24213|23.61166|23.02375|21.73804|21.21591|20.80515|0.8875103| 1.385258|    0.4761486| 0.3757133|        1|        1|        1|0.6541844| 0.4127298| 17661174087936|    1|\n",
      "|1237648704596673630|228.142630123835|0.0980218578449677|   6|   27.9153|  1.133189|  2.300974|   2.93181|  1.672956|  25.39514|   23.0061|  21.70307|  20.86877|  20.44747|25.06125|22.99777|21.73359|20.86797|20.44591|  2.38904| 1.303038|    0.8342972| 0.4212971|        0|        0|        0|        1|         1| 35253360136976|    1|\n",
      "|1237648704596673633|228.142664146071| 0.197280424562705|   3|  2.969285|  2.969369|  1.437083|  1.543922| 0.8909767|  23.27159|  22.77104|  21.70474|  21.28639|  20.96748| 23.3143|23.06283|22.08174|21.67632|21.29585|0.5005493| 1.066303|    0.4183445| 0.3189125|        1|        1|        0| 0.286461|         1|105622104178960|    1|\n",
      "|1237648704596673636|228.143752563171|0.0624049229984539|   3|  0.691259|  2.969369|  1.262619|  1.890306|  2.575164|  23.24219|  22.31861|  21.90146|  21.72495|  21.07799|23.17297|22.68129|22.31081| 22.2052|21.41852|0.9235802|0.4171486|    0.1765156| 0.6469593|        1|        0|        0|        0|         0|  2416187540224|    1|\n",
      "|1237648704596673637|228.144495675809| 0.111100316350891|   6| 0.8216941| 0.9715834| 0.9761356| 0.9204842| 0.9451327|  24.14613|   22.8366|   21.5246|  20.31857|  19.64246|24.20292|22.84755|21.48754|20.30396|19.65173| 1.309528| 1.312006|     1.206022| 0.6761169|        0|        1|        0|        1|         1|    68987912192|    1|\n",
      "|1237648704596673639|228.144350348705|0.0484642813853641|   3|  1.962816|  1.365865|  1.481539|  1.819084|  1.651328|  22.93299|   22.2439|  21.15378|  20.66732|   20.4084|23.29018|22.57443| 21.5526|21.11196|21.01716|0.6890869| 1.090128|    0.4864521| 0.2589226|        0|        0|        0|0.3870666|         0| 35253360001040|    1|\n",
      "+-------------------+----------------+------------------+----+----------+----------+----------+----------+----------+----------+----------+----------+----------+----------+--------+--------+--------+--------+--------+---------+---------+-------------+----------+---------+---------+---------+---------+----------+---------------+-----+\n",
      "only showing top 20 rows\n",
      "\n"
     ]
    }
   ],
   "source": [
    "df.show()"
   ]
  },
  {
   "cell_type": "markdown",
   "metadata": {},
   "source": [
    "The schema and the chacacteristics of the data."
   ]
  },
  {
   "cell_type": "code",
   "execution_count": 11,
   "metadata": {},
   "outputs": [
    {
     "name": "stdout",
     "output_type": "stream",
     "text": [
      "root\n",
      " |-- objID: string (nullable = true)\n",
      " |-- ra: string (nullable = true)\n",
      " |-- dec: string (nullable = true)\n",
      " |-- type: string (nullable = true)\n",
      " |-- petroRad_u: string (nullable = true)\n",
      " |-- petroRad_g: string (nullable = true)\n",
      " |-- petroRad_r: string (nullable = true)\n",
      " |-- petroRad_i: string (nullable = true)\n",
      " |-- petroRad_z: string (nullable = true)\n",
      " |-- modelMag_u: string (nullable = true)\n",
      " |-- modelMag_g: string (nullable = true)\n",
      " |-- modelMag_r: string (nullable = true)\n",
      " |-- modelMag_i: string (nullable = true)\n",
      " |-- modelMag_z: string (nullable = true)\n",
      " |-- psfMag_u: string (nullable = true)\n",
      " |-- psfMag_g: string (nullable = true)\n",
      " |-- psfMag_r: string (nullable = true)\n",
      " |-- psfMag_i: string (nullable = true)\n",
      " |-- psfMag_z: string (nullable = true)\n",
      " |-- u_g: string (nullable = true)\n",
      " |-- g_r: string (nullable = true)\n",
      " |-- r_i: string (nullable = true)\n",
      " |-- i_z: string (nullable = true)\n",
      " |-- fracDeV_u: string (nullable = true)\n",
      " |-- fracDeV_g: string (nullable = true)\n",
      " |-- fracDeV_r: string (nullable = true)\n",
      " |-- fracDeV_i: string (nullable = true)\n",
      " |-- fracDeV_z: string (nullable = true)\n",
      " |-- flags: string (nullable = true)\n",
      " |-- clean: string (nullable = true)\n",
      "\n"
     ]
    },
    {
     "name": "stderr",
     "output_type": "stream",
     "text": [
      "[Stage 7:============================================>              (6 + 2) / 8]\r"
     ]
    },
    {
     "name": "stdout",
     "output_type": "stream",
     "text": [
      "+-------+--------------------+------------------+--------------------+-----------------+------------------+------------------+------------------+------------------+-----------------+------------------+------------------+-----------------+------------------+------------------+-----------------+-----------------+------------------+------------------+------------------+-----------------+------------------+------------------+------------------+------------------+-------------------+------------------+-------------------+------------------+--------------------+-------+\n",
      "|summary|               objID|                ra|                 dec|             type|        petroRad_u|        petroRad_g|        petroRad_r|        petroRad_i|       petroRad_z|        modelMag_u|        modelMag_g|       modelMag_r|        modelMag_i|        modelMag_z|         psfMag_u|         psfMag_g|          psfMag_r|          psfMag_i|          psfMag_z|              u_g|               g_r|               r_i|               i_z|         fracDeV_u|          fracDeV_g|         fracDeV_r|          fracDeV_i|         fracDeV_z|               flags|  clean|\n",
      "+-------+--------------------+------------------+--------------------+-----------------+------------------+------------------+------------------+------------------+-----------------+------------------+------------------+-----------------+------------------+------------------+-----------------+-----------------+------------------+------------------+------------------+-----------------+------------------+------------------+------------------+------------------+-------------------+------------------+-------------------+------------------+--------------------+-------+\n",
      "|  count|             3500000|           3500000|             3500000|          3500000|           3500000|           3500000|           3500000|           3500000|          3500000|           3500000|           3500000|          3500000|           3500000|           3500000|          3500000|          3500000|           3500000|           3500000|           3500000|          3500000|           3500000|           3500000|           3500000|           3500000|            3500000|           3500000|            3500000|           3500000|             3500000|3500000|\n",
      "|   mean|1.237647470105112...|144.40231926233324| 0.06052075459651673|5.154395142857143|3.3088103638899784|2.1346886544061245| 1.838620204641933|1.9433240954554962| 2.09314987063269| 18.90280480446562|17.001785517245917|19.98708300519128| 18.34894097853545|17.223981649937098|18.92933831428278|  17.160487853577| 20.18644902992294|18.536127709197114| 17.37558801346005|1.901019265825065|-2.985297540892815|1.6381420201083672|1.1249593261134292|-3.382831272519517|-3.6239344842620036|0.5106222189460173|-0.5755739828991321|-1.380251005801812|2.081924895125898E15|    1.0|\n",
      "| stddev|1.020518247000959...| 64.93006377770291|  0.7477745083491703|1.349728682924835| 7.861010302424372|  5.14039846912086|3.5260117804011597| 4.680414775727845|4.096650205485378|197.66915307218304| 203.6362854714484|1.728767665167248|105.08208803726487| 138.2953216590223|197.6690386767864|203.6401643342904|1.8452186532703134|104.81254945333077|138.29829206400197|97.60424495308096|203.63805610375368|105.07360846382534|106.02578850935762| 197.2196112319514|  203.2077622444419|0.4697070833000007| 104.87123440748715|138.02878160931007|1.992748701901684...|    0.0|\n",
      "|    min| 1237645877936062496|  100.000005600362|-0.00010338710626...|                3|      0.0001014692|      0.0001058812|       0.001519508|      0.0002743761|     0.0001000708|             -9999|             -9999|               14|             -9999|             -9999|            -9999|            -9999|          13.92409|             -9999|             -9999|    -0.0001049042|     -0.0001106262|     -0.0001010895|     -0.0001010895|             -9999|              -9999|                 0|              -9999|             -9999|        103347650560|      1|\n",
      "|    max| 1237648720146792908|   99.999983124891|9.96766325709143E-05|                6|          99.48855|          99.20571|          9.993946|          99.87774|          99.6905|           31.8806|          32.36819|               22|          9.392354|          30.36201|           27.647|         30.82055|          26.12732|          9.392049|          26.61072|         9.994364|          9.990696|      9.918213E-05|          9.998626|      8.399929E-05|       9.845456E-05|      9.989597E-05|       9.967875E-05|      9.293543E-05|         98583056712|      1|\n",
      "+-------+--------------------+------------------+--------------------+-----------------+------------------+------------------+------------------+------------------+-----------------+------------------+------------------+-----------------+------------------+------------------+-----------------+-----------------+------------------+------------------+------------------+-----------------+------------------+------------------+------------------+------------------+-------------------+------------------+-------------------+------------------+--------------------+-------+\n",
      "\n"
     ]
    },
    {
     "name": "stderr",
     "output_type": "stream",
     "text": [
      "                                                                                \r"
     ]
    }
   ],
   "source": [
    "df.printSchema()\n",
    "df.describe().show()"
   ]
  },
  {
   "attachments": {},
   "cell_type": "markdown",
   "metadata": {},
   "source": [
    "As I need also de images, I have downloaded from https://skyserver.sdss.org/dr18, specifying with a request:\n",
    "- the location of the object (with right ascension (RA) and declination (dec))\n",
    "- the zoom of the picture (scale)\n",
    "- the dimmensions of the photo (with and height)"
   ]
  },
  {
   "cell_type": "code",
   "execution_count": null,
   "metadata": {},
   "outputs": [],
   "source": []
  },
  {
   "cell_type": "markdown",
   "metadata": {},
   "source": [
    "- Petrosian radio: https://skyserver.sdss.org/dr7/en/help/docs/algorithm.asp?key=mag_petro\n"
   ]
  }
 ],
 "metadata": {
  "kernelspec": {
   "display_name": "bigdataenv",
   "language": "python",
   "name": "python3"
  },
  "language_info": {
   "codemirror_mode": {
    "name": "ipython",
    "version": 3
   },
   "file_extension": ".py",
   "mimetype": "text/x-python",
   "name": "python",
   "nbconvert_exporter": "python",
   "pygments_lexer": "ipython3",
   "version": "3.12.3"
  },
  "orig_nbformat": 4
 },
 "nbformat": 4,
 "nbformat_minor": 2
}
