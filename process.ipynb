{
 "cells": [
  {
   "attachments": {},
   "cell_type": "markdown",
   "metadata": {},
   "source": [
    "# Objective of the project"
   ]
  },
  {
   "attachments": {},
   "cell_type": "markdown",
   "metadata": {},
   "source": [
    "My objective is to create a recommendation and classification model of astronomical objects.\n",
    "\n",
    "Firstly, I want to create a model that classifies if a picture contains a galaxy or a star. For that, I will use Spark MLlib to train and evaluate the model.\n",
    "\n",
    "Secondly, after the classification, it will recommend astronomers similar galaxies or stars taking into account some characteristics like brightness, distance,...\n",
    "\n",
    "All the data I will be kept in Hadoop and Spark will process it.\n",
    "\n",
    "\n"
   ]
  },
  {
   "attachments": {},
   "cell_type": "markdown",
   "metadata": {},
   "source": [
    "# First Steps"
   ]
  },
  {
   "attachments": {},
   "cell_type": "markdown",
   "metadata": {},
   "source": [
    "## Download the data"
   ]
  },
  {
   "attachments": {},
   "cell_type": "markdown",
   "metadata": {},
   "source": [
    "The source of the data is: https://skyserver.sdss.org/CasJobs/\n",
    "It is necessary to register and login a user to download the data you want. Then, you have to make a query specifying:\n",
    "- Amount of rows\n",
    "- Columns\n",
    "- Where to keep the csv\n",
    "- The database\n",
    "\n",
    "I also add a \"where\" so I can get only data from planets, galaxies and stars:\n",
    "- type = 1: Planets\n",
    "- type = 3: Galaxies\n",
    "- type = 6: Stars\n",
    "\n",
    "and I downloaded the dataset to start working with it."
   ]
  },
  {
   "attachments": {},
   "cell_type": "markdown",
   "metadata": {},
   "source": [
    "<img src=\"/home/haizeagonzalez/myproject/project/bigDataAstronomy/notebookImages/img1.png\">"
   ]
  },
  {
   "attachments": {},
   "cell_type": "markdown",
   "metadata": {},
   "source": [
    "As I need also de images, I have downloaded from https://skyserver.sdss.org/dr18, specifying with a request:\n",
    "- the location of the object (with right ascension (RA) and declination (dec))\n",
    "- the zoom of the picture (scale)\n",
    "- the dimmensions of the photo (with and height)"
   ]
  },
  {
   "cell_type": "code",
   "execution_count": null,
   "metadata": {},
   "outputs": [],
   "source": []
  }
 ],
 "metadata": {
  "language_info": {
   "name": "python"
  },
  "orig_nbformat": 4
 },
 "nbformat": 4,
 "nbformat_minor": 2
}
