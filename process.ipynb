{
 "cells": [
  {
   "attachments": {},
   "cell_type": "markdown",
   "metadata": {},
   "source": [
    "# Objective of the project 🚀"
   ]
  },
  {
   "attachments": {},
   "cell_type": "markdown",
   "metadata": {},
   "source": [
    "My objective is to create a machine learning model for object classification and then, try and compare it with a convolutional neural network (CNN) for images. For that, I will use Spark MLlib to train and evaluate the model. Secondly, create the CNN and compare both 🪐\n",
    "\n",
    "\n"
   ]
  },
  {
   "attachments": {},
   "cell_type": "markdown",
   "metadata": {},
   "source": [
    "# First Steps"
   ]
  },
  {
   "attachments": {},
   "cell_type": "markdown",
   "metadata": {},
   "source": [
    "## Download the data"
   ]
  },
  {
   "attachments": {},
   "cell_type": "markdown",
   "metadata": {},
   "source": [
    "The source of the data is: https://skyserver.sdss.org/CasJobs/\n",
    "It is necessary to register and login a user to download the data you want. Then, you have to make a query specifying:\n",
    "- Amount of rows\n",
    "- Columns\n",
    "- Where to keep the csv\n",
    "- The database\n",
    "\n",
    "As I want to get as much as possible data, I will not a maximum of rows.\n",
    "\n",
    "I also add a \"where\" so I can get only data from planets, galaxies and stars:\n",
    "- type = 3: Galaxies\n",
    "- type = 6: Stars\n",
    "\n",
    "and I downloaded the dataset to start working with it.\n"
   ]
  },
  {
   "cell_type": "markdown",
   "metadata": {},
   "source": [
    "![](notebookImages/img1.png)"
   ]
  },
  {
   "cell_type": "markdown",
   "metadata": {},
   "source": [
    "## Understanding the data"
   ]
  },
  {
   "cell_type": "markdown",
   "metadata": {},
   "source": [
    "The columns we have are:\n",
    "- objID: Unique identifier of the object → TYPE bigInt\n",
    "- ra: Right ascension → TYPE float\n",
    "- dec: Declination → TYPE float\n",
    "- petroRad: Petrosian radius, used to know the size of galaxies in astronomical pictures. It is the amount of light that a galaxy emits in a sepecific radius. Very used because it is independent of the distance and brightness. We use different photometric filters:\n",
    "    - petroRad_u: Near-ultraviolet\n",
    "    - petroRad_g: Blue-Green\n",
    "    - petroRad_r: Red\n",
    "    - petroRad_i: Near-infrared\n",
    "    - petroRad_z: Deeper infrared\n",
    " → TYPE: Real\n",
    "\n",
    "- modelMag: Brightness measure adjusted to a galaxy model. Usual for galaxies. Also for all filters (u, g, r, i and z) → TYPE Real\n",
    "- psfMag: Brightness measure based on the point source light profile. Usual for stars. Also for all filters (u, g, r, i and z) → TYPE Real\n",
    "- u_g: (modelMag_u - modelMag_g)\n",
    "- g_r: (modelMag_g - modelMag_r)\n",
    "- r_i: (modelMag_r - modelMag_i)\n",
    "- i_z: (modelMag_i - modelMag_z)\n",
    "- fracDeV: The amount of brightness that the object has in the De Vaucouleurs profile. Also for all filters (u, g, r, i and z) → TYPE Real\n",
    "- flags: Bit comination that explains different characteristics of the object. If we convert it to binary and check SDSS documentarion, we get a meaning for each bit → TYPE bigInt\n",
    "- clean: Indicator that tell us if the object was cleaned → TYPE int\n",
    "\n"
   ]
  },
  {
   "cell_type": "markdown",
   "metadata": {},
   "source": [
    "### What for?"
   ]
  },
  {
   "cell_type": "markdown",
   "metadata": {},
   "source": [
    "PetroRad:\n",
    "- Stars: Small and constant in all filters.\n",
    "- Galaxies: Bigger and variates depending on the wavelengths.\n",
    "\n",
    "ModelMag and psfMag:\n",
    "- In the red filter:\n",
    "    - Stars: modelMag_r ≈ psfMag_r\n",
    "    - Galaxies: modelMag_r > psfMag_r\n",
    "- In other filers:\n",
    "    - Galaxies are usuarlly more red  (modelMag_g - modelMag_r is big).\n",
    "    - Stars has different colors depending on their type.\n",
    "\n",
    "fracDeV:\n",
    "- Stars: fracDeV ≈ 0.\n",
    "- Galaxies: fracDeV ≈ 1 (eliptic) or fracDeV < 1 (espiral).\n",
    "\n"
   ]
  },
  {
   "attachments": {},
   "cell_type": "markdown",
   "metadata": {},
   "source": [
    "# Spark"
   ]
  },
  {
   "cell_type": "markdown",
   "metadata": {},
   "source": [
    "## Spark configuration"
   ]
  },
  {
   "cell_type": "markdown",
   "metadata": {},
   "source": [
    "First, we need to create a spark sesion in case there is no one or get if there exists: \"getOrCreate\". I also decided to create a log in case there is any error during the process."
   ]
  },
  {
   "cell_type": "code",
   "execution_count": null,
   "metadata": {},
   "outputs": [],
   "source": [
    "from pyspark.sql import SparkSession\n",
    "\n",
    "spark = SparkSession.builder \\\n",
    "    .appName(\"bigDataAstronomyProject\") \\\n",
    "    .config(\"spark.executor.memory\", \"16g\") \\\n",
    "    .config(\"spark.driver.memory\", \"8g\") \\\n",
    "    .config(\"spark.executor.cores\", \"8\") \\\n",
    "    .config(\"spark.executor.instances\", \"4\") \\\n",
    "    .getOrCreate()\n",
    "\n",
    "spark.sparkContext.setLogLevel(\"ERROR\")"
   ]
  },
  {
   "cell_type": "markdown",
   "metadata": {},
   "source": [
    "Then, we need to read de csv data."
   ]
  },
  {
   "cell_type": "code",
   "execution_count": null,
   "metadata": {},
   "outputs": [],
   "source": [
    "import config\n",
    "\n",
    "df = spark.read.csv(config.DATA_PATH, header=True)\n",
    "print(df.count())\n",
    "#df2 = spark.read.csv(config.DATA_PATH2, header=True)\n",
    "#print(df2.count())\n",
    "#\n",
    "#df = df.union(df2)\n",
    "#print(df.count())"
   ]
  },
  {
   "cell_type": "markdown",
   "metadata": {},
   "source": [
    "Now, we are going to check if the data is correctly loaded."
   ]
  },
  {
   "cell_type": "code",
   "execution_count": null,
   "metadata": {},
   "outputs": [],
   "source": [
    "df.show()"
   ]
  },
  {
   "cell_type": "markdown",
   "metadata": {},
   "source": [
    "The schema and the chacacteristics of the data."
   ]
  },
  {
   "cell_type": "code",
   "execution_count": null,
   "metadata": {},
   "outputs": [],
   "source": [
    "df.printSchema()"
   ]
  },
  {
   "cell_type": "markdown",
   "metadata": {},
   "source": [
    "As all columns are string, we need to convert them into their type. For that:"
   ]
  },
  {
   "cell_type": "code",
   "execution_count": null,
   "metadata": {},
   "outputs": [],
   "source": [
    "from pyspark.sql.functions import col\n",
    "\n",
    "df = df.withColumn(\"objID\", col(\"objID\").cast(\"long\")) \\\n",
    "       .withColumn(\"ra\", col(\"ra\").cast(\"float\")) \\\n",
    "       .withColumn(\"dec\", col(\"dec\").cast(\"float\")) \\\n",
    "       .withColumn(\"petroRad_u\", col(\"petroRad_u\").cast(\"float\")) \\\n",
    "       .withColumn(\"petroRad_g\", col(\"petroRad_g\").cast(\"float\")) \\\n",
    "       .withColumn(\"petroRad_r\", col(\"petroRad_r\").cast(\"float\")) \\\n",
    "       .withColumn(\"petroRad_i\", col(\"petroRad_i\").cast(\"float\")) \\\n",
    "       .withColumn(\"petroRad_z\", col(\"petroRad_z\").cast(\"float\")) \\\n",
    "       .withColumn(\"modelMag_u\", col(\"modelMag_u\").cast(\"float\")) \\\n",
    "       .withColumn(\"modelMag_g\", col(\"modelMag_g\").cast(\"float\")) \\\n",
    "       .withColumn(\"modelMag_r\", col(\"modelMag_r\").cast(\"float\")) \\\n",
    "       .withColumn(\"modelMag_i\", col(\"modelMag_i\").cast(\"float\")) \\\n",
    "       .withColumn(\"modelMag_z\", col(\"modelMag_z\").cast(\"float\")) \\\n",
    "       .withColumn(\"psfMag_u\", col(\"psfMag_u\").cast(\"float\")) \\\n",
    "       .withColumn(\"psfMag_g\", col(\"psfMag_g\").cast(\"float\")) \\\n",
    "       .withColumn(\"psfMag_r\", col(\"psfMag_r\").cast(\"float\")) \\\n",
    "       .withColumn(\"psfMag_i\", col(\"psfMag_i\").cast(\"float\")) \\\n",
    "       .withColumn(\"psfMag_z\", col(\"psfMag_z\").cast(\"float\")) \\\n",
    "       .withColumn(\"u_g\", col(\"u_g\").cast(\"float\")) \\\n",
    "       .withColumn(\"g_r\", col(\"g_r\").cast(\"float\")) \\\n",
    "       .withColumn(\"r_i\", col(\"r_i\").cast(\"float\")) \\\n",
    "       .withColumn(\"i_z\", col(\"i_z\").cast(\"float\")) \\\n",
    "       .withColumn(\"fracDeV_u\", col(\"fracDeV_u\").cast(\"float\")) \\\n",
    "       .withColumn(\"fracDeV_g\", col(\"fracDeV_g\").cast(\"float\")) \\\n",
    "       .withColumn(\"fracDeV_r\", col(\"fracDeV_r\").cast(\"float\")) \\\n",
    "       .withColumn(\"fracDeV_i\", col(\"fracDeV_i\").cast(\"float\")) \\\n",
    "       .withColumn(\"fracDeV_z\", col(\"fracDeV_z\").cast(\"float\")) \\\n",
    "       .withColumn(\"flags\", col(\"flags\").cast(\"long\")) \\\n",
    "       .withColumn(\"clean\", col(\"clean\").cast(\"int\"))\n",
    "\n",
    "df.printSchema()"
   ]
  },
  {
   "cell_type": "markdown",
   "metadata": {},
   "source": [
    "Now that we have all the structure, we are going to explore and clean the data."
   ]
  },
  {
   "attachments": {},
   "cell_type": "markdown",
   "metadata": {},
   "source": [
    "## Data cleaning and understanding"
   ]
  },
  {
   "attachments": {},
   "cell_type": "markdown",
   "metadata": {},
   "source": [
    "In principle, the data is cleaned because we get it from CasJobs and we apply clear filter to get good data. \n",
    "However, we are going to check whether there is any null value and the amount of galaxies and stars.  "
   ]
  },
  {
   "cell_type": "code",
   "execution_count": null,
   "metadata": {},
   "outputs": [],
   "source": [
    "from pyspark.sql.functions import col, when, count\n",
    "\n",
    "df.select([count(when(col(c).isNull(), c)).alias(c) for c in df.columns]).show()"
   ]
  },
  {
   "cell_type": "code",
   "execution_count": null,
   "metadata": {},
   "outputs": [],
   "source": [
    "import matplotlib.pyplot as plt\n",
    "import pandas as pd\n",
    "\n",
    "number_stars = df.filter(df.type == 6).count()\n",
    "number_galaxies = df.filter(df.type == 3).count()\n",
    "\n",
    "#Convert the data into a dataframe to make the plot\n",
    "data = pd.DataFrame({\n",
    "    \"type\": [\"Stars\", \"Galaxies\"],\n",
    "    \"count\": [number_stars, number_galaxies]\n",
    "})\n",
    "\n",
    "\n",
    "plt.figure(figsize=(8, 6))\n",
    "plt.bar(data[\"type\"], data[\"count\"], color=[\"#ff9300\", \"#42c9c9\"], edgecolor=[\"#cc7400\", \"#329999\"], linewidth=2)\n",
    "plt.xlabel(\"Object type\")\n",
    "plt.ylabel(\"Count\")\n",
    "plt.title(\"Total of Stars and Galaxies\")\n",
    "\n",
    "\n",
    "plt.show()"
   ]
  },
  {
   "attachments": {},
   "cell_type": "markdown",
   "metadata": {},
   "source": [
    "As we can see, there is no null values and the amount of galaxies are less than the amount of stars, which make sense."
   ]
  },
  {
   "attachments": {},
   "cell_type": "markdown",
   "metadata": {},
   "source": [
    "The next step is to change \"type\" label. As it is a binary classification, we will update stars to 0 and galaxies to 1."
   ]
  },
  {
   "cell_type": "code",
   "execution_count": null,
   "metadata": {},
   "outputs": [],
   "source": [
    "df = df.withColumn(\"type\", when(col(\"type\") == 3,1).otherwise(0))"
   ]
  },
  {
   "cell_type": "code",
   "execution_count": null,
   "metadata": {},
   "outputs": [],
   "source": [
    "df_stars = df.filter(df[\"type\"] == 0)\n",
    "df_galaxies = df.filter(df[\"type\"] == 1)\n",
    "\n",
    "#Print to know the conversion is correctly done\n",
    "df_stars.show(5)\n",
    "df_galaxies.show(5)"
   ]
  },
  {
   "cell_type": "code",
   "execution_count": null,
   "metadata": {},
   "outputs": [],
   "source": [
    "df_ml_model = df.select(\"type\", \"petroRad_u\", \"petroRad_g\", \"petroRad_r\", \"petroRad_i\", \"petroRad_z\",\n",
    "                        \"modelMag_u\", \"modelMag_g\", \"modelMag_r\", \"modelMag_i\", \"modelMag_z\",\n",
    "                        \"psfMag_u\", \"psfMag_g\", \"psfMag_r\", \"psfMag_i\", \"psfMag_z\",\n",
    "                        \"u_g\", \"g_r\", \"r_i\", \"i_z\",\n",
    "                        \"fracDeV_u\", \"fracDeV_g\", \"fracDeV_r\", \"fracDeV_i\", \"fracDeV_z\")\n",
    "\n",
    "df_ml_model.printSchema()"
   ]
  },
  {
   "cell_type": "code",
   "execution_count": null,
   "metadata": {},
   "outputs": [],
   "source": [
    "import seaborn as sns\n",
    "import numpy as np\n",
    "import matplotlib.pyplot as plt\n",
    "\n",
    "df_pd = df_ml_model.toPandas()\n",
    "\n",
    "#Remove the column type, it is not numerical\n",
    "df_corr = df_pd.drop(columns=[\"type\"]).corr()\n",
    "\n",
    "groups = {\n",
    "    \"Petrosian Radio\": [\"petroRad_u\", \"petroRad_g\", \"petroRad_r\", \"petroRad_i\", \"petroRad_z\"],\n",
    "    \"Model Magnitudes\": [\"modelMag_u\", \"modelMag_g\", \"modelMag_r\", \"modelMag_i\", \"modelMag_z\"],\n",
    "    \"PSF Magnitudes\": [\"psfMag_u\", \"psfMag_g\", \"psfMag_r\", \"psfMag_i\", \"psfMag_z\"],\n",
    "    \"Color Indices\": [\"u_g\", \"g_r\", \"r_i\", \"i_z\"],\n",
    "    \"FracDeV\": [\"fracDeV_u\", \"fracDeV_g\", \"fracDeV_r\", \"fracDeV_i\", \"fracDeV_z\"],\n",
    "    \"Wave u\": [\"petroRad_u\", \"modelMag_u\", \"psfMag_u\", \"fracDeV_u\"],\n",
    "    \"Wave g\": [\"petroRad_g\", \"modelMag_g\", \"psfMag_g\", \"fracDeV_g\"],\n",
    "    \"Wave r\": [\"petroRad_r\", \"modelMag_r\", \"psfMag_r\", \"fracDeV_r\"],\n",
    "    \"Wave i\": [\"petroRad_i\", \"modelMag_i\", \"psfMag_i\", \"fracDeV_i\"],\n",
    "    \"Wave z\": [\"petroRad_z\", \"modelMag_z\", \"psfMag_z\", \"fracDeV_z\"]\n",
    "\n",
    "}\n",
    "\n",
    "def plot_heatmap(df, cols, title):\n",
    "    df_corr = df[cols].corr()  # Calcular matriz de correlación\n",
    "    mask = np.triu(np.ones_like(df_corr, dtype=bool))  # Ocultar parte superior\n",
    "\n",
    "    plt.figure(figsize=(8, 6))\n",
    "    sns.heatmap(df_corr, mask=mask, annot=True, fmt=\".2f\", cmap=\"coolwarm\", linewidths=0.5, vmin=-1, vmax=1)\n",
    "    plt.title(f\"Heatmap of {title}\")\n",
    "    plt.show()\n",
    "\n",
    "# Graficar heatmaps por grupo\n",
    "for group_name, columns in groups.items():\n",
    "    plot_heatmap(df_pd, columns, group_name)"
   ]
  },
  {
   "cell_type": "markdown",
   "metadata": {},
   "source": [
    "## Spark ML"
   ]
  },
  {
   "cell_type": "code",
   "execution_count": null,
   "metadata": {},
   "outputs": [],
   "source": [
    "import set_seed\n",
    "\n",
    "\n",
    "set_seed.set_seed(132)"
   ]
  },
  {
   "cell_type": "markdown",
   "metadata": {},
   "source": [
    "As our objective is to create a machine learning model, we need to convert the data in a correct format: Vectors."
   ]
  },
  {
   "cell_type": "code",
   "execution_count": null,
   "metadata": {},
   "outputs": [],
   "source": [
    "from pyspark.ml.feature import VectorAssembler\n",
    "\n",
    "features = df_ml_model.columns[1:] #We don't get the type beacuse is the result we want to get.\n",
    "assembler = VectorAssembler(inputCols = features, outputCol = \"features\") #Convert features list as a vector\n",
    "df_ml_model = assembler.transform(df_ml_model) #Apply transformation\n",
    "df_ml_model = df_ml_model.select(\"features\", \"type\")\n",
    "\n",
    "df_ml_model.head(5)"
   ]
  },
  {
   "cell_type": "markdown",
   "metadata": {},
   "source": [
    "Now, we are going to divide the dataset into train and test, so we can get the accuracy of the model."
   ]
  },
  {
   "cell_type": "code",
   "execution_count": null,
   "metadata": {},
   "outputs": [],
   "source": [
    "train_data, test_data = df_ml_model.randomSplit([0.8, 0.2], seed = 132)"
   ]
  },
  {
   "cell_type": "markdown",
   "metadata": {},
   "source": [
    "We are going to try different models to check which is the best for our case."
   ]
  },
  {
   "cell_type": "code",
   "execution_count": null,
   "metadata": {},
   "outputs": [],
   "source": [
    "from pyspark.ml.classification import LogisticRegression, DecisionTreeClassifier, RandomForestClassifier, GBTClassifier, LinearSVC\n",
    "\n",
    "#Define different models\n",
    "models = {\n",
    "    \"Logistic Regression\": LogisticRegression(labelCol=\"type\", featuresCol=\"features\"),\n",
    "    \"Decision Tree\": DecisionTreeClassifier(labelCol=\"type\", featuresCol=\"features\"),\n",
    "    \"Random Forest\": RandomForestClassifier(labelCol=\"type\", featuresCol=\"features\", numTrees=5),\n",
    "    \"Gradient Boosted Trees\": GBTClassifier(labelCol=\"type\", featuresCol=\"features\"),\n",
    "    \"Linear SVM\": LinearSVC(labelCol=\"type\", featuresCol=\"features\")\n",
    "}"
   ]
  },
  {
   "attachments": {},
   "cell_type": "markdown",
   "metadata": {},
   "source": [
    "Now, we are going to calculate the **AUC evaluator** for model and look how well they are doing. I decided to use AUC because it is a good technique to use for binary classification, especially when classes are unbalanced.\n",
    "\n",
    "Remember that the ROC curve gives a visual representation between the true prositive rate and false positive rate at different thresholds. So, it tell us how well the model can detect true positive and avoid false positives. Moreover, AUC is one scalar value from 0 to  that tell how the model performs globally. AUC represents the area beneath the curve.\n",
    "- AUC = 0.5 ⭢ Random Predictions\n",
    "- AUC > 0.5 ⭢ Increasingly good predictions\n",
    "- AUC = 1 ⭢ Perfect predictions\n",
    "\n",
    "\n",
    "\n",
    "![](notebookImages/img2.png)"
   ]
  },
  {
   "cell_type": "code",
   "execution_count": null,
   "metadata": {},
   "outputs": [],
   "source": [
    "from pyspark.ml.evaluation import BinaryClassificationEvaluator\n",
    "from sklearn.metrics import auc\n",
    "\n",
    "evaluator = BinaryClassificationEvaluator(labelCol=\"type\", metricName=\"areaUnderROC\")\n",
    "\n",
    "for name, model in models.items():\n",
    "    model_trained = model.fit(train_data)\n",
    "    predictions = model_trained.transform(test_data)\n",
    "    auc = evaluator.evaluate(predictions)\n",
    "    print(f\"{name}: AUC = {auc:.4f}\")"
   ]
  },
  {
   "cell_type": "code",
   "execution_count": null,
   "metadata": {},
   "outputs": [],
   "source": [
    "from sklearn.metrics import roc_curve, auc\n",
    "\n",
    "#Create the figure\n",
    "plt.figure(figsize=(10, 8))\n",
    "\n",
    "#Different colors for the different models\n",
    "colors = ['b', 'g', 'r', 'c', 'm', 'y', 'k']\n",
    "\n",
    "#For each model compute the AUC\n",
    "for idx, (name, model) in enumerate(models.items()):\n",
    "    model_trained = model.fit(train_data)\n",
    "    predictions = model_trained.transform(test_data) #Predicted class (0 or 1)\n",
    "\n",
    "    #Check if the model has \"probability\" column because some of them (SVG for example) do not\n",
    "    if \"probability\" in predictions.columns:\n",
    "        #Get the whole probability vector, convert it into rdd and select the probability for the positive (real) prediction\n",
    "        prob_positives = predictions.select(\"probability\").rdd.map(lambda row: row[0][1]).collect()\n",
    "        #Get the label for each prediction\n",
    "        true_labels = predictions.select(\"type\").rdd.map(lambda row: row[0]).collect()\n",
    "\n",
    "        #Calculate ROC curve\n",
    "        fpr, tpr, _ = roc_curve(true_labels, prob_positives)\n",
    "        roc_auc = auc(fpr, tpr)\n",
    "\n",
    "        #Plot it\n",
    "        plt.plot(fpr, tpr, color=colors[idx % len(colors)], lw=2, label=f'{name} (AUC = {roc_auc:.4f})')\n",
    "    else:\n",
    "        print(f\"The model {name} does not have 'probability' column so it will not be in the graphic.\")\n",
    "\n",
    "#Different parameters to personalize the plot\n",
    "plt.plot([0, 1], [0, 1], color='gray', linestyle='--')  #Diagonal line of \"random\"\n",
    "plt.xlim([0.0, 1.0])\n",
    "plt.ylim([0.0, 1.05])\n",
    "plt.xlabel(\"False Positive Rate\")\n",
    "plt.ylabel(\"True Positive Rate\")\n",
    "plt.title(\"ROC Curve\")\n",
    "plt.legend(loc=\"lower right\")\n",
    "plt.grid()\n",
    "\n",
    "plt.show()"
   ]
  },
  {
   "attachments": {},
   "cell_type": "markdown",
   "metadata": {},
   "source": [
    "The AUC for Decision Tree is different. That is because PySpark uses BinaryClassificationEvaluator, so it is evaluating with the class prediction (star or galaxy), whereas scikit-learn uses the predicted probabilities to calculate the AUC. That is why scikit-learn should be more precise.\n",
    "\n",
    "Taking this into account, the best AUC is the one for logistic regression so we will use that model in order to make our predictions. \n",
    "\n",
    "Then, as our model has a very high AUC, we need to ensure that it is not overfitted. A high AUC does not necessarily mean good generalization; it could indicate that the model memorized the training data.\n",
    "\n",
    "To ensure about this, we will compute the confusion matrix for training and test sets. Comparing both we will know if the model is performing well or not with unseen data. We will use plots to visualize the matrices in order to make an easier and more interpetable comparison."
   ]
  },
  {
   "cell_type": "code",
   "execution_count": null,
   "metadata": {},
   "outputs": [],
   "source": [
    "lr = LogisticRegression(labelCol=\"type\", featuresCol=\"features\")\n",
    "lr_model = lr.fit(train_data)\n",
    "\n",
    "predictions_log_train = lr_model.transform(train_data)\n",
    "predictions_log_test = lr_model.transform(test_data)\n",
    "\n",
    "auc_train = evaluator.evaluate(predictions_log_train)\n",
    "auc_test = evaluator.evaluate(predictions_log_test)\n",
    "\n",
    "print(f\"Logistic Regression (Train): AUC = {auc_train:.4f}\\n\")\n",
    "print(f\"Logistic Regression (Test): AUC = {auc_test:.4f}\")"
   ]
  },
  {
   "attachments": {},
   "cell_type": "markdown",
   "metadata": {},
   "source": [
    "As we can see, the difference is almost non-existent which is good because this suggests that the model is generalizing correctly, data for train and test set are representative of the data. However, as it is a very high AUC, we can verify the confusion matrix in order to know if the model is correctly classifying. To make this, we will use the plot of the confusion matrix to visualize to get a conclusion in a easier and more interpetable way."
   ]
  },
  {
   "cell_type": "code",
   "execution_count": null,
   "metadata": {},
   "outputs": [],
   "source": [
    "from pyspark.sql import functions as F\n",
    "import seaborn as sns\n",
    "import numpy as np\n",
    "\n",
    "#Divide true positives, true negatives, false positives and false negatives\n",
    "##Train\n",
    "true_galaxies_train = predictions_log_train.filter((F.col(\"type\") == 1) & (F.col(\"prediction\") == 1)).count()\n",
    "true_stars_train = predictions_log_train.filter((F.col(\"type\") == 0) & (F.col(\"prediction\") == 0)).count()\n",
    "false_stars_train = predictions_log_train.filter((F.col(\"type\") == 0) & (F.col(\"prediction\") == 1)).count()\n",
    "false_galaxies_train = predictions_log_train.filter((F.col(\"type\") == 1) & (F.col(\"prediction\") == 0)).count()\n",
    "\n",
    "#Creating the confusion matrix\n",
    "conf_matrix_values_train = [[true_stars_train, false_stars_train], [false_galaxies_train, true_galaxies_train]]\n",
    "\n",
    "\n",
    "##Test\n",
    "true_galaxies_test = predictions_log_test.filter((F.col(\"type\") == 1) & (F.col(\"prediction\") == 1)).count()\n",
    "true_stars_test = predictions_log_test.filter((F.col(\"type\") == 0) & (F.col(\"prediction\") == 0)).count()\n",
    "false_stars_test = predictions_log_test.filter((F.col(\"type\") == 0) & (F.col(\"prediction\") == 1)).count()\n",
    "false_galaxies_test = predictions_log_test.filter((F.col(\"type\") == 1) & (F.col(\"prediction\") == 0)).count()\n",
    "\n",
    "#Creating the confusion matrix\n",
    "conf_matrix_values_test = [[true_stars_test, false_stars_test], [false_galaxies_test, true_galaxies_test]]\n",
    "\n",
    "\n",
    "#Plots\n",
    "fig, axes = plt.subplots(1, 2, figsize=(12, 5))  #Create two plots in 1 line\n",
    "\n",
    "#Train confusion matrix\n",
    "ax1 = sns.heatmap(np.array(conf_matrix_values_train), annot=True, fmt=\"d\", cmap=\"Blues\",\n",
    "                   xticklabels=[\"Stars prediction\", \"Galaxies prediction\"],\n",
    "                   yticklabels=[\"Real stars\", \"Real galaxies\"], ax=axes[0]) #Put in the axe 0, the left one\n",
    "ax1.set_xlabel(\"Prediction\")\n",
    "ax1.set_ylabel(\"Real value\")\n",
    "ax1.set_title(\"Confusion Matrix - Train\")\n",
    "\n",
    "#Test confusion matrix\n",
    "ax2 = sns.heatmap(np.array(conf_matrix_values_test), annot=True, fmt=\"d\", cmap=\"Blues\",\n",
    "                   xticklabels=[\"Stars prediction\", \"Galaxies prediction\"],\n",
    "                   yticklabels=[\"Real stars\", \"Real galaxies\"], ax=axes[1]) #Put in the axe 0, the right one\n",
    "ax2.set_xlabel(\"Prediction\")\n",
    "ax2.set_ylabel(\"Real value\")\n",
    "ax2.set_title(\"Confusion Matrix - Test\")\n",
    "\n",
    "\n",
    "plt.tight_layout()\n",
    "plt.show()\n"
   ]
  },
  {
   "attachments": {},
   "cell_type": "markdown",
   "metadata": {},
   "source": [
    "To detect if there is or not overfitting, we need to compare the error rate in train and test set. "
   ]
  },
  {
   "cell_type": "code",
   "execution_count": null,
   "metadata": {},
   "outputs": [],
   "source": [
    "##Train\n",
    "false_stars_train = conf_matrix_values_train[1][0]\n",
    "true_galaxies_train = conf_matrix_values_train[1][1]\n",
    "\n",
    "false_stars_train_rate = ((false_stars_train)/(false_stars_train + true_galaxies_train))*100\n",
    "false_stars_train_rate = round(false_stars_train_rate,2)\n",
    "\n",
    "\n",
    "##Test\n",
    "false_stars_test = conf_matrix_values_test[1][0]\n",
    "true_galaxies_test = conf_matrix_values_test[1][1]\n",
    "\n",
    "false_stars_test_rate = ((false_stars_test)/(false_stars_test + true_galaxies_test))*100\n",
    "false_stars_test_rate = round(false_stars_test_rate,2)\n",
    "\n",
    "\n",
    "#PLOTS\n",
    "fig, axes = plt.subplots(1, 2, figsize=(12, 5))  #Create two plots in 1 line\n",
    "colors_train = [\"#ff9300\", \"#9b9c9c\"]\n",
    "edge_colors = [\"#cc7400\", \"#808080\"]  #Darker border colors\n",
    "\n",
    "# Train Pie Chart\n",
    "sizes_train = [100 - false_stars_train_rate, false_stars_train_rate]\n",
    "wedges_train, _, autotexts_train = axes[0].pie(\n",
    "    sizes_train, labels=[\"Correct Predictions\", \"False Stars\"], autopct='%1.1f%%', colors=colors_train, startangle=140,\n",
    "    wedgeprops={\"linewidth\": 2}  # General border thickness\n",
    ")\n",
    "\n",
    "# Set custom edge colors for Train pie chart\n",
    "for wedge, edge_color in zip(wedges_train, edge_colors):\n",
    "    wedge.set_edgecolor(edge_color)\n",
    "\n",
    "axes[0].set_title(f\"Train - False Stars Rate: {false_stars_train_rate}%\")\n",
    "\n",
    "# Test Pie Chart\n",
    "sizes_test = [100 - false_stars_test_rate, false_stars_test_rate]\n",
    "wedges_test, _, autotexts_test = axes[1].pie(\n",
    "    sizes_test, labels=[\"Correct Predictions\", \"False Stars\"], autopct='%1.1f%%', colors=colors_train, startangle=140,\n",
    "    wedgeprops={\"linewidth\": 2}  # General border thickness\n",
    ")\n",
    "\n",
    "#Set custom edge colors for Test pie chart\n",
    "for wedge, edge_color in zip(wedges_test, edge_colors):\n",
    "    wedge.set_edgecolor(edge_color)\n",
    "\n",
    "axes[1].set_title(f\"Test - False Stars Rate: {false_stars_test_rate}%\")\n",
    "\n",
    "# Adjust layout and show plot\n",
    "plt.tight_layout()\n",
    "plt.show()"
   ]
  },
  {
   "cell_type": "code",
   "execution_count": null,
   "metadata": {},
   "outputs": [],
   "source": [
    "import matplotlib.pyplot as plt\n",
    "\n",
    "## Train\n",
    "false_galaxies_train = conf_matrix_values_train[0][1]\n",
    "true_stars_train = conf_matrix_values_train[0][0]\n",
    "\n",
    "false_galaxies_train_rate = ((false_galaxies_train) / (false_galaxies_train + true_stars_train)) * 100\n",
    "false_galaxies_train_rate = round(false_galaxies_train_rate, 2)\n",
    "\n",
    "## Test\n",
    "false_galaxies_test = conf_matrix_values_test[0][1]\n",
    "true_stars_test = conf_matrix_values_test[0][0]\n",
    "\n",
    "false_galaxies_test_rate = ((false_galaxies_test) / (false_galaxies_test + true_stars_test)) * 100\n",
    "false_galaxies_test_rate = round(false_galaxies_test_rate, 2)\n",
    "\n",
    "# Set up the subplots\n",
    "fig, axes = plt.subplots(1, 2, figsize=(12, 5))\n",
    "\n",
    "# Define colors for pie chart and their corresponding border colors\n",
    "colors = [\"#42c9c9\", \"#9b9c9c\"]  # Fill colors\n",
    "edge_colors = [\"#329999\", \"#808080\"]  # Darker border colors\n",
    "\n",
    "# Train Pie Chart\n",
    "sizes_train = [100 - false_galaxies_train_rate, false_galaxies_train_rate]\n",
    "wedges_train, _, autotexts_train = axes[0].pie(\n",
    "    sizes_train, labels=[\"Correct Predictions\", \"False Galaxies\"], autopct='%1.1f%%', colors=colors, startangle=140,\n",
    "    wedgeprops={\"linewidth\": 2}  # General border thickness\n",
    ")\n",
    "\n",
    "# Set custom edge colors for Train pie chart\n",
    "for wedge, edge_color in zip(wedges_train, edge_colors):\n",
    "    wedge.set_edgecolor(edge_color)\n",
    "\n",
    "axes[0].set_title(f\"Train - False Galaxies Rate: {false_galaxies_train_rate}%\")\n",
    "\n",
    "# Test Pie Chart\n",
    "sizes_test = [100 - false_galaxies_test_rate, false_galaxies_test_rate]\n",
    "wedges_test, _, autotexts_test = axes[1].pie(\n",
    "    sizes_test, labels=[\"Correct Predictions\", \"False Galaxies\"], autopct='%1.1f%%', colors=colors, startangle=140,\n",
    "    wedgeprops={\"linewidth\": 2}  # General border thickness\n",
    ")\n",
    "\n",
    "# Set custom edge colors for Test pie chart\n",
    "for wedge, edge_color in zip(wedges_test, edge_colors):\n",
    "    wedge.set_edgecolor(edge_color)\n",
    "\n",
    "axes[1].set_title(f\"Test - False Galaxies Rate: {false_galaxies_test_rate}%\")\n",
    "\n",
    "# Adjust layout and show plot\n",
    "plt.tight_layout()\n",
    "plt.show()"
   ]
  },
  {
   "attachments": {},
   "cell_type": "markdown",
   "metadata": {},
   "source": [
    "As both rates (train and test) are very similar, the model is not overfitting so it is generalizing correctly the data. However, As the AUC value is very big, we can use **regularization** technique to make a more robust model. Regularization is intended to prevent overfitting by penalizing large coefficients and forcing the model to learn simpler, more generalizable patterns. There are different types of regularization (L1, L2 (same that L1 but squared), L1+L2, dropout,...). In this case, we will use L2 regularization because it is the most estable one and because all the selected variables are relevant. For that, it is necessary to add *regParam* to the Logistic Regression. The selected value 0.1 is because it is a simple model, it has not many variables (just 24)."
   ]
  },
  {
   "cell_type": "code",
   "execution_count": null,
   "metadata": {},
   "outputs": [],
   "source": [
    "lr_with_reg = LogisticRegression(labelCol=\"type\", featuresCol=\"features\", regParam=0.1)\n",
    "model_with_reg = lr_with_reg.fit(train_data)\n",
    "\n",
    "#Evaluate the model with regularization\n",
    "predictions_with_reg = model_with_reg.transform(test_data)\n",
    "auc_with_reg = evaluator.evaluate(predictions_with_reg)\n",
    "print(f\"Logistic Regression (Regularization): AUC = {auc_with_reg:.4f}\")"
   ]
  },
  {
   "attachments": {},
   "cell_type": "markdown",
   "metadata": {},
   "source": [
    "As we can see, the AUC has decreased from 0.9919 to 0.9066 (in test). This will be good for the model to learn more generalizable patterns and not to overfit."
   ]
  },
  {
   "cell_type": "markdown",
   "metadata": {},
   "source": [
    "## PCA"
   ]
  },
  {
   "cell_type": "markdown",
   "metadata": {},
   "source": [
    "PCA is a technique that is used to reduce the dimensionality to simplify a large data set into a smaller one while maintaining significant patterns and trends. Trying to simplify the data we have, we are going to apply this technique. In this case, we will eliinate objID, ra, dec, flags and clean columns because we will not use it to train the models. Moreover, these features do not give us any information to classify the inspected object into a star or galaxy."
   ]
  },
  {
   "cell_type": "code",
   "execution_count": null,
   "metadata": {},
   "outputs": [],
   "source": [
    "df_filtered = df.drop(*[\"objID\", \"flags\", \"clean\", \"ra\", \"dec\"])\n",
    "df_filtered.show()"
   ]
  },
  {
   "cell_type": "markdown",
   "metadata": {},
   "source": [
    "We are going to check the number of columns and rows in the dataset. Additionally, we will calculate the rank of the matrix, which gives us the maximum number of linearly independent columns. In other words, the rank indicates how many columns provide unique information that cannot be expressed as a linear combination of the other columns (without linear dependence)."
   ]
  },
  {
   "cell_type": "code",
   "execution_count": null,
   "metadata": {},
   "outputs": [],
   "source": [
    "import numpy as np\n",
    "\n",
    "df_filtered = df_filtered.toPandas()"
   ]
  },
  {
   "cell_type": "code",
   "execution_count": null,
   "metadata": {},
   "outputs": [],
   "source": [
    "X = df_filtered.drop(columns = [\"type\"])\n",
    "Y = df_filtered[\"type\"]\n",
    "\n",
    "n_rows, n_cols = X.shape\n",
    "\n",
    "print(f\"Number of rows: {n_rows}\")\n",
    "print(f\"Number of columns: {n_cols}\")"
   ]
  },
  {
   "cell_type": "code",
   "execution_count": null,
   "metadata": {},
   "outputs": [],
   "source": [
    "from sklearn.model_selection import train_test_split\n",
    "\n",
    "#Split the data: train (80%) and test (20%)\n",
    "X_train, X_test, Y_train, Y_test = train_test_split(X, Y, test_size=0.2, random_state=132)\n",
    "\n",
    "print(\"Size of X_train:\", X_train.shape)\n",
    "print(\"Size of X_test:\", X_test.shape)"
   ]
  },
  {
   "cell_type": "code",
   "execution_count": null,
   "metadata": {},
   "outputs": [],
   "source": [
    "from sklearn.preprocessing import StandardScaler\n",
    "\n",
    "#Standardize the data\n",
    "scaler = StandardScaler()\n",
    "X_train_scaled = scaler.fit_transform(X_train) #We fit just with the train data\n",
    "X_test_scaled = scaler.transform(X_test)"
   ]
  },
  {
   "cell_type": "code",
   "execution_count": null,
   "metadata": {},
   "outputs": [],
   "source": [
    "import pandas as pd\n",
    "from sklearn.decomposition import PCA\n",
    "\n",
    "pca = PCA(n_components=n_cols-1)  #Taking into account that the number of components will be the matrix rank\n",
    "pca.fit(X_train_scaled)\n",
    "\n",
    "exp_variance = pd.DataFrame(data=pca.explained_variance_ratio_,\n",
    "                            index=['PC' + str(n_pca + 1) for n_pca in range(pca.n_components)],\n",
    "                            columns=['Exp_variance'])\n",
    "\n",
    "exp_variance['cum_Exp_variance'] = exp_variance['Exp_variance'].cumsum()\n",
    "exp_variance.head(24)"
   ]
  },
  {
   "cell_type": "code",
   "execution_count": null,
   "metadata": {},
   "outputs": [],
   "source": [
    "import seaborn as sns\n",
    "import matplotlib.pyplot as plt\n",
    "\n",
    "#Threshold to know the acumulated variances\n",
    "threshold = 0.95\n",
    "\n",
    "#Get the first index fir k where we get the selected theshold\n",
    "optimal_k = exp_variance[exp_variance['cum_Exp_variance'] >= threshold].index[0]\n",
    "\n",
    "#Plot it\n",
    "sns.barplot(data=exp_variance, x=exp_variance.index, y='Exp_variance', color='gray')\n",
    "sns.lineplot(data=exp_variance, x=exp_variance.index, y='cum_Exp_variance', color='blue', label='Cumulative Proportion')\n",
    "plt.axvline(x=optimal_k, color='red', linestyle='--', label=f'Optimal k = {optimal_k}')\n",
    "\n",
    "plt.ylabel('Proportion of Variance Explained')\n",
    "plt.xlabel('Principal Component')\n",
    "plt.xticks(rotation=90)\n",
    "plt.legend()\n",
    "plt.show()\n",
    "\n",
    "print(f\"Optimal k (number of components) based on {threshold*100}% variance: {optimal_k}\")\n"
   ]
  },
  {
   "cell_type": "code",
   "execution_count": null,
   "metadata": {},
   "outputs": [],
   "source": [
    "from pyspark.ml.feature import VectorAssembler, PCA\n",
    "from pyspark.ml import Pipeline\n",
    "from pyspark.ml.classification import LogisticRegression, DecisionTreeClassifier, RandomForestClassifier, GBTClassifier, LinearSVC\n",
    "from pyspark.ml.evaluation import BinaryClassificationEvaluator\n",
    "\n",
    "#We have to create a DataFrame from Spark to use it in the models\n",
    "df_spark = spark.createDataFrame(df_filtered)\n",
    "\n",
    "features_pca = df_spark.columns[1:]#We don't get the type beacuse is the result we want to get.\n",
    "\n",
    "assembler_pca = VectorAssembler(inputCols = features_pca, outputCol = \"features\") #Convert features list as a vector\n",
    "df_ml_model_pca = assembler_pca.transform(df_spark) #Apply transformation\n",
    "df_ml_model_pca = df_ml_model_pca.select(\"features\", \"type\")\n",
    "\n",
    "df_ml_model_pca.head(5)\n"
   ]
  },
  {
   "cell_type": "code",
   "execution_count": null,
   "metadata": {},
   "outputs": [],
   "source": [
    "train_data_pca, test_data_pca = df_ml_model_pca.randomSplit([0.8, 0.2], seed = 132)"
   ]
  },
  {
   "cell_type": "code",
   "execution_count": null,
   "metadata": {},
   "outputs": [],
   "source": [
    "#Define different models\n",
    "models = {\n",
    "    \"Logistic Regression\": LogisticRegression(labelCol=\"type\", featuresCol=\"features\"),\n",
    "    \"Decision Tree\": DecisionTreeClassifier(labelCol=\"type\", featuresCol=\"features\"),\n",
    "    \"Random Forest\": RandomForestClassifier(labelCol=\"type\", featuresCol=\"features\", numTrees=5),\n",
    "    \"Gradient Boosted Trees\": GBTClassifier(labelCol=\"type\", featuresCol=\"features\"),\n",
    "    \"Linear SVM\": LinearSVC(labelCol=\"type\", featuresCol=\"features\")\n",
    "}"
   ]
  },
  {
   "cell_type": "code",
   "execution_count": null,
   "metadata": {},
   "outputs": [],
   "source": [
    "k_number = int(optimal_k.replace('PC', '')) \n",
    "\n",
    "#Define PCA with the optimized k value\n",
    "pca = PCA(k=k_number, inputCol=\"features\", outputCol=\"pca_features\")\n",
    "\n",
    "#Select the evaluator\n",
    "evaluator = BinaryClassificationEvaluator(labelCol=\"type\", metricName=\"areaUnderROC\")\n",
    "\n",
    "#Apply PCA and train the models\n",
    "for name, model in models.items():\n",
    "    #Create the pipeline so first it will apply PCA and the the model\n",
    "    pipeline = Pipeline(stages=[pca, model])\n",
    "    \n",
    "    #Fit the model with the train data\n",
    "    model_trained = pipeline.fit(train_data_pca)\n",
    "    \n",
    "    #Make predictions with the test data\n",
    "    predictions = model_trained.transform(test_data_pca)\n",
    "    \n",
    "    #Evaluate the model the same way than before\n",
    "    auc = evaluator.evaluate(predictions)\n",
    "    print(f\"{name}: AUC = {auc:.4f}\")\n"
   ]
  },
  {
   "cell_type": "code",
   "execution_count": null,
   "metadata": {},
   "outputs": [],
   "source": [
    "from sklearn.metrics import roc_curve, auc\n",
    "\n",
    "#Create the figure\n",
    "plt.figure(figsize=(10, 8))\n",
    "\n",
    "#Different colors for the different models\n",
    "colors = ['b', 'g', 'r', 'c', 'm', 'y', 'k']\n",
    "\n",
    "#For each model compute the AUC\n",
    "for idx, (name, model) in enumerate(models.items()):\n",
    "    model_trained = model.fit(train_data_pca)\n",
    "    predictions = model_trained.transform(test_data_pca) #Predicted class (0 or 1)\n",
    "\n",
    "    #Check if the model has \"probability\" column because some of them (SVG for example) do not\n",
    "    if \"probability\" in predictions.columns:\n",
    "        #Get the whole probability vector, convert it into rdd and select the probability for the positive (real) prediction\n",
    "        prob_positives = predictions.select(\"probability\").rdd.map(lambda row: row[0][1]).collect()\n",
    "        #Get the label for each prediction\n",
    "        true_labels = predictions.select(\"type\").rdd.map(lambda row: row[0]).collect()\n",
    "\n",
    "        #Calculate ROC curve\n",
    "        fpr, tpr, _ = roc_curve(true_labels, prob_positives)\n",
    "        roc_auc = auc(fpr, tpr)\n",
    "\n",
    "        #Plot it\n",
    "        plt.plot(fpr, tpr, color=colors[idx % len(colors)], lw=2, label=f'{name} (AUC = {roc_auc:.4f})')\n",
    "    else:\n",
    "        print(f\"The model {name} does not have 'probability' column so it will not be in the graphic.\")\n",
    "\n",
    "#Different parameters to personalize the plot\n",
    "plt.plot([0, 1], [0, 1], color='gray', linestyle='--')  #Diagonal line of \"random\"\n",
    "plt.xlim([0.0, 1.0])\n",
    "plt.ylim([0.0, 1.05])\n",
    "plt.xlabel(\"False Positive Rate\")\n",
    "plt.ylabel(\"True Positive Rate\")\n",
    "plt.title(\"ROC Curve\")\n",
    "plt.legend(loc=\"lower right\")\n",
    "plt.grid()\n",
    "\n",
    "plt.show()"
   ]
  },
  {
   "cell_type": "markdown",
   "metadata": {},
   "source": [
    "As before, the best model we get is the logistic regression. However we can see that although we reduce dimensionality, the AUC is better. This can be because with many features the model can learn about the noise, which led into a worse performance."
   ]
  },
  {
   "cell_type": "code",
   "execution_count": null,
   "metadata": {},
   "outputs": [],
   "source": [
    "lr = LogisticRegression(labelCol=\"type\", featuresCol=\"features\")\n",
    "lr_model = lr.fit(train_data_pca)\n",
    "\n",
    "predictions_log_train_pca = lr_model.transform(train_data_pca)\n",
    "predictions_log_test_pca = lr_model.transform(test_data_pca)\n",
    "\n",
    "auc_train_pca = evaluator.evaluate(predictions_log_train_pca)\n",
    "auc_test_pca = evaluator.evaluate(predictions_log_test_pca)\n",
    "\n",
    "print(f\"Logistic Regression (Train): AUC = {auc_train_pca:.4f}\\n\")\n",
    "print(f\"Logistic Regression (Test): AUC = {auc_test_pca:.4f}\")"
   ]
  },
  {
   "cell_type": "markdown",
   "metadata": {},
   "source": [
    "As before, it is a very high AUC so we have to check that the model is not overfitted. For that we will look the confusion matrix and the error percentage for training and test."
   ]
  },
  {
   "cell_type": "code",
   "execution_count": null,
   "metadata": {},
   "outputs": [],
   "source": [
    "from pyspark.sql import functions as F\n",
    "import seaborn as sns\n",
    "import numpy as np\n",
    "\n",
    "#Divide true positives, true negatives, false positives and false negatives\n",
    "##Train\n",
    "true_galaxies_train_pca = predictions_log_train_pca.filter((F.col(\"type\") == 1) & (F.col(\"prediction\") == 1)).count()\n",
    "true_stars_train_pca = predictions_log_train_pca.filter((F.col(\"type\") == 0) & (F.col(\"prediction\") == 0)).count()\n",
    "false_stars_train_pca = predictions_log_train_pca.filter((F.col(\"type\") == 0) & (F.col(\"prediction\") == 1)).count()\n",
    "false_galaxies_train_pca = predictions_log_train_pca.filter((F.col(\"type\") == 1) & (F.col(\"prediction\") == 0)).count()\n",
    "\n",
    "#Creating the confusion matrix\n",
    "conf_matrix_values_train_pca = [[true_stars_train_pca, false_stars_train_pca], [false_galaxies_train_pca, true_galaxies_train_pca]]\n",
    "\n",
    "\n",
    "##Test\n",
    "true_galaxies_test_pca = predictions_log_test_pca.filter((F.col(\"type\") == 1) & (F.col(\"prediction\") == 1)).count()\n",
    "true_stars_test_pca = predictions_log_test_pca.filter((F.col(\"type\") == 0) & (F.col(\"prediction\") == 0)).count()\n",
    "false_stars_test_pca = predictions_log_test_pca.filter((F.col(\"type\") == 0) & (F.col(\"prediction\") == 1)).count()\n",
    "false_galaxies_test_pca = predictions_log_test_pca.filter((F.col(\"type\") == 1) & (F.col(\"prediction\") == 0)).count()\n",
    "\n",
    "#Creating the confusion matrix\n",
    "conf_matrix_values_test_pca = [[true_stars_test_pca, false_stars_test_pca], [false_galaxies_test_pca, true_galaxies_test_pca]]\n",
    "\n",
    "\n",
    "#Plots\n",
    "fig, axes = plt.subplots(1, 2, figsize=(12, 5))  #Create two plots in 1 line\n",
    "\n",
    "#Train confusion matrix\n",
    "ax1 = sns.heatmap(np.array(conf_matrix_values_train_pca), annot=True, fmt=\"d\", cmap=\"Blues\",\n",
    "                   xticklabels=[\"Stars prediction\", \"Galaxies prediction\"],\n",
    "                   yticklabels=[\"Real stars\", \"Real galaxies\"], ax=axes[0]) #Put in the axe 0, the left one\n",
    "ax1.set_xlabel(\"Prediction\")\n",
    "ax1.set_ylabel(\"Real value\")\n",
    "ax1.set_title(\"Confusion Matrix - Train\")\n",
    "\n",
    "#Test confusion matrix\n",
    "ax2 = sns.heatmap(np.array(conf_matrix_values_test_pca), annot=True, fmt=\"d\", cmap=\"Blues\",\n",
    "                   xticklabels=[\"Stars prediction\", \"Galaxies prediction\"],\n",
    "                   yticklabels=[\"Real stars\", \"Real galaxies\"], ax=axes[1]) #Put in the axe 0, the right one\n",
    "ax2.set_xlabel(\"Prediction\")\n",
    "ax2.set_ylabel(\"Real value\")\n",
    "ax2.set_title(\"Confusion Matrix - Test\")\n",
    "\n",
    "\n",
    "plt.tight_layout()\n",
    "plt.show()\n"
   ]
  },
  {
   "cell_type": "code",
   "execution_count": null,
   "metadata": {},
   "outputs": [],
   "source": [
    "import matplotlib.pyplot as plt\n",
    "\n",
    "## Train\n",
    "false_stars_train_pca = conf_matrix_values_train_pca[1][0]\n",
    "true_galaxies_train_pca = conf_matrix_values_train_pca[1][1]\n",
    "\n",
    "false_stars_train_rate_pca = ((false_stars_train_pca) / (false_stars_train_pca + true_galaxies_train_pca)) * 100\n",
    "false_stars_train_rate_pca = round(false_stars_train_rate_pca, 2)\n",
    "\n",
    "## Test\n",
    "false_stars_test_pca = conf_matrix_values_test_pca[1][0]\n",
    "true_galaxies_test_pca = conf_matrix_values_test_pca[1][1]\n",
    "\n",
    "false_stars_test_rate_pca = ((false_stars_test_pca) / (false_stars_test_pca + true_galaxies_test_pca)) * 100\n",
    "false_stars_test_rate_pca = round(false_stars_test_rate_pca, 2)\n",
    "\n",
    "# Set up the subplots\n",
    "fig, axes = plt.subplots(1, 2, figsize=(12, 5))\n",
    "\n",
    "# Define colors for pie chart and their corresponding border colors\n",
    "colors_train = [\"#ff9300\", \"#9b9c9c\"]\n",
    "edge_colors = [\"#cc7400\", \"#808080\"]  # Darker border colors\n",
    "\n",
    "# Train Pie Chart\n",
    "sizes_train = [100 - false_stars_train_rate_pca, false_stars_train_rate_pca]\n",
    "wedges_train, _, autotexts_train = axes[0].pie(\n",
    "    sizes_train, labels=[\"Correct Predictions\", \"False Stars\"], autopct='%1.1f%%', colors=colors_train, startangle=140,\n",
    "    wedgeprops={\"linewidth\": 2}  # General border thickness\n",
    ")\n",
    "\n",
    "# Set custom edge colors for Train pie chart\n",
    "for wedge, edge_color in zip(wedges_train, edge_colors):\n",
    "    wedge.set_edgecolor(edge_color)\n",
    "\n",
    "axes[0].set_title(f\"Train - False Stars Rate: {false_stars_train_rate_pca}%\")\n",
    "\n",
    "# Test Pie Chart\n",
    "sizes_test = [100 - false_stars_test_rate_pca, false_stars_test_rate_pca]\n",
    "wedges_test, _, autotexts_test = axes[1].pie(\n",
    "    sizes_test, labels=[\"Correct Predictions\", \"False Stars\"], autopct='%1.1f%%', colors=colors_train, startangle=140,\n",
    "    wedgeprops={\"linewidth\": 2}  # General border thickness\n",
    ")\n",
    "\n",
    "# Set custom edge colors for Test pie chart\n",
    "for wedge, edge_color in zip(wedges_test, edge_colors):\n",
    "    wedge.set_edgecolor(edge_color)\n",
    "\n",
    "axes[1].set_title(f\"Test - False Stars Rate: {false_stars_test_rate_pca}%\")\n",
    "\n",
    "# Adjust layout and show plot\n",
    "plt.tight_layout()\n",
    "plt.show()"
   ]
  },
  {
   "cell_type": "code",
   "execution_count": null,
   "metadata": {},
   "outputs": [],
   "source": [
    "import matplotlib.pyplot as plt\n",
    "\n",
    "## Train\n",
    "false_galaxies_train_pca = conf_matrix_values_train_pca[0][1]\n",
    "true_stars_train_pca = conf_matrix_values_train_pca[0][0]\n",
    "\n",
    "false_galaxies_train_rate_pca = ((false_galaxies_train_pca) / (false_galaxies_train_pca + true_stars_train_pca)) * 100\n",
    "false_galaxies_train_rate_pca = round(false_galaxies_train_rate_pca, 2)\n",
    "\n",
    "## Test\n",
    "false_galaxies_test_pca = conf_matrix_values_test_pca[0][1]\n",
    "true_stars_test_pca = conf_matrix_values_test_pca[0][0]\n",
    "\n",
    "false_galaxies_test_rate_pca = ((false_galaxies_test_pca) / (false_galaxies_test_pca + true_stars_test_pca)) * 100\n",
    "false_galaxies_test_rate_pca = round(false_galaxies_test_rate_pca, 2)\n",
    "\n",
    "# Set up the subplots\n",
    "fig, axes = plt.subplots(1, 2, figsize=(12, 5))\n",
    "\n",
    "# Define colors for pie chart and their corresponding border colors\n",
    "colors = [\"#42c9c9\", \"#9b9c9c\"]  # Fill colors\n",
    "edge_colors = [\"#329999\", \"#808080\"]  # Darker border colors\n",
    "\n",
    "# Train Pie Chart\n",
    "sizes_train = [100 - false_galaxies_train_rate_pca, false_galaxies_train_rate_pca]\n",
    "wedges_train, _, autotexts_train = axes[0].pie(\n",
    "    sizes_train, labels=[\"Correct Predictions\", \"False Galaxies\"], autopct='%1.1f%%', colors=colors, startangle=140,\n",
    "    wedgeprops={\"linewidth\": 2}  # General border thickness\n",
    ")\n",
    "\n",
    "# Set custom edge colors for Train pie chart\n",
    "for wedge, edge_color in zip(wedges_train, edge_colors):\n",
    "    wedge.set_edgecolor(edge_color)\n",
    "\n",
    "axes[0].set_title(f\"Train - False Galaxies Rate: {false_galaxies_train_rate_pca}%\")\n",
    "\n",
    "# Test Pie Chart\n",
    "sizes_test = [100 - false_galaxies_test_rate_pca, false_galaxies_test_rate_pca]\n",
    "wedges_test, _, autotexts_test = axes[1].pie(\n",
    "    sizes_test, labels=[\"Correct Predictions\", \"False Galaxies\"], autopct='%1.1f%%', colors=colors, startangle=140,\n",
    "    wedgeprops={\"linewidth\": 2}  # General border thickness\n",
    ")\n",
    "\n",
    "# Set custom edge colors for Test pie chart\n",
    "for wedge, edge_color in zip(wedges_test, edge_colors):\n",
    "    wedge.set_edgecolor(edge_color)\n",
    "\n",
    "axes[1].set_title(f\"Test - False Galaxies Rate: {false_galaxies_test_rate_pca}%\")\n",
    "\n",
    "# Adjust layout and show plot\n",
    "plt.tight_layout()\n",
    "plt.show()"
   ]
  },
  {
   "cell_type": "markdown",
   "metadata": {},
   "source": [
    "As before, the errors are similar in training and testing, which means that the model is not overfitted. Moreover, it is susprisingly because the error is bigger in the training."
   ]
  },
  {
   "cell_type": "code",
   "execution_count": null,
   "metadata": {},
   "outputs": [],
   "source": [
    "from sklearn.decomposition import PCA\n",
    "import pandas as pd\n",
    "\n",
    "# Crear el modelo PCA y ajustarlo a los datos\n",
    "pca = PCA(n_components=10)  # El número de componentes principales puede variar según tu caso\n",
    "pca.fit(X)  # Ajustamos PCA a nuestros datos X\n",
    "\n",
    "# Obtener las cargas de las componentes principales\n",
    "component_loadings = pd.DataFrame(pca.components_.T, \n",
    "                                  columns=[f'PC{i+1}' for i in range(pca.n_components_)], \n",
    "                                  index=X.columns)\n",
    "\n",
    "# Verifica cómo se ve el DataFrame\n",
    "print(component_loadings.head())\n"
   ]
  },
  {
   "cell_type": "code",
   "execution_count": null,
   "metadata": {},
   "outputs": [],
   "source": [
    "# Obtener las cargas de las componentes principales (component loadings)\n",
    "component_loadings = pd.DataFrame(pca.components_.T, \n",
    "                                  columns=[f'PC{i+1}' for i in range(pca.n_components_)], \n",
    "                                  index=X.columns)\n",
    "\n",
    "# Verifica cómo se ve el DataFrame\n",
    "print(component_loadings.head())"
   ]
  },
  {
   "cell_type": "code",
   "execution_count": null,
   "metadata": {},
   "outputs": [],
   "source": [
    "# Para cada componente, obtener las 5 características más importantes\n",
    "top_features = component_loadings.abs().nlargest(5, 'PC1').index  # top 5 para la primera componente\n",
    "print(\"Top features contributing to PC1:\", top_features)\n"
   ]
  },
  {
   "cell_type": "code",
   "execution_count": null,
   "metadata": {},
   "outputs": [],
   "source": [
    "# Seleccionar las columnas más importantes para la correlación\n",
    "top_features_df = X[top_features]\n",
    "\n",
    "# Calcular la matriz de correlación\n",
    "correlation_matrix = top_features_df.corr()\n",
    "\n",
    "# Mostrar la matriz de correlación\n",
    "print(correlation_matrix)\n"
   ]
  },
  {
   "cell_type": "code",
   "execution_count": null,
   "metadata": {},
   "outputs": [],
   "source": [
    "import seaborn as sns\n",
    "import matplotlib.pyplot as plt\n",
    "\n",
    "# Crear el heatmap\n",
    "plt.figure(figsize=(8, 6))\n",
    "sns.heatmap(correlation_matrix, annot=True, cmap=\"coolwarm\", fmt=\".2f\", linewidths=0.5)\n",
    "plt.title(\"Heatmap de la Matriz de Correlación de las Características Más Importantes\")\n",
    "plt.show()\n"
   ]
  },
  {
   "cell_type": "code",
   "execution_count": null,
   "metadata": {},
   "outputs": [],
   "source": [
    "# Para cada componente, obtener las 5 características más importantes\n",
    "top_features = component_loadings.abs().nlargest(5, 'PC4').index  # top 5 para la primera componente\n",
    "print(\"Top features contributing to PC1:\", top_features)\n"
   ]
  },
  {
   "cell_type": "code",
   "execution_count": null,
   "metadata": {},
   "outputs": [],
   "source": [
    "# Seleccionar las columnas más importantes para la correlación\n",
    "top_features_df = X[top_features]\n",
    "\n",
    "# Calcular la matriz de correlación\n",
    "correlation_matrix = top_features_df.corr()\n",
    "\n",
    "# Mostrar la matriz de correlación\n",
    "print(correlation_matrix)\n"
   ]
  },
  {
   "cell_type": "code",
   "execution_count": null,
   "metadata": {},
   "outputs": [],
   "source": [
    "import seaborn as sns\n",
    "import matplotlib.pyplot as plt\n",
    "\n",
    "# Crear el heatmap\n",
    "plt.figure(figsize=(8, 6))\n",
    "sns.heatmap(correlation_matrix, annot=True, cmap=\"coolwarm\", fmt=\".2f\", linewidths=0.5)\n",
    "plt.title(\"Heatmap de la Matriz de Correlación de las Características Más Importantes\")\n",
    "plt.show()\n"
   ]
  },
  {
   "cell_type": "markdown",
   "metadata": {},
   "source": [
    "# Images"
   ]
  },
  {
   "attachments": {},
   "cell_type": "markdown",
   "metadata": {},
   "source": [
    "As I need also de images, I have downloaded from https://skyserver.sdss.org/dr18, specifying with a request:\n",
    "- the location of the object (with right ascension (RA) and declination (dec))\n",
    "- the zoom of the picture (scale)\n",
    "- the dimmensions of the photo (with and height)\n",
    "\n",
    "These images will be saved into a \"images\" folder splitted into train and test and each one splitted as galaxies or stars. In a visual way would be:\n",
    "\n",
    "![](notebookImages/folderSchema.png)\n",
    "   \n"
   ]
  },
  {
   "cell_type": "code",
   "execution_count": null,
   "metadata": {},
   "outputs": [],
   "source": [
    "!python download_images.py"
   ]
  },
  {
   "attachments": {},
   "cell_type": "markdown",
   "metadata": {},
   "source": [
    "## Data preprocessing"
   ]
  },
  {
   "attachments": {},
   "cell_type": "markdown",
   "metadata": {},
   "source": [
    "First it is necessary to know the amount of channels we are going to work with. For that, we are going to take one photo and verify it."
   ]
  },
  {
   "cell_type": "code",
   "execution_count": 1,
   "metadata": {},
   "outputs": [
    {
     "name": "stdout",
     "output_type": "stream",
     "text": [
      "Image with 3 channels (RGB).\n"
     ]
    }
   ],
   "source": [
    "import cv2\n",
    "import os\n",
    "import config\n",
    "\n",
    "image_path = config.IMAGES_PATH + \"/train/star\"\n",
    "\n",
    "#Get all the images\n",
    "images = [f for f in os.listdir(image_path) if f.endswith((\".jpg\"))]\n",
    "\n",
    "image_path = os.path.join(image_path, images[0]) #Get the first photo\n",
    "\n",
    "image = cv2.imread(image_path) #Read the first photo\n",
    "\n",
    "if len(image.shape) == 2:\n",
    "    print(\"Image with grayscale.\")\n",
    "elif len(image.shape) == 3 and image.shape[2] == 3:\n",
    "    print(\"Image with 3 channels (RGB).\")\n",
    "elif len(image.shape) == 3 and image.shape[2] == 4:\n",
    "    print(\"Image with 4 channels (RGBA).\") #RGB + Alpha (opacity of the image)"
   ]
  },
  {
   "attachments": {},
   "cell_type": "markdown",
   "metadata": {},
   "source": [
    "As we can see our images have 3 channels RGB. Now, we are going to normalize the pixels values  because we are going to work with a neural network and usually this improves the model performance and facilitate the process of learning. "
   ]
  },
  {
   "cell_type": "code",
   "execution_count": 2,
   "metadata": {},
   "outputs": [],
   "source": [
    "import torch\n",
    "import numpy as np\n",
    "from torchvision import datasets\n",
    "from torchvision import datasets, transforms\n",
    "\n",
    "def calculate_mean_std(dataloader):\n",
    "    mean = 0.0\n",
    "    std = 0.0\n",
    "    total_images = 0\n",
    "\n",
    "    for img, _ in dataloader:\n",
    "        batch_samples = img.size(0)  #Amount of images per batch\n",
    "        img = img.view(batch_samples, img.size(1), -1)  # Reorganizar para calcular sobre todas las imágenes del batch\n",
    "        mean += img.mean(2).mean(0)  #Mean by channel\n",
    "        std += img.std(2).std(0)  #std per channel Desviación estándar por canal\n",
    "\n",
    "        total_images += batch_samples\n",
    "\n",
    "    mean /= total_images\n",
    "    std /= total_images\n",
    "    return mean, std"
   ]
  },
  {
   "cell_type": "code",
   "execution_count": 3,
   "metadata": {},
   "outputs": [],
   "source": [
    "from torch.utils.data import DataLoader\n",
    "\n",
    "#Dataset and loader for all the images\n",
    "full_dataset = datasets.ImageFolder(config.IMAGES_PATH, transform=transforms.ToTensor())\n",
    "full_loader = DataLoader(full_dataset, batch_size=32, shuffle=False)\n",
    "\n",
    "#Calculate the mean and std to normalize the images\n",
    "mean, std = calculate_mean_std(full_loader)\n",
    "\n",
    "#Transform the images (convert them into tensors + normalization)\n",
    "transform = transforms.Compose([\n",
    "    transforms.ToTensor(),\n",
    "    transforms.Normalize(mean=mean.tolist(), std=std.tolist())\n",
    "])\n",
    "\n",
    "#Get the train, test and validation datasets\n",
    "train_dataset = datasets.ImageFolder(root=config.IMAGES_PATH+\"/train\", transform=transform)\n",
    "test_dataset = datasets.ImageFolder(root=config.IMAGES_PATH+\"/test\", transform=transform)\n",
    "validation_dataset = datasets.ImageFolder(root=config.IMAGES_PATH+\"/validation\", transform=transform)\n",
    "\n",
    "#Create the DataLoader for train, test and validation\n",
    "train_loader = DataLoader(train_dataset, batch_size=32, shuffle=True)\n",
    "test_loader = DataLoader(test_dataset, batch_size=32, shuffle=False)\n",
    "validation_loader = DataLoader(validation_dataset, batch_size=32, shuffle=False)"
   ]
  },
  {
   "attachments": {},
   "cell_type": "markdown",
   "metadata": {},
   "source": [
    "## Analysis"
   ]
  },
  {
   "cell_type": "markdown",
   "metadata": {},
   "source": [
    "First, we will verify if the images a re correctly imported and transformed (convert them into tensors and normalize them)."
   ]
  },
  {
   "cell_type": "code",
   "execution_count": 4,
   "metadata": {},
   "outputs": [
    {
     "data": {
      "image/png": "[encoded data removed]",
      "text/plain": [
       "<Figure size 1500x1500 with 8 Axes>"
      ]
     },
     "metadata": {},
     "output_type": "display_data"
    }
   ],
   "source": [
    "import matplotlib.pyplot as plt\n",
    "import numpy as np\n",
    "\n",
    "\n",
    "def show_images(data_loader, mean, std, num_images):\n",
    "    data_iter = iter(data_loader) #Convert dataLoader into an iterable\n",
    "    images, labels = next(data_iter) #Get the next batch (a set of images processed simultaneously)\n",
    "\n",
    "    #Plot to show images\n",
    "    fig, axes = plt.subplots(1, num_images, figsize=(15, 15))\n",
    "    \n",
    "    #Ensure that the mean and std is arrays of numpy\n",
    "    mean = np.array(mean.tolist())\n",
    "    std = np.array(std.tolist())\n",
    "    \n",
    "    #For each image\n",
    "    for i in range(num_images):\n",
    "        image = images[i].permute(1, 2, 0).numpy()  #Change the format of images, matplolib needs (H, W, C)\n",
    "        \n",
    "        #Undo the normalization to see correctly the images\n",
    "        image = image * std + mean\n",
    "        \n",
    "        image = np.clip(image, 0, 1) #Ensure that images pixels are between 0 and 1 values (to see correctly the image)\n",
    "        #If a value is less than 0, that pixel would be fully black or with errors.\n",
    "        #If a value is bigger than 1 the colors could be saturated.\n",
    "        \n",
    "        #Plot the image\n",
    "        ax = axes[i]\n",
    "        ax.imshow(image)\n",
    "        ax.set_title(f\"Label: {labels[i].item()}\")\n",
    "        ax.axis('off')\n",
    "\n",
    "    plt.show()\n",
    "\n",
    "show_images(train_loader, mean, std, num_images=8)\n"
   ]
  },
  {
   "cell_type": "code",
   "execution_count": 12,
   "metadata": {},
   "outputs": [
    {
     "data": {
      "image/png": "[encoded data removed]",
      "text/plain": [
       "<Figure size 800x800 with 1 Axes>"
      ]
     },
     "metadata": {},
     "output_type": "display_data"
    }
   ],
   "source": [
    "import matplotlib.pyplot as plt\n",
    "import pandas as pd\n",
    "\n",
    "class_names = full_dataset.classes  # Class names list\n",
    "class_counts = {class_name: 0 for class_name in class_names}  # Create the dictionary to count the amount of images for each class\n",
    "\n",
    "# Count images by class\n",
    "for _, label in full_dataset.samples:  # List (image_path, label)\n",
    "    class_name = class_names[label]\n",
    "    class_counts[class_name] += 1\n",
    "\n",
    "# Convert it into a dataFrame\n",
    "data = pd.DataFrame({\n",
    "    \"Type\": list(class_counts.keys()),\n",
    "    \"Count\": list(class_counts.values())\n",
    "})\n",
    "\n",
    "# Calculate the percentage\n",
    "total_count = data[\"Count\"].sum()\n",
    "data[\"Percentage\"] = (data[\"Count\"] / total_count) * 100\n",
    "\n",
    "# Define colors for pie chart and their corresponding darker border colors\n",
    "colors = [\"#d7bde2\", \"#abebc6\", \"#f2d7d5\"]  # Fill colors\n",
    "edge_colors = [\"#a97bb0\", \"#7fbf94\", \"#D9A7A3\"]  # Darker border colors\n",
    "\n",
    "# Plot the Pie Chart\n",
    "plt.figure(figsize=(8, 8))\n",
    "wedges, _, autotexts = plt.pie(\n",
    "    data[\"Count\"],\n",
    "    labels=data[\"Type\"],\n",
    "    autopct=\"%1.1f%%\",\n",
    "    colors=colors,\n",
    "    startangle=140,\n",
    "    wedgeprops={\"linewidth\": 2}  # General border thickness\n",
    ")\n",
    "\n",
    "# Set custom edge colors\n",
    "for wedge, edge_color in zip(wedges, edge_colors):\n",
    "    wedge.set_edgecolor(edge_color)\n",
    "\n",
    "plt.title(\"Distribution of data by sets\")\n",
    "plt.show()"
   ]
  },
  {
   "cell_type": "code",
   "execution_count": 13,
   "metadata": {},
   "outputs": [
    {
     "data": {
      "image/png": "[encoded data removed]",
      "text/plain": [
       "<Figure size 800x600 with 1 Axes>"
      ]
     },
     "metadata": {},
     "output_type": "display_data"
    }
   ],
   "source": [
    "import matplotlib.pyplot as plt\n",
    "import pandas as pd\n",
    "\n",
    "class_names = train_dataset.classes  #List with class names\n",
    "class_counts = {class_name: 0 for class_name in class_names}  #Create the dictionary to count the amount of images for each class\n",
    "\n",
    "#Count images by class\n",
    "for _, label in train_dataset.samples: #List (image_path, label)\n",
    "    class_name = class_names[label]\n",
    "    class_counts[class_name] += 1 #Count the amount of objects for each class\n",
    "\n",
    "#Convert it into a Dataframe\n",
    "data = pd.DataFrame({\n",
    "    \"Type\": list(class_counts.keys()),\n",
    "    \"Count\": list(class_counts.values())\n",
    "})\n",
    "\n",
    "#Reverse to have the same shape than before\n",
    "data = data.iloc[::-1].reset_index(drop=True)\n",
    "\n",
    "#Plot\n",
    "plt.figure(figsize=(8, 6))\n",
    "plt.bar(data[\"Type\"], data[\"Count\"], color=[\"#ff9300\", \"#42c9c9\"], edgecolor=[\"#cc7400\", \"#329999\"], linewidth=2)\n",
    "plt.xlabel(\"Object Type\")\n",
    "plt.ylabel(\"Count\")\n",
    "plt.title(\"Total of Stars and Galaxies in training (Images)\")\n",
    "\n",
    "plt.show()"
   ]
  },
  {
   "cell_type": "code",
   "execution_count": 7,
   "metadata": {},
   "outputs": [
    {
     "data": {
      "image/png": "[encoded data removed]",
      "text/plain": [
       "<Figure size 1800x600 with 3 Axes>"
      ]
     },
     "metadata": {},
     "output_type": "display_data"
    }
   ],
   "source": [
    "import matplotlib.pyplot as plt\n",
    "import pandas as pd\n",
    "\n",
    "# Function to count images and generate the DataFrame\n",
    "def get_class_counts(dataset):\n",
    "    class_names = dataset.classes  # List with class names (galaxy, star)\n",
    "    class_counts = {class_name: 0 for class_name in class_names}  # Create dictionary to count images per class\n",
    "\n",
    "    # Count images by class\n",
    "    for _, label in dataset.samples:  # List (image_path, label)\n",
    "        class_name = class_names[label]\n",
    "        class_counts[class_name] += 1\n",
    "\n",
    "    # Convert to DataFrame and calculate percentage\n",
    "    data = pd.DataFrame({\n",
    "        \"Type\": list(class_counts.keys()),\n",
    "        \"Count\": list(class_counts.values())\n",
    "    })\n",
    "    data[\"Percentage\"] = (data[\"Count\"] / data[\"Count\"].sum()) * 100\n",
    "\n",
    "    return data\n",
    "\n",
    "# Get the DataFrames for each dataset\n",
    "train_data = get_class_counts(train_dataset)\n",
    "val_data = get_class_counts(validation_dataset)\n",
    "test_data = get_class_counts(test_dataset)\n",
    "\n",
    "# Set up the subplots\n",
    "fig, axes = plt.subplots(1, 3, figsize=(18, 6))\n",
    "\n",
    "# Define colors for pie chart and their corresponding border colors\n",
    "colors = [\"#42c9c9\", \"#ff9300\"]  # Fill colors\n",
    "edge_colors = [\"#329999\", \"#cc7400\"]  # Darker border colors\n",
    "\n",
    "# Datasets and titles\n",
    "datasets = [(train_data, \"Training Set\"), (val_data, \"Validation Set\"), (test_data, \"Test Set\")]\n",
    "\n",
    "# Plot each dataset in a subplot\n",
    "for ax, (data, title) in zip(axes, datasets):\n",
    "    wedges, texts, autotexts = ax.pie(\n",
    "        data[\"Count\"],\n",
    "        labels=data[\"Type\"],\n",
    "        autopct=\"%1.1f%%\",\n",
    "        colors=colors,\n",
    "        startangle=140,\n",
    "        wedgeprops={\"linewidth\": 2}  # General border thickness\n",
    "    )\n",
    "\n",
    "    # Set custom edge colors\n",
    "    for wedge, edge_color in zip(wedges, edge_colors):\n",
    "        wedge.set_edgecolor(edge_color)\n",
    "\n",
    "    ax.set_title(title)\n",
    "\n",
    "# General title\n",
    "plt.suptitle(\"Distribution of Stars and Galaxies in Datasets\", fontsize=14)\n",
    "plt.show()\n"
   ]
  },
  {
   "attachments": {},
   "cell_type": "markdown",
   "metadata": {},
   "source": [
    "### Model"
   ]
  },
  {
   "attachments": {},
   "cell_type": "markdown",
   "metadata": {},
   "source": [
    "#### Preparation"
   ]
  },
  {
   "cell_type": "code",
   "execution_count": 19,
   "metadata": {},
   "outputs": [
    {
     "name": "stdout",
     "output_type": "stream",
     "text": [
      "Checkpoint loaded from checkpoints/checkpointCNN.pth. Starting from the epoch 100\n",
      "Epoch [100/100], Train Loss: 0.0030, Test Loss: 0.0788\n",
      "Checkpoint saved in checkpoints/checkpointCNN.pth\n"
     ]
    }
   ],
   "source": [
    "import cnn\n",
    "from torch.utils.tensorboard import SummaryWriter\n",
    "import torch\n",
    "\n",
    "#In case the gpu is accessible\n",
    "device = torch.device('cuda' if torch.cuda.is_available() else 'cpu')\n",
    "\n",
    "#Create the model and use the selected\n",
    "model = cnn.CNN(num_classes=2)\n",
    "model.to(device)\n",
    "\n",
    "#Define the optimizer and the loss function\n",
    "optimizer = torch.optim.Adam(model.parameters(), lr=0.001)\n",
    "criterion = torch.nn.CrossEntropyLoss()\n",
    "\n",
    "#Use tensorflow to see the loss functions plots and metrics\n",
    "writer = SummaryWriter()\n",
    "\n",
    "epochs = 100\n",
    "cnn.train_model(train_loader, test_loader, model, optimizer, criterion, epochs, device, writer, checkpoint_path = \"checkpoints/checkpointCNN.pth\")\n",
    "\n",
    "writer.close()"
   ]
  },
  {
   "cell_type": "code",
   "execution_count": 9,
   "metadata": {},
   "outputs": [
    {
     "name": "stdout",
     "output_type": "stream",
     "text": [
      "No checkpoint found at checkpointCNN_SE.pth. Training from zero.\n",
      "Epoch [10/100], Train Loss: 0.0046, Test Loss: 0.0060\n",
      "Checkpoint saved in checkpointCNN_SE.pth\n",
      "Epoch [20/100], Train Loss: 0.0017, Test Loss: 0.0116\n",
      "Checkpoint saved in checkpointCNN_SE.pth\n",
      "Epoch [30/100], Train Loss: 0.0011, Test Loss: 0.0183\n",
      "Checkpoint saved in checkpointCNN_SE.pth\n",
      "Epoch [40/100], Train Loss: 0.0011, Test Loss: 0.0274\n",
      "Checkpoint saved in checkpointCNN_SE.pth\n",
      "Epoch [50/100], Train Loss: 0.0008, Test Loss: 0.0195\n",
      "Checkpoint saved in checkpointCNN_SE.pth\n",
      "Epoch [60/100], Train Loss: 0.0006, Test Loss: 0.0242\n",
      "Checkpoint saved in checkpointCNN_SE.pth\n",
      "Epoch [70/100], Train Loss: 0.0006, Test Loss: 0.0206\n",
      "Checkpoint saved in checkpointCNN_SE.pth\n",
      "Epoch [80/100], Train Loss: 0.0005, Test Loss: 0.0212\n",
      "Checkpoint saved in checkpointCNN_SE.pth\n",
      "Epoch [90/100], Train Loss: 0.0005, Test Loss: 0.0281\n",
      "Checkpoint saved in checkpointCNN_SE.pth\n",
      "Epoch [100/100], Train Loss: 0.0004, Test Loss: 0.0301\n",
      "Checkpoint saved in checkpointCNN_SE.pth\n"
     ]
    }
   ],
   "source": [
    "import torch\n",
    "from torch.utils.tensorboard import SummaryWriter\n",
    "import cnn_se\n",
    "\n",
    "#In case the gpu is accessible\n",
    "device = torch.device('cuda' if torch.cuda.is_available() else 'cpu')\n",
    "\n",
    "#Create the model and use the selected\n",
    "model = cnn_se.CNNWithSE(num_classes=2)\n",
    "model.to(device)\n",
    "\n",
    "#Define the optimizer and the loss function\n",
    "optimizer = torch.optim.Adam(model.parameters(), lr=0.001)\n",
    "criterion = torch.nn.CrossEntropyLoss()\n",
    "\n",
    "#Use tensorflow to see the loss functions plots and metrics\n",
    "writer = SummaryWriter()\n",
    "\n",
    "\n",
    "epochs = 100\n",
    "cnn_se.train_model(train_loader, test_loader, model, optimizer, criterion, epochs, device, writer, checkpoint_path = \"checkpoints/checkpointCNN_SE.pth\")\n",
    "\n",
    "\n",
    "writer.close()\n"
   ]
  },
  {
   "attachments": {},
   "cell_type": "markdown",
   "metadata": {},
   "source": [
    "After comparing both, we can see that the SE blocks improve slightly the performance. The yellow one is the simple CNN while the green CNN + SE blocks.\n",
    "\n",
    "![](notebookImages/performance1.png)\n"
   ]
  },
  {
   "cell_type": "code",
   "execution_count": 14,
   "metadata": {},
   "outputs": [
    {
     "name": "stdout",
     "output_type": "stream",
     "text": [
      "AUC-ROC: 0.9109\n"
     ]
    }
   ],
   "source": [
    "from sklearn.metrics import roc_auc_score\n",
    "\n",
    "# Evaluación en el conjunto de test\n",
    "model.eval()\n",
    "all_probs = []\n",
    "all_labels = []\n",
    "\n",
    "with torch.no_grad():\n",
    "    for images, labels in test_loader:\n",
    "        images, labels = images.to(device), labels.to(device)\n",
    "\n",
    "        # Obtener probabilidades de la clase positiva (galaxia)\n",
    "        outputs = model(images)\n",
    "        probs = torch.softmax(outputs, dim=1)[:, 1]  # Probabilidad de clase 1 (galaxia)\n",
    "\n",
    "        all_probs.extend(probs.cpu().numpy())  # Convertir a numpy\n",
    "        all_labels.extend(labels.cpu().numpy())  # Guardar etiquetas verdaderas\n",
    "\n",
    "# Calcular AUC-ROC\n",
    "auc_score = roc_auc_score(all_labels, all_probs)\n",
    "print(f\"AUC-ROC: {auc_score:.4f}\")"
   ]
  },
  {
   "cell_type": "code",
   "execution_count": 10,
   "metadata": {},
   "outputs": [
    {
     "name": "stdout",
     "output_type": "stream",
     "text": [
      "Training with hyperparameters: {'batch_size': 32, 'epochs': 10, 'lr': 0.01}\n",
      "Saving checkpoint at: checkpoint_hyper_optimization_lr_0.01_batch_32_epochs_10.pth\n",
      "No checkpoint found at checkpoint_hyper_optimization_lr_0.01_batch_32_epochs_10.pth. Training from zero.\n",
      "Epoch [10/10], Train Loss: 0.0186, Test Loss: 0.0186\n",
      "Checkpoint saved in checkpoint_hyper_optimization_lr_0.01_batch_32_epochs_10.pth\n",
      "Validation loss: 0.0186\n",
      "Training with hyperparameters: {'batch_size': 32, 'epochs': 10, 'lr': 0.001}\n",
      "Saving checkpoint at: checkpoint_hyper_optimization_lr_0.001_batch_32_epochs_10.pth\n",
      "No checkpoint found at checkpoint_hyper_optimization_lr_0.001_batch_32_epochs_10.pth. Training from zero.\n",
      "Epoch [10/10], Train Loss: 0.0045, Test Loss: 0.0116\n",
      "Checkpoint saved in checkpoint_hyper_optimization_lr_0.001_batch_32_epochs_10.pth\n",
      "Validation loss: 0.0116\n",
      "Training with hyperparameters: {'batch_size': 32, 'epochs': 10, 'lr': 0.0001}\n",
      "Saving checkpoint at: checkpoint_hyper_optimization_lr_0.0001_batch_32_epochs_10.pth\n",
      "No checkpoint found at checkpoint_hyper_optimization_lr_0.0001_batch_32_epochs_10.pth. Training from zero.\n",
      "Epoch [10/10], Train Loss: 0.0029, Test Loss: 0.0113\n",
      "Checkpoint saved in checkpoint_hyper_optimization_lr_0.0001_batch_32_epochs_10.pth\n",
      "Validation loss: 0.0113\n",
      "Training with hyperparameters: {'batch_size': 32, 'epochs': 20, 'lr': 0.01}\n",
      "Saving checkpoint at: checkpoint_hyper_optimization_lr_0.01_batch_32_epochs_20.pth\n",
      "No checkpoint found at checkpoint_hyper_optimization_lr_0.01_batch_32_epochs_20.pth. Training from zero.\n",
      "Epoch [10/20], Train Loss: 0.0186, Test Loss: 0.0186\n",
      "Checkpoint saved in checkpoint_hyper_optimization_lr_0.01_batch_32_epochs_20.pth\n",
      "Epoch [20/20], Train Loss: 0.0186, Test Loss: 0.0186\n",
      "Checkpoint saved in checkpoint_hyper_optimization_lr_0.01_batch_32_epochs_20.pth\n",
      "Validation loss: 0.0186\n",
      "Training with hyperparameters: {'batch_size': 32, 'epochs': 20, 'lr': 0.001}\n",
      "Saving checkpoint at: checkpoint_hyper_optimization_lr_0.001_batch_32_epochs_20.pth\n",
      "No checkpoint found at checkpoint_hyper_optimization_lr_0.001_batch_32_epochs_20.pth. Training from zero.\n",
      "Epoch [10/20], Train Loss: 0.0045, Test Loss: 0.0098\n",
      "Checkpoint saved in checkpoint_hyper_optimization_lr_0.001_batch_32_epochs_20.pth\n",
      "Epoch [20/20], Train Loss: 0.0017, Test Loss: 0.0207\n",
      "Checkpoint saved in checkpoint_hyper_optimization_lr_0.001_batch_32_epochs_20.pth\n",
      "Validation loss: 0.0207\n",
      "Training with hyperparameters: {'batch_size': 32, 'epochs': 20, 'lr': 0.0001}\n",
      "Saving checkpoint at: checkpoint_hyper_optimization_lr_0.0001_batch_32_epochs_20.pth\n",
      "No checkpoint found at checkpoint_hyper_optimization_lr_0.0001_batch_32_epochs_20.pth. Training from zero.\n",
      "Epoch [10/20], Train Loss: 0.0025, Test Loss: 0.0132\n",
      "Checkpoint saved in checkpoint_hyper_optimization_lr_0.0001_batch_32_epochs_20.pth\n",
      "Epoch [20/20], Train Loss: 0.0006, Test Loss: 0.0258\n",
      "Checkpoint saved in checkpoint_hyper_optimization_lr_0.0001_batch_32_epochs_20.pth\n",
      "Validation loss: 0.0258\n",
      "Training with hyperparameters: {'batch_size': 32, 'epochs': 30, 'lr': 0.01}\n",
      "Saving checkpoint at: checkpoint_hyper_optimization_lr_0.01_batch_32_epochs_30.pth\n",
      "No checkpoint found at checkpoint_hyper_optimization_lr_0.01_batch_32_epochs_30.pth. Training from zero.\n",
      "Epoch [10/30], Train Loss: 0.0187, Test Loss: 0.0187\n",
      "Checkpoint saved in checkpoint_hyper_optimization_lr_0.01_batch_32_epochs_30.pth\n",
      "Epoch [20/30], Train Loss: 0.0186, Test Loss: 0.0187\n",
      "Checkpoint saved in checkpoint_hyper_optimization_lr_0.01_batch_32_epochs_30.pth\n",
      "Epoch [30/30], Train Loss: 0.0186, Test Loss: 0.0186\n",
      "Checkpoint saved in checkpoint_hyper_optimization_lr_0.01_batch_32_epochs_30.pth\n",
      "Validation loss: 0.0186\n",
      "Training with hyperparameters: {'batch_size': 32, 'epochs': 30, 'lr': 0.001}\n",
      "Saving checkpoint at: checkpoint_hyper_optimization_lr_0.001_batch_32_epochs_30.pth\n",
      "No checkpoint found at checkpoint_hyper_optimization_lr_0.001_batch_32_epochs_30.pth. Training from zero.\n",
      "Epoch [10/30], Train Loss: 0.0045, Test Loss: 0.0109\n",
      "Checkpoint saved in checkpoint_hyper_optimization_lr_0.001_batch_32_epochs_30.pth\n",
      "Epoch [20/30], Train Loss: 0.0014, Test Loss: 0.0221\n",
      "Checkpoint saved in checkpoint_hyper_optimization_lr_0.001_batch_32_epochs_30.pth\n",
      "Epoch [30/30], Train Loss: 0.0008, Test Loss: 0.0328\n",
      "Checkpoint saved in checkpoint_hyper_optimization_lr_0.001_batch_32_epochs_30.pth\n",
      "Validation loss: 0.0328\n",
      "Training with hyperparameters: {'batch_size': 32, 'epochs': 30, 'lr': 0.0001}\n",
      "Saving checkpoint at: checkpoint_hyper_optimization_lr_0.0001_batch_32_epochs_30.pth\n",
      "No checkpoint found at checkpoint_hyper_optimization_lr_0.0001_batch_32_epochs_30.pth. Training from zero.\n",
      "Epoch [10/30], Train Loss: 0.0025, Test Loss: 0.0133\n",
      "Checkpoint saved in checkpoint_hyper_optimization_lr_0.0001_batch_32_epochs_30.pth\n",
      "Epoch [20/30], Train Loss: 0.0004, Test Loss: 0.0238\n",
      "Checkpoint saved in checkpoint_hyper_optimization_lr_0.0001_batch_32_epochs_30.pth\n",
      "Epoch [30/30], Train Loss: 0.0003, Test Loss: 0.0347\n",
      "Checkpoint saved in checkpoint_hyper_optimization_lr_0.0001_batch_32_epochs_30.pth\n",
      "Validation loss: 0.0347\n",
      "Training with hyperparameters: {'batch_size': 64, 'epochs': 10, 'lr': 0.01}\n",
      "Saving checkpoint at: checkpoint_hyper_optimization_lr_0.01_batch_64_epochs_10.pth\n",
      "No checkpoint found at checkpoint_hyper_optimization_lr_0.01_batch_64_epochs_10.pth. Training from zero.\n",
      "Epoch [10/10], Train Loss: 0.0034, Test Loss: 0.0060\n",
      "Checkpoint saved in checkpoint_hyper_optimization_lr_0.01_batch_64_epochs_10.pth\n",
      "Validation loss: 0.0060\n",
      "Training with hyperparameters: {'batch_size': 64, 'epochs': 10, 'lr': 0.001}\n",
      "Saving checkpoint at: checkpoint_hyper_optimization_lr_0.001_batch_64_epochs_10.pth\n",
      "No checkpoint found at checkpoint_hyper_optimization_lr_0.001_batch_64_epochs_10.pth. Training from zero.\n",
      "Epoch [10/10], Train Loss: 0.0024, Test Loss: 0.0053\n",
      "Checkpoint saved in checkpoint_hyper_optimization_lr_0.001_batch_64_epochs_10.pth\n",
      "Validation loss: 0.0053\n",
      "Training with hyperparameters: {'batch_size': 64, 'epochs': 10, 'lr': 0.0001}\n",
      "Saving checkpoint at: checkpoint_hyper_optimization_lr_0.0001_batch_64_epochs_10.pth\n",
      "No checkpoint found at checkpoint_hyper_optimization_lr_0.0001_batch_64_epochs_10.pth. Training from zero.\n",
      "Epoch [10/10], Train Loss: 0.0017, Test Loss: 0.0052\n",
      "Checkpoint saved in checkpoint_hyper_optimization_lr_0.0001_batch_64_epochs_10.pth\n",
      "Validation loss: 0.0052\n",
      "Training with hyperparameters: {'batch_size': 64, 'epochs': 20, 'lr': 0.01}\n",
      "Saving checkpoint at: checkpoint_hyper_optimization_lr_0.01_batch_64_epochs_20.pth\n",
      "No checkpoint found at checkpoint_hyper_optimization_lr_0.01_batch_64_epochs_20.pth. Training from zero.\n",
      "Epoch [10/20], Train Loss: 0.0033, Test Loss: 0.0054\n",
      "Checkpoint saved in checkpoint_hyper_optimization_lr_0.01_batch_64_epochs_20.pth\n",
      "Epoch [20/20], Train Loss: 0.0093, Test Loss: 0.0093\n",
      "Checkpoint saved in checkpoint_hyper_optimization_lr_0.01_batch_64_epochs_20.pth\n",
      "Validation loss: 0.0093\n",
      "Training with hyperparameters: {'batch_size': 64, 'epochs': 20, 'lr': 0.001}\n",
      "Saving checkpoint at: checkpoint_hyper_optimization_lr_0.001_batch_64_epochs_20.pth\n",
      "No checkpoint found at checkpoint_hyper_optimization_lr_0.001_batch_64_epochs_20.pth. Training from zero.\n",
      "Epoch [10/20], Train Loss: 0.0024, Test Loss: 0.0053\n",
      "Checkpoint saved in checkpoint_hyper_optimization_lr_0.001_batch_64_epochs_20.pth\n",
      "Epoch [20/20], Train Loss: 0.0008, Test Loss: 0.0119\n",
      "Checkpoint saved in checkpoint_hyper_optimization_lr_0.001_batch_64_epochs_20.pth\n",
      "Validation loss: 0.0119\n",
      "Training with hyperparameters: {'batch_size': 64, 'epochs': 20, 'lr': 0.0001}\n",
      "Saving checkpoint at: checkpoint_hyper_optimization_lr_0.0001_batch_64_epochs_20.pth\n",
      "No checkpoint found at checkpoint_hyper_optimization_lr_0.0001_batch_64_epochs_20.pth. Training from zero.\n",
      "Epoch [10/20], Train Loss: 0.0018, Test Loss: 0.0054\n",
      "Checkpoint saved in checkpoint_hyper_optimization_lr_0.0001_batch_64_epochs_20.pth\n",
      "Epoch [20/20], Train Loss: 0.0005, Test Loss: 0.0099\n",
      "Checkpoint saved in checkpoint_hyper_optimization_lr_0.0001_batch_64_epochs_20.pth\n",
      "Validation loss: 0.0099\n",
      "Training with hyperparameters: {'batch_size': 64, 'epochs': 30, 'lr': 0.01}\n",
      "Saving checkpoint at: checkpoint_hyper_optimization_lr_0.01_batch_64_epochs_30.pth\n",
      "No checkpoint found at checkpoint_hyper_optimization_lr_0.01_batch_64_epochs_30.pth. Training from zero.\n",
      "Epoch [10/30], Train Loss: 0.0093, Test Loss: 0.0093\n",
      "Checkpoint saved in checkpoint_hyper_optimization_lr_0.01_batch_64_epochs_30.pth\n",
      "Epoch [20/30], Train Loss: 0.0093, Test Loss: 0.0094\n",
      "Checkpoint saved in checkpoint_hyper_optimization_lr_0.01_batch_64_epochs_30.pth\n",
      "Epoch [30/30], Train Loss: 0.0093, Test Loss: 0.0093\n",
      "Checkpoint saved in checkpoint_hyper_optimization_lr_0.01_batch_64_epochs_30.pth\n",
      "Validation loss: 0.0093\n",
      "Training with hyperparameters: {'batch_size': 64, 'epochs': 30, 'lr': 0.001}\n",
      "Saving checkpoint at: checkpoint_hyper_optimization_lr_0.001_batch_64_epochs_30.pth\n",
      "No checkpoint found at checkpoint_hyper_optimization_lr_0.001_batch_64_epochs_30.pth. Training from zero.\n",
      "Epoch [10/30], Train Loss: 0.0020, Test Loss: 0.0055\n",
      "Checkpoint saved in checkpoint_hyper_optimization_lr_0.001_batch_64_epochs_30.pth\n",
      "Epoch [20/30], Train Loss: 0.0006, Test Loss: 0.0121\n",
      "Checkpoint saved in checkpoint_hyper_optimization_lr_0.001_batch_64_epochs_30.pth\n",
      "Epoch [30/30], Train Loss: 0.0004, Test Loss: 0.0131\n",
      "Checkpoint saved in checkpoint_hyper_optimization_lr_0.001_batch_64_epochs_30.pth\n",
      "Validation loss: 0.0131\n",
      "Training with hyperparameters: {'batch_size': 64, 'epochs': 30, 'lr': 0.0001}\n",
      "Saving checkpoint at: checkpoint_hyper_optimization_lr_0.0001_batch_64_epochs_30.pth\n",
      "No checkpoint found at checkpoint_hyper_optimization_lr_0.0001_batch_64_epochs_30.pth. Training from zero.\n",
      "Epoch [10/30], Train Loss: 0.0016, Test Loss: 0.0055\n",
      "Checkpoint saved in checkpoint_hyper_optimization_lr_0.0001_batch_64_epochs_30.pth\n",
      "Epoch [20/30], Train Loss: 0.0003, Test Loss: 0.0120\n",
      "Checkpoint saved in checkpoint_hyper_optimization_lr_0.0001_batch_64_epochs_30.pth\n",
      "Epoch [30/30], Train Loss: 0.0003, Test Loss: 0.0154\n",
      "Checkpoint saved in checkpoint_hyper_optimization_lr_0.0001_batch_64_epochs_30.pth\n",
      "Validation loss: 0.0154\n",
      "Training with hyperparameters: {'batch_size': 128, 'epochs': 10, 'lr': 0.01}\n",
      "Saving checkpoint at: checkpoint_hyper_optimization_lr_0.01_batch_128_epochs_10.pth\n",
      "No checkpoint found at checkpoint_hyper_optimization_lr_0.01_batch_128_epochs_10.pth. Training from zero.\n",
      "Epoch [10/10], Train Loss: 0.0016, Test Loss: 0.0026\n",
      "Checkpoint saved in checkpoint_hyper_optimization_lr_0.01_batch_128_epochs_10.pth\n",
      "Validation loss: 0.0026\n",
      "Training with hyperparameters: {'batch_size': 128, 'epochs': 10, 'lr': 0.001}\n",
      "Saving checkpoint at: checkpoint_hyper_optimization_lr_0.001_batch_128_epochs_10.pth\n",
      "No checkpoint found at checkpoint_hyper_optimization_lr_0.001_batch_128_epochs_10.pth. Training from zero.\n",
      "Epoch [10/10], Train Loss: 0.0012, Test Loss: 0.0029\n",
      "Checkpoint saved in checkpoint_hyper_optimization_lr_0.001_batch_128_epochs_10.pth\n",
      "Validation loss: 0.0029\n",
      "Training with hyperparameters: {'batch_size': 128, 'epochs': 10, 'lr': 0.0001}\n",
      "Saving checkpoint at: checkpoint_hyper_optimization_lr_0.0001_batch_128_epochs_10.pth\n",
      "No checkpoint found at checkpoint_hyper_optimization_lr_0.0001_batch_128_epochs_10.pth. Training from zero.\n",
      "Epoch [10/10], Train Loss: 0.0010, Test Loss: 0.0026\n",
      "Checkpoint saved in checkpoint_hyper_optimization_lr_0.0001_batch_128_epochs_10.pth\n",
      "Validation loss: 0.0026\n",
      "Training with hyperparameters: {'batch_size': 128, 'epochs': 20, 'lr': 0.01}\n",
      "Saving checkpoint at: checkpoint_hyper_optimization_lr_0.01_batch_128_epochs_20.pth\n",
      "No checkpoint found at checkpoint_hyper_optimization_lr_0.01_batch_128_epochs_20.pth. Training from zero.\n",
      "Epoch [10/20], Train Loss: 0.0015, Test Loss: 0.0027\n",
      "Checkpoint saved in checkpoint_hyper_optimization_lr_0.01_batch_128_epochs_20.pth\n",
      "Epoch [20/20], Train Loss: 0.0015, Test Loss: 0.0035\n",
      "Checkpoint saved in checkpoint_hyper_optimization_lr_0.01_batch_128_epochs_20.pth\n",
      "Validation loss: 0.0035\n",
      "Training with hyperparameters: {'batch_size': 128, 'epochs': 20, 'lr': 0.001}\n",
      "Saving checkpoint at: checkpoint_hyper_optimization_lr_0.001_batch_128_epochs_20.pth\n",
      "No checkpoint found at checkpoint_hyper_optimization_lr_0.001_batch_128_epochs_20.pth. Training from zero.\n",
      "Epoch [10/20], Train Loss: 0.0011, Test Loss: 0.0026\n",
      "Checkpoint saved in checkpoint_hyper_optimization_lr_0.001_batch_128_epochs_20.pth\n",
      "Epoch [20/20], Train Loss: 0.0003, Test Loss: 0.0056\n",
      "Checkpoint saved in checkpoint_hyper_optimization_lr_0.001_batch_128_epochs_20.pth\n",
      "Validation loss: 0.0056\n",
      "Training with hyperparameters: {'batch_size': 128, 'epochs': 20, 'lr': 0.0001}\n",
      "Saving checkpoint at: checkpoint_hyper_optimization_lr_0.0001_batch_128_epochs_20.pth\n",
      "No checkpoint found at checkpoint_hyper_optimization_lr_0.0001_batch_128_epochs_20.pth. Training from zero.\n",
      "Epoch [10/20], Train Loss: 0.0010, Test Loss: 0.0025\n",
      "Checkpoint saved in checkpoint_hyper_optimization_lr_0.0001_batch_128_epochs_20.pth\n",
      "Epoch [20/20], Train Loss: 0.0003, Test Loss: 0.0039\n",
      "Checkpoint saved in checkpoint_hyper_optimization_lr_0.0001_batch_128_epochs_20.pth\n",
      "Validation loss: 0.0039\n",
      "Training with hyperparameters: {'batch_size': 128, 'epochs': 30, 'lr': 0.01}\n",
      "Saving checkpoint at: checkpoint_hyper_optimization_lr_0.01_batch_128_epochs_30.pth\n",
      "No checkpoint found at checkpoint_hyper_optimization_lr_0.01_batch_128_epochs_30.pth. Training from zero.\n",
      "Epoch [10/30], Train Loss: 0.0015, Test Loss: 0.0031\n",
      "Checkpoint saved in checkpoint_hyper_optimization_lr_0.01_batch_128_epochs_30.pth\n",
      "Epoch [20/30], Train Loss: 0.0016, Test Loss: 0.0027\n",
      "Checkpoint saved in checkpoint_hyper_optimization_lr_0.01_batch_128_epochs_30.pth\n",
      "Epoch [30/30], Train Loss: 0.0047, Test Loss: 0.0047\n",
      "Checkpoint saved in checkpoint_hyper_optimization_lr_0.01_batch_128_epochs_30.pth\n",
      "Validation loss: 0.0047\n",
      "Training with hyperparameters: {'batch_size': 128, 'epochs': 30, 'lr': 0.001}\n",
      "Saving checkpoint at: checkpoint_hyper_optimization_lr_0.001_batch_128_epochs_30.pth\n",
      "No checkpoint found at checkpoint_hyper_optimization_lr_0.001_batch_128_epochs_30.pth. Training from zero.\n",
      "Epoch [10/30], Train Loss: 0.0011, Test Loss: 0.0026\n",
      "Checkpoint saved in checkpoint_hyper_optimization_lr_0.001_batch_128_epochs_30.pth\n",
      "Epoch [20/30], Train Loss: 0.0003, Test Loss: 0.0065\n",
      "Checkpoint saved in checkpoint_hyper_optimization_lr_0.001_batch_128_epochs_30.pth\n",
      "Epoch [30/30], Train Loss: 0.0002, Test Loss: 0.0085\n",
      "Checkpoint saved in checkpoint_hyper_optimization_lr_0.001_batch_128_epochs_30.pth\n",
      "Validation loss: 0.0085\n",
      "Training with hyperparameters: {'batch_size': 128, 'epochs': 30, 'lr': 0.0001}\n",
      "Saving checkpoint at: checkpoint_hyper_optimization_lr_0.0001_batch_128_epochs_30.pth\n",
      "No checkpoint found at checkpoint_hyper_optimization_lr_0.0001_batch_128_epochs_30.pth. Training from zero.\n",
      "Epoch [10/30], Train Loss: 0.0010, Test Loss: 0.0025\n",
      "Checkpoint saved in checkpoint_hyper_optimization_lr_0.0001_batch_128_epochs_30.pth\n",
      "Epoch [20/30], Train Loss: 0.0004, Test Loss: 0.0039\n",
      "Checkpoint saved in checkpoint_hyper_optimization_lr_0.0001_batch_128_epochs_30.pth\n",
      "Epoch [30/30], Train Loss: 0.0001, Test Loss: 0.0064\n",
      "Checkpoint saved in checkpoint_hyper_optimization_lr_0.0001_batch_128_epochs_30.pth\n",
      "Validation loss: 0.0064\n",
      "Best hyperparameters: {'batch_size': 128, 'epochs': 10, 'lr': 0.0001}\n",
      "Best hyperparameters found: {'batch_size': 128, 'epochs': 10, 'lr': 0.0001}\n"
     ]
    }
   ],
   "source": [
    "# Primero importa el archivo de optimización\n",
    "from optimize_hyperparameters import optimize_hyperparameters\n",
    "\n",
    "# Asegúrate de que tus DataLoaders estén listos antes de llamarlo\n",
    "# Si ya has cargado los datos y hecho la normalización, como mencionaste en tu código, esto debería funcionar\n",
    "\n",
    "best_params = optimize_hyperparameters(train_dataset, validation_dataset, device, checkpoint_path = \"checkpoints/checkpoint_hyper_optimization\")\n",
    "#we have to call the datasets and not the loadrs because in the optimization part .py, we are changing the batch sizes+, so\n",
    "#we have to create new loaders with that parameters\n",
    "# Imprimir los mejores parámetros\n",
    "print(\"Best hyperparameters found:\", best_params)"
   ]
  },
  {
   "cell_type": "code",
   "execution_count": 17,
   "metadata": {},
   "outputs": [
    {
     "name": "stdout",
     "output_type": "stream",
     "text": [
      "128\n",
      "10\n",
      "0.0001\n"
     ]
    }
   ],
   "source": [
    ".batch_size_opt = best_params[\"batch_size\"]\n",
    "epochs_opt = best_params[\"epochs\"]\n",
    "lr_opt = best_params[\"lr\"]"
   ]
  },
  {
   "cell_type": "code",
   "execution_count": 18,
   "metadata": {},
   "outputs": [
    {
     "name": "stdout",
     "output_type": "stream",
     "text": [
      "No checkpoint found at checkpointCNN_SE_optimized.pth. Training from zero.\n",
      "Epoch [10/10], Train Loss: 0.0010, Test Loss: 0.0018\n",
      "Checkpoint saved in checkpointCNN_SE_optimized.pth\n"
     ]
    }
   ],
   "source": [
    "import torch\n",
    "from torch.utils.tensorboard import SummaryWriter\n",
    "import cnn_se\n",
    "\n",
    "train_loader_opt = DataLoader(train_dataset, batch_size=batch_size_opt, shuffle=True)\n",
    "test_loader_opt = DataLoader(test_dataset, batch_size=batch_size_opt, shuffle=False)\n",
    "\n",
    "#Create the model and use the selected\n",
    "model = cnn_se.CNNWithSE(num_classes=2)\n",
    "model.to(device)\n",
    "\n",
    "#Define the optimizer and the loss function\n",
    "optimizer = torch.optim.Adam(model.parameters(), lr=lr_opt)\n",
    "criterion = torch.nn.CrossEntropyLoss()\n",
    "\n",
    "#Use tensorflow to see the loss functions plots and metrics\n",
    "writer = SummaryWriter()\n",
    "\n",
    "\n",
    "cnn_se.train_model(train_loader_opt, test_loader_opt, model, optimizer, criterion, epochs_opt, device, writer, checkpoint_path = \"checkpoints/checkpointCNN_SE_optimized.pth\")\n",
    "\n",
    "\n",
    "writer.close()"
   ]
  }
 ],
 "metadata": {
  "kernelspec": {
   "display_name": "bigdataenv",
   "language": "python",
   "name": "python3"
  },
  "language_info": {
   "codemirror_mode": {
    "name": "ipython",
    "version": 3
   },
   "file_extension": ".py",
   "mimetype": "text/x-python",
   "name": "python",
   "nbconvert_exporter": "python",
   "pygments_lexer": "ipython3",
   "version": "3.12.3"
  },
  "orig_nbformat": 4
 },
 "nbformat": 4,
 "nbformat_minor": 2
}
