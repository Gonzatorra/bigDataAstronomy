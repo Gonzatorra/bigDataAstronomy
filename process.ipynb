{
 "cells": [
  {
   "attachments": {},
   "cell_type": "markdown",
   "metadata": {},
   "source": [
    "# Objective of the project 🚀"
   ]
  },
  {
   "attachments": {},
   "cell_type": "markdown",
   "metadata": {},
   "source": [
    "My objective is to create a machine learning model for object classification and then, try and compare it with a convolutional neural network (CNN) for images. For that, I will use Spark MLlib to train and evaluate the model. Secondly, create the CNN and compare both 🪐\n",
    "\n",
    "\n"
   ]
  },
  {
   "attachments": {},
   "cell_type": "markdown",
   "metadata": {},
   "source": [
    "# First Steps"
   ]
  },
  {
   "attachments": {},
   "cell_type": "markdown",
   "metadata": {},
   "source": [
    "## Download the data"
   ]
  },
  {
   "attachments": {},
   "cell_type": "markdown",
   "metadata": {},
   "source": [
    "The source of the data is: https://skyserver.sdss.org/CasJobs/\n",
    "It is necessary to register and login a user to download the data you want. Then, you have to make a query specifying:\n",
    "- Amount of rows\n",
    "- Columns\n",
    "- Where to keep the csv\n",
    "- The database\n",
    "\n",
    "As I want to get as much as possible data, I will not a maximum of rows.\n",
    "\n",
    "I also add a \"where\" so I can get only data from planets, galaxies and stars:\n",
    "- type = 3: Galaxies\n",
    "- type = 6: Stars\n",
    "\n",
    "and I downloaded the dataset to start working with it."
   ]
  },
  {
   "attachments": {},
   "cell_type": "markdown",
   "metadata": {},
   "source": [
    "<img src=\"/home/haizeagonzalez/myproject/bigDataAstronomy/notebookImages/img1.png\">"
   ]
  },
  {
   "cell_type": "markdown",
   "metadata": {},
   "source": [
    "## Understanding the data"
   ]
  },
  {
   "cell_type": "markdown",
   "metadata": {},
   "source": [
    "The columns we have are:\n",
    "- objID: Unique identifier of the object → TYPE bigInt\n",
    "- ra: Right ascension → TYPE float\n",
    "- dec: Declination → TYPE float\n",
    "- petroRad: Petrosian radius, used to know the size of galaxies in astronomical pictures. It is the amount of light that a galaxy emits in a sepecific radius. Very used because it is independent of the distance and brightness. We use different photometric filters:\n",
    "    - petroRad_u: Near-ultraviolet\n",
    "    - petroRad_g: Blue-Green\n",
    "    - petroRad_r: Red\n",
    "    - petroRad_i: Near-infrared\n",
    "    - petroRad_z: Deeper infrared\n",
    " → TYPE: Real\n",
    "\n",
    "- modelMag: Brightness measure adjusted to a galaxy model. Usual for galaxies. Also for all filters (u, g, r, i and z) → TYPE Real\n",
    "- psfMag: Brightness measure based on the point source light profile. Usual for stars. Also for all filters (u, g, r, i and z) → TYPE Real\n",
    "- u_g: (modelMag_u - modelMag_g)\n",
    "- g_r: (modelMag_g - modelMag_r)\n",
    "- r_i: (modelMag_r - modelMag_i)\n",
    "- i_z: (modelMag_i - modelMag_z)\n",
    "- fracDeV: The amount of brightness that the object has in the De Vaucouleurs profile. Also for all filters (u, g, r, i and z) → TYPE Real\n",
    "- flags: Bit comination that explains different characteristics of the object. If we convert it to binary and check SDSS documentarion, we get a meaning for each bit → TYPE bigInt\n",
    "- clean: Indicator that tell us if the object was cleaned → TYPE int\n",
    "\n"
   ]
  },
  {
   "cell_type": "markdown",
   "metadata": {},
   "source": [
    "### What for?"
   ]
  },
  {
   "cell_type": "markdown",
   "metadata": {},
   "source": [
    "PetroRad:\n",
    "- Stars: Small and constant in all filters.\n",
    "- Galaxies: Bigger and variates depending on the wavelengths.\n",
    "\n",
    "ModelMag and psfMag:\n",
    "- In the red filter:\n",
    "    - Stars: modelMag_r ≈ psfMag_r\n",
    "    - Galaxies: modelMag_r > psfMag_r\n",
    "- In other filers:\n",
    "    - Galaxies are usuarlly more red  (modelMag_g - modelMag_r is big).\n",
    "    - Stars has different colors depending on their type.\n",
    "\n",
    "fracDeV:\n",
    "- Stars: fracDeV ≈ 0.\n",
    "- Galaxies: fracDeV ≈ 1 (eliptic) or fracDeV < 1 (espiral).\n",
    "\n"
   ]
  },
  {
   "attachments": {},
   "cell_type": "markdown",
   "metadata": {},
   "source": [
    "# Spark"
   ]
  },
  {
   "cell_type": "markdown",
   "metadata": {},
   "source": [
    "## Spark configuration"
   ]
  },
  {
   "cell_type": "markdown",
   "metadata": {},
   "source": [
    "First, we need to create a spark sesion in case there is no one or get if there exists: \"getOrCreate\". I also decided to create a log in case there is any error during the process."
   ]
  },
  {
   "cell_type": "code",
   "execution_count": 22,
   "metadata": {},
   "outputs": [],
   "source": [
    "from pyspark.sql import SparkSession\n",
    "\n",
    "spark = SparkSession.builder \\\n",
    "    .appName(\"bigDataAstronomyProject\") \\\n",
    "    .config(\"spark.executor.memory\", \"8g\") \\\n",
    "    .config(\"spark.driver.memory\", \"4g\") \\\n",
    "    .config(\"spark.executor.cores\", \"4\") \\\n",
    "    .config(\"spark.executor.instances\", \"1\") \\\n",
    "    .getOrCreate()\n",
    "\n",
    "spark.sparkContext.setLogLevel(\"ERROR\")"
   ]
  },
  {
   "cell_type": "markdown",
   "metadata": {},
   "source": [
    "Then, we need to read de csv data."
   ]
  },
  {
   "cell_type": "code",
   "execution_count": 23,
   "metadata": {},
   "outputs": [],
   "source": [
    "path = \"/home/haizeagonzalez/bigDataProject/primaryObjs.csv\"\n",
    "path2 = \"/home/haizeagonzalez/myproject/primaryObjs.csv\"\n",
    "\n",
    "df = spark.read.csv(path2, header=True)"
   ]
  },
  {
   "cell_type": "markdown",
   "metadata": {},
   "source": [
    "Now, we are going to check if the data is correctly loaded."
   ]
  },
  {
   "cell_type": "code",
   "execution_count": 24,
   "metadata": {},
   "outputs": [
    {
     "name": "stdout",
     "output_type": "stream",
     "text": [
      "+-------------------+----------------+------------------+----+----------+----------+----------+----------+----------+----------+----------+----------+----------+----------+--------+--------+--------+--------+--------+---------+---------+-------------+----------+---------+---------+---------+---------+----------+---------------+-----+\n",
      "|              objID|              ra|               dec|type|petroRad_u|petroRad_g|petroRad_r|petroRad_i|petroRad_z|modelMag_u|modelMag_g|modelMag_r|modelMag_i|modelMag_z|psfMag_u|psfMag_g|psfMag_r|psfMag_i|psfMag_z|      u_g|      g_r|          r_i|       i_z|fracDeV_u|fracDeV_g|fracDeV_r|fracDeV_i| fracDeV_z|          flags|clean|\n",
      "+-------------------+----------------+------------------+----+----------+----------+----------+----------+----------+----------+----------+----------+----------+----------+--------+--------+--------+--------+--------+---------+---------+-------------+----------+---------+---------+---------+---------+----------+---------------+-----+\n",
      "|1237648704596673591|228.133205738866| 0.189419197306071|   3|  2.969285|  2.969369|  2.220518|  1.249783|   1.62232|  23.71841|  23.55119|  21.70663|  21.07082|  20.94918|23.71531|24.25853|22.41145|21.53375|21.45539|0.1672249| 1.844557|    0.6358051| 0.1216412|        1|        0|        1|        1|         1|316730484195600|    1|\n",
      "|1237648704596673595|228.132667119533| 0.155016320524743|   3|  2.969285|  1.167545|    1.7132|  4.193829|  1.581682|  26.23039|  23.06768|  21.60064|  21.04392|  20.49498|25.81252|23.30065|22.16619|21.59607|20.93345|  3.16271| 1.467041|    0.5567226|  0.548933|        0|        1|0.5398329|        1|         0|    68987912448|    1|\n",
      "|1237648704596673596|228.133591481833|0.0626739181110149|   6|  7.357505|  1.317162|  1.048602|  0.980907| 0.9447467|   23.2214|  21.66433|  20.29408|  19.12956|  18.53254|23.29687|21.69403|20.32223|19.14626|18.55519| 1.557074| 1.370243|     1.164522| 0.5970211|        1|        1|        1|        0|         0|    69055021384|    1|\n",
      "|1237648704596673597|228.134526612738| 0.184396878919884|   3|  4.583073|  1.801946|  1.712365|  1.611359|  1.693891|  24.13848|   22.0195|  21.33374|  21.02932|  21.22839|24.35229| 22.5369|21.95571|21.76257|21.68405| 2.118977|0.6857586|    0.3044224|-0.1990643|0.2213039|        0|        0|        0|         0|    68987912448|    1|\n",
      "|1237648704596673600|228.134746034796|0.0513303225187829|   3|  7.357505|  1.275892|  1.897987|  2.219621|  2.806328|  25.94563|  22.67289|  20.76974|  20.01449|   19.5253|25.25427|23.28042|21.51431|20.77017|20.30231| 3.272739| 1.903149|    0.7552528|  0.489193|        1|        0|0.8176387|        1|0.05972257|    68987912448|    1|\n",
      "|1237648704596673601|228.135436960298|0.0465206752009805|   3|  1.529451|  1.516517|  1.452753|  3.800702|  2.970232|  22.62748|  22.42105|  21.79902|  21.57086|  22.21361|22.84985|22.74921|22.23782|21.97033|22.15221|0.2064247|0.6220398|    0.2281551|-0.6427536|        1|        1|        0|        1|         1|    68987912448|    1|\n",
      "|1237648704596673602|228.135810120824|0.0383140532919898|   3|  1.823351|  2.052975|  1.442957|  1.195688|  1.241435|  23.31253|  22.18809|  21.72752|    21.728|  21.49295|23.47264|22.53271|22.08589|    22.1|21.72621| 1.124439|0.4605713|-0.0004806519| 0.2350483|        1|0.7402861| 0.160501|0.3372153| 0.7511653|    68987912192|    1|\n",
      "|1237648704596673603|228.135706969247| 0.135016964266971|   6| 0.7134073|  1.140595|  1.132749| 0.9277821|  0.931531|  24.37991|  22.96101|  21.76162|  20.41283|  19.70002|24.20988|22.96505|21.82184|20.45126|19.70096| 1.418892| 1.199396|     1.348785| 0.7128162|        0|        1|        0|        1|         0|    68987912192|    1|\n",
      "|1237648704596673605|228.137119120399| 0.138930706793513|   3|  2.969285|  2.969369|  2.519946|  2.969986|  7.359852|  23.42524|  22.22177|  21.80001|  22.03525|  23.73267|24.56458|23.02275|22.87213|23.26385|23.09968| 1.203466|0.4217625|    -0.235239| -1.697422|        0|        0|        0|        0|         1|281543964623104|    1|\n",
      "|1237648704596673613|228.138360776843|0.0731866066746134|   3|  1.046744|   1.88157|  1.307295| 0.9633411|  1.562622|  23.02948|  22.25664|  21.87386|  21.54906|  21.34355|22.90016|22.49634|22.23204|21.75176|21.65852|0.7728405|0.3827801|    0.3247986| 0.2055111|        1|        1|        0|        1|         0|105555532185616|    1|\n",
      "|1237648704596673615|228.138386598436| 0.187229164179413|   6|  1.083686|  1.201956| 0.9640225| 0.9422169|  1.116567|  23.75787|  22.49124|   21.1148|  20.39421|  19.97207|23.75588|22.50238|21.15819|20.42044| 20.0078| 1.266636| 1.376434|    0.7205887|  0.422142|        1|        1|0.9983205|        0|         0|    68987912192|    1|\n",
      "|1237648704596673616|228.138678791242|0.0125585461003744|   3|  2.905516|   2.37311|   2.34492|  2.162898|  2.206184|  22.42896|  21.56379|  20.59733|  19.86494|  19.63614|23.12312|22.40815|21.56322| 20.8563|20.60041|0.8651695|0.9664516|    0.7323971| 0.2287998|        1|        0|        0|        0|         0|  2450547277824|    1|\n",
      "|1237648704596673618|228.139331703426| 0.212781082931336|   6|  2.969285|   1.09076|   1.08924| 0.9051506|  1.057727|  25.92635|  23.35114|  21.78671|  20.63976|  19.91965|25.89036|23.30975|21.77252|20.63534|19.91474| 2.575216| 1.564421|     1.146955| 0.7201118|        0|        1|        0|        0|         0|    68987912448|    1|\n",
      "|1237648704596673620| 228.14091295114|0.0641572455788585|   6|  2.969285|  1.131206|  1.105575|  1.009262|  1.011155|  25.28518|  21.63824|  20.31469|  19.49671|  19.01631|25.20087|21.63558|20.32779|19.49734|19.02662| 3.646946| 1.323544|    0.8179798|  0.480402|        1|        0| 0.511569|        0|         1| 35253360001296|    1|\n",
      "|1237648704596673626| 228.14182144385|0.0425139072777563|   3| 0.9543655|  2.969369|  2.042264|  1.426649|  1.640048|  23.36676|  22.47925|  21.09399|  20.61784|  20.24213|23.61166|23.02375|21.73804|21.21591|20.80515|0.8875103| 1.385258|    0.4761486| 0.3757133|        1|        1|        1|0.6541844| 0.4127298| 17661174087936|    1|\n",
      "|1237648704596673630|228.142630123835|0.0980218578449677|   6|   27.9153|  1.133189|  2.300974|   2.93181|  1.672956|  25.39514|   23.0061|  21.70307|  20.86877|  20.44747|25.06125|22.99777|21.73359|20.86797|20.44591|  2.38904| 1.303038|    0.8342972| 0.4212971|        0|        0|        0|        1|         1| 35253360136976|    1|\n",
      "|1237648704596673633|228.142664146071| 0.197280424562705|   3|  2.969285|  2.969369|  1.437083|  1.543922| 0.8909767|  23.27159|  22.77104|  21.70474|  21.28639|  20.96748| 23.3143|23.06283|22.08174|21.67632|21.29585|0.5005493| 1.066303|    0.4183445| 0.3189125|        1|        1|        0| 0.286461|         1|105622104178960|    1|\n",
      "|1237648704596673636|228.143752563171|0.0624049229984539|   3|  0.691259|  2.969369|  1.262619|  1.890306|  2.575164|  23.24219|  22.31861|  21.90146|  21.72495|  21.07799|23.17297|22.68129|22.31081| 22.2052|21.41852|0.9235802|0.4171486|    0.1765156| 0.6469593|        1|        0|        0|        0|         0|  2416187540224|    1|\n",
      "|1237648704596673637|228.144495675809| 0.111100316350891|   6| 0.8216941| 0.9715834| 0.9761356| 0.9204842| 0.9451327|  24.14613|   22.8366|   21.5246|  20.31857|  19.64246|24.20292|22.84755|21.48754|20.30396|19.65173| 1.309528| 1.312006|     1.206022| 0.6761169|        0|        1|        0|        1|         1|    68987912192|    1|\n",
      "|1237648704596673639|228.144350348705|0.0484642813853641|   3|  1.962816|  1.365865|  1.481539|  1.819084|  1.651328|  22.93299|   22.2439|  21.15378|  20.66732|   20.4084|23.29018|22.57443| 21.5526|21.11196|21.01716|0.6890869| 1.090128|    0.4864521| 0.2589226|        0|        0|        0|0.3870666|         0| 35253360001040|    1|\n",
      "+-------------------+----------------+------------------+----+----------+----------+----------+----------+----------+----------+----------+----------+----------+----------+--------+--------+--------+--------+--------+---------+---------+-------------+----------+---------+---------+---------+---------+----------+---------------+-----+\n",
      "only showing top 20 rows\n",
      "\n"
     ]
    }
   ],
   "source": [
    "df.show()"
   ]
  },
  {
   "cell_type": "markdown",
   "metadata": {},
   "source": [
    "The schema and the chacacteristics of the data."
   ]
  },
  {
   "cell_type": "code",
   "execution_count": 25,
   "metadata": {},
   "outputs": [
    {
     "name": "stdout",
     "output_type": "stream",
     "text": [
      "root\n",
      " |-- objID: string (nullable = true)\n",
      " |-- ra: string (nullable = true)\n",
      " |-- dec: string (nullable = true)\n",
      " |-- type: string (nullable = true)\n",
      " |-- petroRad_u: string (nullable = true)\n",
      " |-- petroRad_g: string (nullable = true)\n",
      " |-- petroRad_r: string (nullable = true)\n",
      " |-- petroRad_i: string (nullable = true)\n",
      " |-- petroRad_z: string (nullable = true)\n",
      " |-- modelMag_u: string (nullable = true)\n",
      " |-- modelMag_g: string (nullable = true)\n",
      " |-- modelMag_r: string (nullable = true)\n",
      " |-- modelMag_i: string (nullable = true)\n",
      " |-- modelMag_z: string (nullable = true)\n",
      " |-- psfMag_u: string (nullable = true)\n",
      " |-- psfMag_g: string (nullable = true)\n",
      " |-- psfMag_r: string (nullable = true)\n",
      " |-- psfMag_i: string (nullable = true)\n",
      " |-- psfMag_z: string (nullable = true)\n",
      " |-- u_g: string (nullable = true)\n",
      " |-- g_r: string (nullable = true)\n",
      " |-- r_i: string (nullable = true)\n",
      " |-- i_z: string (nullable = true)\n",
      " |-- fracDeV_u: string (nullable = true)\n",
      " |-- fracDeV_g: string (nullable = true)\n",
      " |-- fracDeV_r: string (nullable = true)\n",
      " |-- fracDeV_i: string (nullable = true)\n",
      " |-- fracDeV_z: string (nullable = true)\n",
      " |-- flags: string (nullable = true)\n",
      " |-- clean: string (nullable = true)\n",
      "\n"
     ]
    }
   ],
   "source": [
    "df.printSchema()"
   ]
  },
  {
   "cell_type": "markdown",
   "metadata": {},
   "source": [
    "As all columns are string, we need to convert them into their type. For that:"
   ]
  },
  {
   "cell_type": "code",
   "execution_count": 26,
   "metadata": {},
   "outputs": [
    {
     "name": "stdout",
     "output_type": "stream",
     "text": [
      "root\n",
      " |-- objID: long (nullable = true)\n",
      " |-- ra: float (nullable = true)\n",
      " |-- dec: float (nullable = true)\n",
      " |-- type: string (nullable = true)\n",
      " |-- petroRad_u: float (nullable = true)\n",
      " |-- petroRad_g: float (nullable = true)\n",
      " |-- petroRad_r: float (nullable = true)\n",
      " |-- petroRad_i: float (nullable = true)\n",
      " |-- petroRad_z: float (nullable = true)\n",
      " |-- modelMag_u: float (nullable = true)\n",
      " |-- modelMag_g: float (nullable = true)\n",
      " |-- modelMag_r: float (nullable = true)\n",
      " |-- modelMag_i: float (nullable = true)\n",
      " |-- modelMag_z: float (nullable = true)\n",
      " |-- psfMag_u: float (nullable = true)\n",
      " |-- psfMag_g: float (nullable = true)\n",
      " |-- psfMag_r: float (nullable = true)\n",
      " |-- psfMag_i: float (nullable = true)\n",
      " |-- psfMag_z: float (nullable = true)\n",
      " |-- u_g: float (nullable = true)\n",
      " |-- g_r: float (nullable = true)\n",
      " |-- r_i: float (nullable = true)\n",
      " |-- i_z: float (nullable = true)\n",
      " |-- fracDeV_u: float (nullable = true)\n",
      " |-- fracDeV_g: float (nullable = true)\n",
      " |-- fracDeV_r: float (nullable = true)\n",
      " |-- fracDeV_i: float (nullable = true)\n",
      " |-- fracDeV_z: float (nullable = true)\n",
      " |-- flags: long (nullable = true)\n",
      " |-- clean: integer (nullable = true)\n",
      "\n"
     ]
    }
   ],
   "source": [
    "from pyspark.sql.functions import col\n",
    "\n",
    "df = df.withColumn(\"objID\", col(\"objID\").cast(\"long\")) \\\n",
    "       .withColumn(\"ra\", col(\"ra\").cast(\"float\")) \\\n",
    "       .withColumn(\"dec\", col(\"dec\").cast(\"float\")) \\\n",
    "       .withColumn(\"petroRad_u\", col(\"petroRad_u\").cast(\"float\")) \\\n",
    "       .withColumn(\"petroRad_g\", col(\"petroRad_g\").cast(\"float\")) \\\n",
    "       .withColumn(\"petroRad_r\", col(\"petroRad_r\").cast(\"float\")) \\\n",
    "       .withColumn(\"petroRad_i\", col(\"petroRad_i\").cast(\"float\")) \\\n",
    "       .withColumn(\"petroRad_z\", col(\"petroRad_z\").cast(\"float\")) \\\n",
    "       .withColumn(\"modelMag_u\", col(\"modelMag_u\").cast(\"float\")) \\\n",
    "       .withColumn(\"modelMag_g\", col(\"modelMag_g\").cast(\"float\")) \\\n",
    "       .withColumn(\"modelMag_r\", col(\"modelMag_r\").cast(\"float\")) \\\n",
    "       .withColumn(\"modelMag_i\", col(\"modelMag_i\").cast(\"float\")) \\\n",
    "       .withColumn(\"modelMag_z\", col(\"modelMag_z\").cast(\"float\")) \\\n",
    "       .withColumn(\"psfMag_u\", col(\"psfMag_u\").cast(\"float\")) \\\n",
    "       .withColumn(\"psfMag_g\", col(\"psfMag_g\").cast(\"float\")) \\\n",
    "       .withColumn(\"psfMag_r\", col(\"psfMag_r\").cast(\"float\")) \\\n",
    "       .withColumn(\"psfMag_i\", col(\"psfMag_i\").cast(\"float\")) \\\n",
    "       .withColumn(\"psfMag_z\", col(\"psfMag_z\").cast(\"float\")) \\\n",
    "       .withColumn(\"u_g\", col(\"u_g\").cast(\"float\")) \\\n",
    "       .withColumn(\"g_r\", col(\"g_r\").cast(\"float\")) \\\n",
    "       .withColumn(\"r_i\", col(\"r_i\").cast(\"float\")) \\\n",
    "       .withColumn(\"i_z\", col(\"i_z\").cast(\"float\")) \\\n",
    "       .withColumn(\"fracDeV_u\", col(\"fracDeV_u\").cast(\"float\")) \\\n",
    "       .withColumn(\"fracDeV_g\", col(\"fracDeV_g\").cast(\"float\")) \\\n",
    "       .withColumn(\"fracDeV_r\", col(\"fracDeV_r\").cast(\"float\")) \\\n",
    "       .withColumn(\"fracDeV_i\", col(\"fracDeV_i\").cast(\"float\")) \\\n",
    "       .withColumn(\"fracDeV_z\", col(\"fracDeV_z\").cast(\"float\")) \\\n",
    "       .withColumn(\"flags\", col(\"flags\").cast(\"long\")) \\\n",
    "       .withColumn(\"clean\", col(\"clean\").cast(\"int\"))\n",
    "\n",
    "df.printSchema()"
   ]
  },
  {
   "cell_type": "markdown",
   "metadata": {},
   "source": [
    "Now that we have all the structure, we are going to explore and clean the data."
   ]
  },
  {
   "cell_type": "markdown",
   "metadata": {},
   "source": [
    "## Data cleaning"
   ]
  },
  {
   "attachments": {},
   "cell_type": "markdown",
   "metadata": {},
   "source": [
    "In principle, the data is cleaned because we get it from CasJobs and we apply clear filter to get good data. \n",
    "However, we are going to check whether there is any null value and the amount of galaxies and stars.  "
   ]
  },
  {
   "cell_type": "code",
   "execution_count": 27,
   "metadata": {},
   "outputs": [
    {
     "name": "stderr",
     "output_type": "stream",
     "text": [
      "[Stage 15:>                                                       (0 + 28) / 28]\r"
     ]
    },
    {
     "name": "stdout",
     "output_type": "stream",
     "text": [
      "+-----+---+---+----+----------+----------+----------+----------+----------+----------+----------+----------+----------+----------+--------+--------+--------+--------+--------+---+---+---+---+---------+---------+---------+---------+---------+-----+-----+\n",
      "|objID| ra|dec|type|petroRad_u|petroRad_g|petroRad_r|petroRad_i|petroRad_z|modelMag_u|modelMag_g|modelMag_r|modelMag_i|modelMag_z|psfMag_u|psfMag_g|psfMag_r|psfMag_i|psfMag_z|u_g|g_r|r_i|i_z|fracDeV_u|fracDeV_g|fracDeV_r|fracDeV_i|fracDeV_z|flags|clean|\n",
      "+-----+---+---+----+----------+----------+----------+----------+----------+----------+----------+----------+----------+----------+--------+--------+--------+--------+--------+---+---+---+---+---------+---------+---------+---------+---------+-----+-----+\n",
      "|    0|  0|  0|   0|         0|         0|         0|         0|         0|         0|         0|         0|         0|         0|       0|       0|       0|       0|       0|  0|  0|  0|  0|        0|        0|        0|        0|        0|    0|    0|\n",
      "+-----+---+---+----+----------+----------+----------+----------+----------+----------+----------+----------+----------+----------+--------+--------+--------+--------+--------+---+---+---+---+---------+---------+---------+---------+---------+-----+-----+\n",
      "\n"
     ]
    },
    {
     "name": "stderr",
     "output_type": "stream",
     "text": [
      "                                                                                \r"
     ]
    }
   ],
   "source": [
    "from pyspark.sql.functions import col, when, count\n",
    "\n",
    "df.select([count(when(col(c).isNull(), c)).alias(c) for c in df.columns]).show()"
   ]
  },
  {
   "cell_type": "code",
   "execution_count": 28,
   "metadata": {},
   "outputs": [
    {
     "data": {
      "text/plain": [
       "[Row(objID=1237648704596673591, ra=228.13320922851562, dec=0.1894191950559616, type='3', petroRad_u=2.969285011291504, petroRad_g=2.9693689346313477, petroRad_r=2.220518112182617, petroRad_i=1.2497830390930176, petroRad_z=1.6223200559616089, modelMag_u=23.71841049194336, modelMag_g=23.551189422607422, modelMag_r=21.70663070678711, modelMag_i=21.070819854736328, modelMag_z=20.949180603027344, psfMag_u=23.715309143066406, psfMag_g=24.258529663085938, psfMag_r=22.411449432373047, psfMag_i=21.533750534057617, psfMag_z=21.45539093017578, u_g=0.16722489893436432, g_r=1.8445570468902588, r_i=0.635805070400238, i_z=0.12164119631052017, fracDeV_u=1.0, fracDeV_g=0.0, fracDeV_r=1.0, fracDeV_i=1.0, fracDeV_z=1.0, flags=316730484195600, clean=1),\n",
       " Row(objID=1237648704596673595, ra=228.13265991210938, dec=0.15501631796360016, type='3', petroRad_u=2.969285011291504, petroRad_g=1.167544960975647, petroRad_r=1.7131999731063843, petroRad_i=4.19382905960083, petroRad_z=1.5816819667816162, modelMag_u=26.230390548706055, modelMag_g=23.06768035888672, modelMag_r=21.60063934326172, modelMag_i=21.043920516967773, modelMag_z=20.494979858398438, psfMag_u=25.812519073486328, psfMag_g=23.300649642944336, psfMag_r=22.166189193725586, psfMag_i=21.5960693359375, psfMag_z=20.93345069885254, u_g=3.162709951400757, g_r=1.467041015625, r_i=0.5567225813865662, i_z=0.5489330291748047, fracDeV_u=0.0, fracDeV_g=1.0, fracDeV_r=0.5398328900337219, fracDeV_i=1.0, fracDeV_z=0.0, flags=68987912448, clean=1),\n",
       " Row(objID=1237648704596673596, ra=228.1335906982422, dec=0.06267391890287399, type='6', petroRad_u=7.357504844665527, petroRad_g=1.317162036895752, petroRad_r=1.0486019849777222, petroRad_i=0.9809070229530334, petroRad_z=0.9447466731071472, modelMag_u=23.221399307250977, modelMag_g=21.664329528808594, modelMag_r=20.29408073425293, modelMag_i=19.129560470581055, modelMag_z=18.53253936767578, psfMag_u=23.2968692779541, psfMag_g=21.69403076171875, psfMag_r=20.322229385375977, psfMag_i=19.146259307861328, psfMag_z=18.55518913269043, u_g=1.557073950767517, g_r=1.370242953300476, r_i=1.1645220518112183, i_z=0.5970211029052734, fracDeV_u=1.0, fracDeV_g=1.0, fracDeV_r=1.0, fracDeV_i=0.0, fracDeV_z=0.0, flags=69055021384, clean=1)]"
      ]
     },
     "execution_count": 28,
     "metadata": {},
     "output_type": "execute_result"
    }
   ],
   "source": [
    "df.head(3)"
   ]
  },
  {
   "cell_type": "code",
   "execution_count": 29,
   "metadata": {},
   "outputs": [
    {
     "name": "stdout",
     "output_type": "stream",
     "text": [
      "+----+-------+\n",
      "|type|  count|\n",
      "+----+-------+\n",
      "|   3| 986539|\n",
      "|   6|2513461|\n",
      "+----+-------+\n",
      "\n"
     ]
    }
   ],
   "source": [
    "df.groupBy(\"type\").count().show()"
   ]
  },
  {
   "attachments": {},
   "cell_type": "markdown",
   "metadata": {},
   "source": [
    "As we can see, there is no null values and the amount of galaxies are less than the amount of stars, which make sense. However, this can affect the model so we are going to balance the data."
   ]
  },
  {
   "attachments": {},
   "cell_type": "markdown",
   "metadata": {},
   "source": [
    "First, as it is a binary classification, we will update stars to 0 and galaxies to 1."
   ]
  },
  {
   "cell_type": "code",
   "execution_count": 30,
   "metadata": {},
   "outputs": [],
   "source": [
    "df = df.withColumn(\"type\", when(col(\"type\") == 3,1).otherwise(0))"
   ]
  },
  {
   "cell_type": "code",
   "execution_count": 31,
   "metadata": {},
   "outputs": [
    {
     "name": "stdout",
     "output_type": "stream",
     "text": [
      "+-------------------+---------+----------+----+----------+----------+----------+----------+----------+----------+----------+----------+----------+----------+--------+--------+--------+--------+--------+--------+--------+---------+---------+---------+---------+---------+---------+---------+--------------+-----+\n",
      "|              objID|       ra|       dec|type|petroRad_u|petroRad_g|petroRad_r|petroRad_i|petroRad_z|modelMag_u|modelMag_g|modelMag_r|modelMag_i|modelMag_z|psfMag_u|psfMag_g|psfMag_r|psfMag_i|psfMag_z|     u_g|     g_r|      r_i|      i_z|fracDeV_u|fracDeV_g|fracDeV_r|fracDeV_i|fracDeV_z|         flags|clean|\n",
      "+-------------------+---------+----------+----+----------+----------+----------+----------+----------+----------+----------+----------+----------+----------+--------+--------+--------+--------+--------+--------+--------+---------+---------+---------+---------+---------+---------+---------+--------------+-----+\n",
      "|1237648704596673596|228.13359|0.06267392|   0|  7.357505|  1.317162|  1.048602|  0.980907| 0.9447467|   23.2214|  21.66433|  20.29408|  19.12956|  18.53254|23.29687|21.69403|20.32223|19.14626|18.55519|1.557074|1.370243| 1.164522|0.5970211|      1.0|      1.0|      1.0|      0.0|      0.0|   69055021384|    1|\n",
      "|1237648704596673603|228.13571|0.13501696|   0| 0.7134073|  1.140595|  1.132749| 0.9277821|  0.931531|  24.37991|  22.96101|  21.76162|  20.41283|  19.70002|24.20988|22.96505|21.82184|20.45126|19.70096|1.418892|1.199396| 1.348785|0.7128162|      0.0|      1.0|      0.0|      1.0|      0.0|   68987912192|    1|\n",
      "|1237648704596673615|228.13838|0.18722917|   0|  1.083686|  1.201956| 0.9640225| 0.9422169|  1.116567|  23.75787|  22.49124|   21.1148|  20.39421|  19.97207|23.75588|22.50238|21.15819|20.42044| 20.0078|1.266636|1.376434|0.7205887| 0.422142|      1.0|      1.0|0.9983205|      0.0|      0.0|   68987912192|    1|\n",
      "|1237648704596673618|228.13933|0.21278109|   0|  2.969285|   1.09076|   1.08924| 0.9051506|  1.057727|  25.92635|  23.35114|  21.78671|  20.63976|  19.91965|25.89036|23.30975|21.77252|20.63534|19.91474|2.575216|1.564421| 1.146955|0.7201118|      0.0|      1.0|      0.0|      0.0|      0.0|   68987912448|    1|\n",
      "|1237648704596673620|228.14091|0.06415725|   0|  2.969285|  1.131206|  1.105575|  1.009262|  1.011155|  25.28518|  21.63824|  20.31469|  19.49671|  19.01631|25.20087|21.63558|20.32779|19.49734|19.02662|3.646946|1.323544|0.8179798| 0.480402|      1.0|      0.0| 0.511569|      0.0|      1.0|35253360001296|    1|\n",
      "+-------------------+---------+----------+----+----------+----------+----------+----------+----------+----------+----------+----------+----------+----------+--------+--------+--------+--------+--------+--------+--------+---------+---------+---------+---------+---------+---------+---------+--------------+-----+\n",
      "only showing top 5 rows\n",
      "\n",
      "+-------------------+---------+-----------+----+----------+----------+----------+----------+----------+----------+----------+----------+----------+----------+--------+--------+--------+--------+--------+---------+---------+---------+----------+---------+---------+---------+---------+----------+---------------+-----+\n",
      "|              objID|       ra|        dec|type|petroRad_u|petroRad_g|petroRad_r|petroRad_i|petroRad_z|modelMag_u|modelMag_g|modelMag_r|modelMag_i|modelMag_z|psfMag_u|psfMag_g|psfMag_r|psfMag_i|psfMag_z|      u_g|      g_r|      r_i|       i_z|fracDeV_u|fracDeV_g|fracDeV_r|fracDeV_i| fracDeV_z|          flags|clean|\n",
      "+-------------------+---------+-----------+----+----------+----------+----------+----------+----------+----------+----------+----------+----------+----------+--------+--------+--------+--------+--------+---------+---------+---------+----------+---------+---------+---------+---------+----------+---------------+-----+\n",
      "|1237648704596673591|228.13321|  0.1894192|   1|  2.969285|  2.969369|  2.220518|  1.249783|   1.62232|  23.71841|  23.55119|  21.70663|  21.07082|  20.94918|23.71531|24.25853|22.41145|21.53375|21.45539|0.1672249| 1.844557|0.6358051| 0.1216412|      1.0|      0.0|      1.0|      1.0|       1.0|316730484195600|    1|\n",
      "|1237648704596673595|228.13266| 0.15501632|   1|  2.969285|  1.167545|    1.7132|  4.193829|  1.581682|  26.23039|  23.06768|  21.60064|  21.04392|  20.49498|25.81252|23.30065|22.16619|21.59607|20.93345|  3.16271| 1.467041|0.5567226|  0.548933|      0.0|      1.0|0.5398329|      1.0|       0.0|    68987912448|    1|\n",
      "|1237648704596673597|228.13452| 0.18439688|   1|  4.583073|  1.801946|  1.712365|  1.611359|  1.693891|  24.13848|   22.0195|  21.33374|  21.02932|  21.22839|24.35229| 22.5369|21.95571|21.76257|21.68405| 2.118977|0.6857586|0.3044224|-0.1990643|0.2213039|      0.0|      0.0|      0.0|       0.0|    68987912448|    1|\n",
      "|1237648704596673600|228.13475|0.051330324|   1|  7.357505|  1.275892|  1.897987|  2.219621|  2.806328|  25.94563|  22.67289|  20.76974|  20.01449|   19.5253|25.25427|23.28042|21.51431|20.77017|20.30231| 3.272739| 1.903149|0.7552528|  0.489193|      1.0|      0.0|0.8176387|      1.0|0.05972257|    68987912448|    1|\n",
      "|1237648704596673601|228.13544|0.046520676|   1|  1.529451|  1.516517|  1.452753|  3.800702|  2.970232|  22.62748|  22.42105|  21.79902|  21.57086|  22.21361|22.84985|22.74921|22.23782|21.97033|22.15221|0.2064247|0.6220398|0.2281551|-0.6427536|      1.0|      1.0|      0.0|      1.0|       1.0|    68987912448|    1|\n",
      "+-------------------+---------+-----------+----+----------+----------+----------+----------+----------+----------+----------+----------+----------+----------+--------+--------+--------+--------+--------+---------+---------+---------+----------+---------+---------+---------+---------+----------+---------------+-----+\n",
      "only showing top 5 rows\n",
      "\n"
     ]
    }
   ],
   "source": [
    "df_stars = df.filter(df[\"type\"] == 0)\n",
    "df_galaxies = df.filter(df[\"type\"] == 1)\n",
    "\n",
    "#Print to know the conversion is correctly done\n",
    "df_stars.show(5)\n",
    "df_galaxies.show(5)"
   ]
  },
  {
   "cell_type": "markdown",
   "metadata": {},
   "source": [
    "As for the supervised machine model we won't use objID, ra, dec, flags and clean columns, we are going to remove them. "
   ]
  },
  {
   "cell_type": "code",
   "execution_count": 32,
   "metadata": {},
   "outputs": [
    {
     "name": "stdout",
     "output_type": "stream",
     "text": [
      "root\n",
      " |-- type: integer (nullable = false)\n",
      " |-- petroRad_u: float (nullable = true)\n",
      " |-- petroRad_g: float (nullable = true)\n",
      " |-- petroRad_r: float (nullable = true)\n",
      " |-- petroRad_i: float (nullable = true)\n",
      " |-- petroRad_z: float (nullable = true)\n",
      " |-- modelMag_u: float (nullable = true)\n",
      " |-- modelMag_g: float (nullable = true)\n",
      " |-- modelMag_r: float (nullable = true)\n",
      " |-- modelMag_i: float (nullable = true)\n",
      " |-- modelMag_z: float (nullable = true)\n",
      " |-- psfMag_u: float (nullable = true)\n",
      " |-- psfMag_g: float (nullable = true)\n",
      " |-- psfMag_r: float (nullable = true)\n",
      " |-- psfMag_i: float (nullable = true)\n",
      " |-- psfMag_z: float (nullable = true)\n",
      " |-- u_g: float (nullable = true)\n",
      " |-- g_r: float (nullable = true)\n",
      " |-- r_i: float (nullable = true)\n",
      " |-- i_z: float (nullable = true)\n",
      " |-- fracDeV_u: float (nullable = true)\n",
      " |-- fracDeV_g: float (nullable = true)\n",
      " |-- fracDeV_r: float (nullable = true)\n",
      " |-- fracDeV_i: float (nullable = true)\n",
      " |-- fracDeV_z: float (nullable = true)\n",
      "\n"
     ]
    }
   ],
   "source": [
    "df_ml_model = df.select(\"type\", \"petroRad_u\", \"petroRad_g\", \"petroRad_r\", \"petroRad_i\", \"petroRad_z\",\n",
    "                        \"modelMag_u\", \"modelMag_g\", \"modelMag_r\", \"modelMag_i\", \"modelMag_z\",\n",
    "                        \"psfMag_u\", \"psfMag_g\", \"psfMag_r\", \"psfMag_i\", \"psfMag_z\",\n",
    "                        \"u_g\", \"g_r\", \"r_i\", \"i_z\",\n",
    "                        \"fracDeV_u\", \"fracDeV_g\", \"fracDeV_r\", \"fracDeV_i\", \"fracDeV_z\")\n",
    "\n",
    "df_ml_model.printSchema()"
   ]
  },
  {
   "cell_type": "markdown",
   "metadata": {},
   "source": [
    "## Spark ML"
   ]
  },
  {
   "cell_type": "markdown",
   "metadata": {},
   "source": [
    "As our objective is to create a machine learning model, we need to convert the data in a correct format: Vectors."
   ]
  },
  {
   "cell_type": "code",
   "execution_count": 33,
   "metadata": {},
   "outputs": [
    {
     "data": {
      "text/plain": [
       "[Row(features=DenseVector([2.9693, 2.9694, 2.2205, 1.2498, 1.6223, 23.7184, 23.5512, 21.7066, 21.0708, 20.9492, 23.7153, 24.2585, 22.4114, 21.5338, 21.4554, 0.1672, 1.8446, 0.6358, 0.1216, 1.0, 0.0, 1.0, 1.0, 1.0]), type=1),\n",
       " Row(features=DenseVector([2.9693, 1.1675, 1.7132, 4.1938, 1.5817, 26.2304, 23.0677, 21.6006, 21.0439, 20.495, 25.8125, 23.3006, 22.1662, 21.5961, 20.9335, 3.1627, 1.467, 0.5567, 0.5489, 0.0, 1.0, 0.5398, 1.0, 0.0]), type=1),\n",
       " Row(features=DenseVector([7.3575, 1.3172, 1.0486, 0.9809, 0.9447, 23.2214, 21.6643, 20.2941, 19.1296, 18.5325, 23.2969, 21.694, 20.3222, 19.1463, 18.5552, 1.5571, 1.3702, 1.1645, 0.597, 1.0, 1.0, 1.0, 0.0, 0.0]), type=0),\n",
       " Row(features=DenseVector([4.5831, 1.8019, 1.7124, 1.6114, 1.6939, 24.1385, 22.0195, 21.3337, 21.0293, 21.2284, 24.3523, 22.5369, 21.9557, 21.7626, 21.684, 2.119, 0.6858, 0.3044, -0.1991, 0.2213, 0.0, 0.0, 0.0, 0.0]), type=1),\n",
       " Row(features=DenseVector([7.3575, 1.2759, 1.898, 2.2196, 2.8063, 25.9456, 22.6729, 20.7697, 20.0145, 19.5253, 25.2543, 23.2804, 21.5143, 20.7702, 20.3023, 3.2727, 1.9031, 0.7553, 0.4892, 1.0, 0.0, 0.8176, 1.0, 0.0597]), type=1)]"
      ]
     },
     "execution_count": 33,
     "metadata": {},
     "output_type": "execute_result"
    }
   ],
   "source": [
    "from pyspark.ml.feature import VectorAssembler\n",
    "\n",
    "features = df_ml_model.columns[1:] #We don't get the type beacuse is the result we want to get.\n",
    "assembler = VectorAssembler(inputCols = features, outputCol = \"features\") #Convert features list as a vector\n",
    "df_ml_model = assembler.transform(df_ml_model) #Apply transformation\n",
    "df_ml_model = df_ml_model.select(\"features\", \"type\")\n",
    "\n",
    "df_ml_model.head(5)"
   ]
  },
  {
   "cell_type": "markdown",
   "metadata": {},
   "source": [
    "Now, we are going to divide the dataset into train and test, so we can get the accuracy of the model."
   ]
  },
  {
   "cell_type": "code",
   "execution_count": 34,
   "metadata": {},
   "outputs": [],
   "source": [
    "train_data, test_data = df_ml_model.randomSplit([0.8, 0.2], seed = 132)"
   ]
  },
  {
   "cell_type": "markdown",
   "metadata": {},
   "source": [
    "We are going to try different models to check which is the best for our case."
   ]
  },
  {
   "cell_type": "code",
   "execution_count": 67,
   "metadata": {},
   "outputs": [],
   "source": [
    "from pyspark.ml.classification import LogisticRegression, DecisionTreeClassifier, RandomForestClassifier, GBTClassifier, LinearSVC\n",
    "\n",
    "#Define different models\n",
    "models = {\n",
    "    \"Logistic Regression\": LogisticRegression(labelCol=\"type\", featuresCol=\"features\"),\n",
    "    \"Decision Tree\": DecisionTreeClassifier(labelCol=\"type\", featuresCol=\"features\"),\n",
    "    \"Random Forest\": RandomForestClassifier(labelCol=\"type\", featuresCol=\"features\", numTrees=5),\n",
    "    \"Gradient Boosted Trees\": GBTClassifier(labelCol=\"type\", featuresCol=\"features\"),\n",
    "    \"Linear SVM\": LinearSVC(labelCol=\"type\", featuresCol=\"features\")\n",
    "}\n",
    "\n",
    "\n",
    "#lr = LogisticRegression(labelCol=\"type\", featuresCol=\"features\")\n",
    "#lr_model = lr.fit(train_data)\n",
    "#predictions = lr_model.transform(test_data)\n"
   ]
  },
  {
   "attachments": {},
   "cell_type": "markdown",
   "metadata": {},
   "source": [
    "Now, we are going to calculate the **AUC evaluator** for model and look how well they are doing. I decided to use AUC because it is a good technique to use for binary classification, especially when classes are unbalanced.\n",
    "\n",
    "Remember that the ROC curve gives a visual representation between the true prositive rate and false positive rate at different thresholds. So, it tell us how well the model can detect true positive and avoid false positives. Moreover, AUC is one scalar value from 0 to  that tell how the model performs globally. AUC represents the area beneath the curve.\n",
    "- AUC = 0.5 ⭢ Random Predictions\n",
    "- AUC > 0.5 ⭢ Increasingly good predictions\n",
    "- AUC = 1 ⭢ Perfect predictions\n",
    "\n",
    "\n",
    "\n",
    "<img src=\"/home/haizeagonzalez/myproject/bigDataAstronomy/notebookImages/img2.png\">"
   ]
  },
  {
   "cell_type": "code",
   "execution_count": 68,
   "metadata": {},
   "outputs": [
    {
     "name": "stderr",
     "output_type": "stream",
     "text": [
      "                                                                                \r"
     ]
    },
    {
     "name": "stdout",
     "output_type": "stream",
     "text": [
      "Logistic Regression: AUC = 0.9920\n"
     ]
    },
    {
     "name": "stderr",
     "output_type": "stream",
     "text": [
      "                                                                                \r"
     ]
    },
    {
     "name": "stdout",
     "output_type": "stream",
     "text": [
      "Decision Tree: AUC = 0.7914\n"
     ]
    },
    {
     "name": "stderr",
     "output_type": "stream",
     "text": [
      "                                                                                \r"
     ]
    },
    {
     "name": "stdout",
     "output_type": "stream",
     "text": [
      "Random Forest: AUC = 0.9731\n"
     ]
    },
    {
     "name": "stderr",
     "output_type": "stream",
     "text": [
      "                                                                                \r"
     ]
    },
    {
     "name": "stdout",
     "output_type": "stream",
     "text": [
      "Gradient Boosted Trees: AUC = 0.9872\n"
     ]
    },
    {
     "name": "stderr",
     "output_type": "stream",
     "text": [
      "                                                                                \r"
     ]
    },
    {
     "name": "stdout",
     "output_type": "stream",
     "text": [
      "Linear SVM: AUC = 0.9887\n"
     ]
    }
   ],
   "source": [
    "from pyspark.ml.evaluation import BinaryClassificationEvaluator\n",
    "import matplotlib.pyplot as plt\n",
    "from sklearn.metrics import roc_curve, auc\n",
    "\n",
    "\n",
    "evaluator = BinaryClassificationEvaluator(labelCol=\"type\", metricName=\"areaUnderROC\")\n",
    "\n",
    "for name, model in models.items():\n",
    "    model_trained = model.fit(train_data)\n",
    "    predictions = model_trained.transform(test_data)\n",
    "    auc = evaluator.evaluate(predictions)\n",
    "    print(f\"{name}: AUC = {auc:.4f}\")\n"
   ]
  },
  {
   "cell_type": "code",
   "execution_count": 60,
   "metadata": {},
   "outputs": [
    {
     "name": "stderr",
     "output_type": "stream",
     "text": [
      "                                                                                \r"
     ]
    },
    {
     "name": "stdout",
     "output_type": "stream",
     "text": [
      "El modelo Linear SVM no tiene la columna 'probability', no se incluirá en el gráfico.\n"
     ]
    },
    {
     "data": {
      "image/png": "[encoded data removed]",
      "text/plain": [
       "<Figure size 1000x800 with 1 Axes>"
      ]
     },
     "metadata": {},
     "output_type": "display_data"
    }
   ],
   "source": [
    "import matplotlib.pyplot as plt\n",
    "from sklearn.metrics import roc_curve, auc\n",
    "\n",
    "#Create the figure\n",
    "plt.figure(figsize=(10, 8))\n",
    "\n",
    "#Different colors for the different models\n",
    "colors = ['b', 'g', 'r', 'c', 'm', 'y', 'k']\n",
    "\n",
    "#For each model compute the AUC\n",
    "for idx, (name, model) in enumerate(models.items()):\n",
    "    model_trained = model.fit(train_data)\n",
    "    predictions = model_trained.transform(test_data) #Predicted class (0 or 1)\n",
    "\n",
    "    #Check if the model has \"probability\" column because some of them (SVG for example) do not\n",
    "    if \"probability\" in predictions.columns:\n",
    "        #Get the whole probability vector, convert it into rdd and select the probability for the positive (real) prediction\n",
    "        prob_positives = predictions.select(\"probability\").rdd.map(lambda row: row[0][1]).collect()\n",
    "        #Get the label for each prediction\n",
    "        true_labels = predictions.select(\"type\").rdd.map(lambda row: row[0]).collect()\n",
    "\n",
    "        #Calculate ROC curve\n",
    "        fpr, tpr, _ = roc_curve(true_labels, prob_positives)\n",
    "        roc_auc = auc(fpr, tpr)\n",
    "\n",
    "        #Plot it\n",
    "        plt.plot(fpr, tpr, color=colors[idx % len(colors)], lw=2, label=f'{name} (AUC = {roc_auc:.4f})')\n",
    "    else:\n",
    "        print(f\"El modelo {name} no tiene la columna 'probability', no se incluirá en el gráfico.\")\n",
    "\n",
    "#Different parameters to personalize the plot\n",
    "plt.plot([0, 1], [0, 1], color='gray', linestyle='--')  #Diagonal line of \"random\"\n",
    "plt.xlim([0.0, 1.0])\n",
    "plt.ylim([0.0, 1.05])\n",
    "plt.xlabel(\"False Positive Rate\")\n",
    "plt.ylabel(\"True Positive Rate\")\n",
    "plt.title(\"ROC Curve\")\n",
    "plt.legend(loc=\"lower right\")\n",
    "plt.grid()\n",
    "\n",
    "plt.show()"
   ]
  },
  {
   "cell_type": "code",
   "execution_count": 21,
   "metadata": {},
   "outputs": [
    {
     "name": "stderr",
     "output_type": "stream",
     "text": [
      "                                                                                \r"
     ]
    },
    {
     "name": "stdout",
     "output_type": "stream",
     "text": [
      "+----+----------+-------+\n",
      "|type|prediction|  count|\n",
      "+----+----------+-------+\n",
      "|   1|       0.0|  32290|\n",
      "|   0|       0.0| 722858|\n",
      "|   1|       1.0|1977943|\n",
      "|   0|       1.0|  66487|\n",
      "+----+----------+-------+\n",
      "\n"
     ]
    },
    {
     "name": "stderr",
     "output_type": "stream",
     "text": [
      "[Stage 284:============================>                            (4 + 4) / 8]\r"
     ]
    },
    {
     "name": "stdout",
     "output_type": "stream",
     "text": [
      "+----+----------+------+\n",
      "|type|prediction| count|\n",
      "+----+----------+------+\n",
      "|   1|       0.0|  8297|\n",
      "|   0|       0.0|180740|\n",
      "|   1|       1.0|494931|\n",
      "|   0|       1.0| 16454|\n",
      "+----+----------+------+\n",
      "\n"
     ]
    },
    {
     "name": "stderr",
     "output_type": "stream",
     "text": [
      "                                                                                \r"
     ]
    }
   ],
   "source": [
    "train_predictions.groupBy(\"type\", \"prediction\").count().show()\n",
    "test_predictions.groupBy(\"type\", \"prediction\").count().show()"
   ]
  },
  {
   "cell_type": "markdown",
   "metadata": {},
   "source": [
    "AUC en entrenamiento y prueba:\n",
    "Tienes un AUC muy alto (0.9918 en entrenamiento y 0.9919 en prueba), lo cual es excelente y sugiere que tu modelo está prediciendo bien. Sin embargo, el hecho de que AUC en entrenamiento y prueba sean tan similares es una buena señal de que no hay overfitting en términos de rendimiento global.\n",
    "\n",
    "\n",
    "Matriz de Confusión: La matriz de confusión muestra que el modelo tiene un desbalance significativo entre las clases. Aquí hay algunos puntos clave:\n",
    "\n",
    "Predicciones clase 0 (mayoría):\n",
    "El modelo predice 0 en casi todos los casos (más de 720,000 para 0.0 en lugar de 1.0).\n",
    "Clase 0: Muy bien predicha, pero alta tasa de falsos positivos (66487 predicciones 1.0 cuando deberían ser 0).\n",
    "Predicciones clase 1 (minoría):\n",
    "Predice 1 correctamente en muchos casos (casi 2 millones de predicciones de 1.0), pero hay algunos falsos negativos (8297 predicciones 0.0 cuando deberían ser 1).\n",
    "Conclusión sobre la matriz de confusión:\n",
    "\n",
    "El modelo predice mayormente la clase 0, lo que podría indicar un desbalance de clases (más ejemplos de clase 0 que de clase 1).\n",
    "Si la clase minoritaria (1) tiene menos ejemplos, el modelo podría estar favoreciendo la clase mayoritaria, lo que no es necesariamente un problema, pero puede ser útil ajustarlo."
   ]
  },
  {
   "cell_type": "markdown",
   "metadata": {},
   "source": [
    "AUC de entrenamiento ≈ AUC de prueba: No parece haber overfitting ya que la diferencia entre el AUC en entrenamiento y prueba es muy pequeña.\n",
    "\n",
    "Desbalance de clases: Podría ser que el modelo esté demasiado inclinado a predecir la clase mayoritaria (0), lo cual es común en datasets desbalanceados."
   ]
  },
  {
   "cell_type": "markdown",
   "metadata": {},
   "source": [
    "Posibles mejoras: Regularizacion"
   ]
  },
  {
   "cell_type": "code",
   "execution_count": 22,
   "metadata": {},
   "outputs": [
    {
     "name": "stderr",
     "output_type": "stream",
     "text": [
      "                                                                                \r"
     ]
    },
    {
     "name": "stdout",
     "output_type": "stream",
     "text": [
      "AUC con regularización: 0.9056\n"
     ]
    }
   ],
   "source": [
    "lr_with_reg = LogisticRegression(labelCol=\"type\", featuresCol=\"features\", maxIter=100, regParam=0.1)  # Puedes ajustar regParam\n",
    "model_with_reg = lr_with_reg.fit(train_data)\n",
    "\n",
    "# Evaluar el modelo con regularización\n",
    "predictions_with_reg = model_with_reg.transform(test_data)\n",
    "auc_with_reg = evaluator2.evaluate(predictions_with_reg)\n",
    "print(f\"AUC con regularización: {auc_with_reg:.4f}\")"
   ]
  },
  {
   "cell_type": "markdown",
   "metadata": {},
   "source": [
    "# Images"
   ]
  },
  {
   "attachments": {},
   "cell_type": "markdown",
   "metadata": {},
   "source": [
    "As I need also de images, I have downloaded from https://skyserver.sdss.org/dr18, specifying with a request:\n",
    "- the location of the object (with right ascension (RA) and declination (dec))\n",
    "- the zoom of the picture (scale)\n",
    "- the dimmensions of the photo (with and height)"
   ]
  }
 ],
 "metadata": {
  "kernelspec": {
   "display_name": "bigdataenv",
   "language": "python",
   "name": "python3"
  },
  "language_info": {
   "codemirror_mode": {
    "name": "ipython",
    "version": 3
   },
   "file_extension": ".py",
   "mimetype": "text/x-python",
   "name": "python",
   "nbconvert_exporter": "python",
   "pygments_lexer": "ipython3",
   "version": "3.12.3"
  },
  "orig_nbformat": 4
 },
 "nbformat": 4,
 "nbformat_minor": 2
}
